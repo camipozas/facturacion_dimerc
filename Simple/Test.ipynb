{
 "cells": [
  {
   "cell_type": "code",
   "execution_count": 1,
   "id": "developmental-inspection",
   "metadata": {},
   "outputs": [],
   "source": [
    "import numpy as np\n",
    "import pandas as pd\n",
    "import itertools as it\n",
    "import pdb"
   ]
  },
  {
   "cell_type": "code",
   "execution_count": 2,
   "id": "pleasant-activity",
   "metadata": {},
   "outputs": [],
   "source": [
    "%load_ext line_profiler"
   ]
  },
  {
   "cell_type": "code",
   "execution_count": 3,
   "id": "specified-creature",
   "metadata": {},
   "outputs": [
    {
     "data": {
      "text/html": [
       "<div>\n",
       "<style scoped>\n",
       "    .dataframe tbody tr th:only-of-type {\n",
       "        vertical-align: middle;\n",
       "    }\n",
       "\n",
       "    .dataframe tbody tr th {\n",
       "        vertical-align: top;\n",
       "    }\n",
       "\n",
       "    .dataframe thead th {\n",
       "        text-align: right;\n",
       "    }\n",
       "</style>\n",
       "<table border=\"1\" class=\"dataframe\">\n",
       "  <thead>\n",
       "    <tr style=\"text-align: right;\">\n",
       "      <th></th>\n",
       "      <th>Documento</th>\n",
       "      <th>Nombre</th>\n",
       "      <th>Deuda</th>\n",
       "    </tr>\n",
       "  </thead>\n",
       "  <tbody>\n",
       "    <tr>\n",
       "      <th>0</th>\n",
       "      <td>101</td>\n",
       "      <td>Alice</td>\n",
       "      <td>21</td>\n",
       "    </tr>\n",
       "    <tr>\n",
       "      <th>1</th>\n",
       "      <td>102</td>\n",
       "      <td>Bob</td>\n",
       "      <td>123</td>\n",
       "    </tr>\n",
       "    <tr>\n",
       "      <th>2</th>\n",
       "      <td>103</td>\n",
       "      <td>Alice</td>\n",
       "      <td>84</td>\n",
       "    </tr>\n",
       "    <tr>\n",
       "      <th>3</th>\n",
       "      <td>104</td>\n",
       "      <td>Carol</td>\n",
       "      <td>49</td>\n",
       "    </tr>\n",
       "  </tbody>\n",
       "</table>\n",
       "</div>"
      ],
      "text/plain": [
       "   Documento Nombre  Deuda\n",
       "0        101  Alice     21\n",
       "1        102    Bob    123\n",
       "2        103  Alice     84\n",
       "3        104  Carol     49"
      ]
     },
     "execution_count": 3,
     "metadata": {},
     "output_type": "execute_result"
    }
   ],
   "source": [
    "df_A = pd.read_excel(\"Deudas.xlsx\")\n",
    "df_A"
   ]
  },
  {
   "cell_type": "code",
   "execution_count": 4,
   "id": "improving-poland",
   "metadata": {},
   "outputs": [
    {
     "data": {
      "text/html": [
       "<div>\n",
       "<style scoped>\n",
       "    .dataframe tbody tr th:only-of-type {\n",
       "        vertical-align: middle;\n",
       "    }\n",
       "\n",
       "    .dataframe tbody tr th {\n",
       "        vertical-align: top;\n",
       "    }\n",
       "\n",
       "    .dataframe thead th {\n",
       "        text-align: right;\n",
       "    }\n",
       "</style>\n",
       "<table border=\"1\" class=\"dataframe\">\n",
       "  <thead>\n",
       "    <tr style=\"text-align: right;\">\n",
       "      <th></th>\n",
       "      <th>Documento</th>\n",
       "      <th>Nombre</th>\n",
       "      <th>Pago</th>\n",
       "    </tr>\n",
       "  </thead>\n",
       "  <tbody>\n",
       "    <tr>\n",
       "      <th>0</th>\n",
       "      <td>201</td>\n",
       "      <td>Bob</td>\n",
       "      <td>59</td>\n",
       "    </tr>\n",
       "    <tr>\n",
       "      <th>1</th>\n",
       "      <td>202</td>\n",
       "      <td>Alice</td>\n",
       "      <td>49</td>\n",
       "    </tr>\n",
       "    <tr>\n",
       "      <th>2</th>\n",
       "      <td>203</td>\n",
       "      <td>Carol</td>\n",
       "      <td>21</td>\n",
       "    </tr>\n",
       "    <tr>\n",
       "      <th>3</th>\n",
       "      <td>204</td>\n",
       "      <td>Alice</td>\n",
       "      <td>21</td>\n",
       "    </tr>\n",
       "    <tr>\n",
       "      <th>4</th>\n",
       "      <td>205</td>\n",
       "      <td>Bob</td>\n",
       "      <td>64</td>\n",
       "    </tr>\n",
       "    <tr>\n",
       "      <th>5</th>\n",
       "      <td>206</td>\n",
       "      <td>Bob</td>\n",
       "      <td>27</td>\n",
       "    </tr>\n",
       "    <tr>\n",
       "      <th>6</th>\n",
       "      <td>207</td>\n",
       "      <td>Alice</td>\n",
       "      <td>14</td>\n",
       "    </tr>\n",
       "    <tr>\n",
       "      <th>7</th>\n",
       "      <td>208</td>\n",
       "      <td>Carol</td>\n",
       "      <td>12</td>\n",
       "    </tr>\n",
       "    <tr>\n",
       "      <th>8</th>\n",
       "      <td>209</td>\n",
       "      <td>Alice</td>\n",
       "      <td>15</td>\n",
       "    </tr>\n",
       "    <tr>\n",
       "      <th>9</th>\n",
       "      <td>210</td>\n",
       "      <td>Carol</td>\n",
       "      <td>37</td>\n",
       "    </tr>\n",
       "    <tr>\n",
       "      <th>10</th>\n",
       "      <td>211</td>\n",
       "      <td>Carol</td>\n",
       "      <td>28</td>\n",
       "    </tr>\n",
       "  </tbody>\n",
       "</table>\n",
       "</div>"
      ],
      "text/plain": [
       "    Documento Nombre  Pago\n",
       "0         201    Bob    59\n",
       "1         202  Alice    49\n",
       "2         203  Carol    21\n",
       "3         204  Alice    21\n",
       "4         205    Bob    64\n",
       "5         206    Bob    27\n",
       "6         207  Alice    14\n",
       "7         208  Carol    12\n",
       "8         209  Alice    15\n",
       "9         210  Carol    37\n",
       "10        211  Carol    28"
      ]
     },
     "execution_count": 4,
     "metadata": {},
     "output_type": "execute_result"
    }
   ],
   "source": [
    "df_B = pd.read_excel(\"Pagos.xlsx\")\n",
    "df_B"
   ]
  },
  {
   "cell_type": "markdown",
   "id": "ad555bf5",
   "metadata": {},
   "source": [
    "## Uno-a-muchos"
   ]
  },
  {
   "cell_type": "code",
   "execution_count": 5,
   "id": "cubic-intranet",
   "metadata": {},
   "outputs": [],
   "source": [
    "# NOTA: Aquí el mismo documento de pago puede ser pareado en distintos calces.\n",
    "# Esto se debe arreglar\n",
    "def funcion(fila, grupos):\n",
    "    seleccion = grupos.get_group(fila[\"Nombre\"])\n",
    "    for largo in range(1, seleccion.size + 1):\n",
    "        for comb in it.combinations(seleccion.index, largo):\n",
    "            subseleccion = seleccion.loc[list(comb)]\n",
    "            if fila[\"Deuda\"] == subseleccion[\"Pago\"].sum():\n",
    "                resultado = pd.merge(pd.DataFrame(fila).T, subseleccion, on=\"Nombre\")\n",
    "                return resultado\n",
    "    return pd.DataFrame(columns=seleccion.columns)"
   ]
  },
  {
   "cell_type": "code",
   "execution_count": 6,
   "id": "b608cd33",
   "metadata": {},
   "outputs": [
    {
     "data": {
      "text/html": [
       "<div>\n",
       "<style scoped>\n",
       "    .dataframe tbody tr th:only-of-type {\n",
       "        vertical-align: middle;\n",
       "    }\n",
       "\n",
       "    .dataframe tbody tr th {\n",
       "        vertical-align: top;\n",
       "    }\n",
       "\n",
       "    .dataframe thead th {\n",
       "        text-align: right;\n",
       "    }\n",
       "</style>\n",
       "<table border=\"1\" class=\"dataframe\">\n",
       "  <thead>\n",
       "    <tr style=\"text-align: right;\">\n",
       "      <th></th>\n",
       "      <th>Documento_x</th>\n",
       "      <th>Nombre</th>\n",
       "      <th>Deuda</th>\n",
       "      <th>Documento_y</th>\n",
       "      <th>Pago</th>\n",
       "    </tr>\n",
       "  </thead>\n",
       "  <tbody>\n",
       "    <tr>\n",
       "      <th>0</th>\n",
       "      <td>101</td>\n",
       "      <td>Alice</td>\n",
       "      <td>21</td>\n",
       "      <td>204</td>\n",
       "      <td>21</td>\n",
       "    </tr>\n",
       "    <tr>\n",
       "      <th>0</th>\n",
       "      <td>102</td>\n",
       "      <td>Bob</td>\n",
       "      <td>123</td>\n",
       "      <td>201</td>\n",
       "      <td>59</td>\n",
       "    </tr>\n",
       "    <tr>\n",
       "      <th>1</th>\n",
       "      <td>102</td>\n",
       "      <td>Bob</td>\n",
       "      <td>123</td>\n",
       "      <td>205</td>\n",
       "      <td>64</td>\n",
       "    </tr>\n",
       "    <tr>\n",
       "      <th>0</th>\n",
       "      <td>103</td>\n",
       "      <td>Alice</td>\n",
       "      <td>84</td>\n",
       "      <td>202</td>\n",
       "      <td>49</td>\n",
       "    </tr>\n",
       "    <tr>\n",
       "      <th>1</th>\n",
       "      <td>103</td>\n",
       "      <td>Alice</td>\n",
       "      <td>84</td>\n",
       "      <td>204</td>\n",
       "      <td>21</td>\n",
       "    </tr>\n",
       "    <tr>\n",
       "      <th>2</th>\n",
       "      <td>103</td>\n",
       "      <td>Alice</td>\n",
       "      <td>84</td>\n",
       "      <td>207</td>\n",
       "      <td>14</td>\n",
       "    </tr>\n",
       "    <tr>\n",
       "      <th>0</th>\n",
       "      <td>104</td>\n",
       "      <td>Carol</td>\n",
       "      <td>49</td>\n",
       "      <td>203</td>\n",
       "      <td>21</td>\n",
       "    </tr>\n",
       "    <tr>\n",
       "      <th>1</th>\n",
       "      <td>104</td>\n",
       "      <td>Carol</td>\n",
       "      <td>49</td>\n",
       "      <td>211</td>\n",
       "      <td>28</td>\n",
       "    </tr>\n",
       "  </tbody>\n",
       "</table>\n",
       "</div>"
      ],
      "text/plain": [
       "  Documento_x Nombre Deuda  Documento_y  Pago\n",
       "0         101  Alice    21          204    21\n",
       "0         102    Bob   123          201    59\n",
       "1         102    Bob   123          205    64\n",
       "0         103  Alice    84          202    49\n",
       "1         103  Alice    84          204    21\n",
       "2         103  Alice    84          207    14\n",
       "0         104  Carol    49          203    21\n",
       "1         104  Carol    49          211    28"
      ]
     },
     "execution_count": 6,
     "metadata": {},
     "output_type": "execute_result"
    }
   ],
   "source": [
    "grupos = df_B.groupby(\"Nombre\")\n",
    "pd.concat(list(df_A.apply(funcion, args=(grupos,), axis=1)))"
   ]
  },
  {
   "cell_type": "code",
   "execution_count": 7,
   "id": "extreme-brave",
   "metadata": {},
   "outputs": [
    {
     "name": "stdout",
     "output_type": "stream",
     "text": [
      "20.5 ms ± 653 µs per loop (mean ± std. dev. of 7 runs, 10 loops each)\n"
     ]
    }
   ],
   "source": [
    "%timeit pd.concat(list(df_A.apply(funcion, args=(grupos,), axis=1)))"
   ]
  },
  {
   "cell_type": "code",
   "execution_count": 8,
   "id": "latin-visitor",
   "metadata": {},
   "outputs": [],
   "source": [
    "%lprun -f funcion funcion(df_A.iloc[1], grupos)"
   ]
  },
  {
   "cell_type": "markdown",
   "id": "a721f88d",
   "metadata": {},
   "source": [
    "## Uno-a-uno, luego uno-a-todos y después uno-a-muchos (EN PROCESO)"
   ]
  },
  {
   "cell_type": "code",
   "execution_count": 9,
   "id": "least-plasma",
   "metadata": {
    "scrolled": true
   },
   "outputs": [],
   "source": [
    "def procesar(df_A, df_B):\n",
    "    merge = pd.merge(df_A, df_B, on=\"Nombre\")\n",
    "    \n",
    "    # Uno-a-uno\n",
    "    match_1 = merge[merge[\"Deuda\"] == merge[\"Pago\"]]\n",
    "    match_1 = match_1.drop_duplicates(subset=\"Documento_y\")\n",
    "    \n",
    "    merge = merge[(~merge[\"Documento_x\"].isin(match_1[\"Documento_x\"])) & (~merge[\"Documento_y\"].isin(match_1[\"Documento_y\"]))]\n",
    "    \n",
    "    # Uno-a-todos\n",
    "    # <código>\n",
    "    \n",
    "    # Uno-a-muchos\n",
    "    # <código>\n",
    "    \n",
    "    return match_1"
   ]
  },
  {
   "cell_type": "code",
   "execution_count": 10,
   "id": "abc81f3a",
   "metadata": {},
   "outputs": [
    {
     "data": {
      "text/html": [
       "<div>\n",
       "<style scoped>\n",
       "    .dataframe tbody tr th:only-of-type {\n",
       "        vertical-align: middle;\n",
       "    }\n",
       "\n",
       "    .dataframe tbody tr th {\n",
       "        vertical-align: top;\n",
       "    }\n",
       "\n",
       "    .dataframe thead th {\n",
       "        text-align: right;\n",
       "    }\n",
       "</style>\n",
       "<table border=\"1\" class=\"dataframe\">\n",
       "  <thead>\n",
       "    <tr style=\"text-align: right;\">\n",
       "      <th></th>\n",
       "      <th>Documento_x</th>\n",
       "      <th>Nombre</th>\n",
       "      <th>Deuda</th>\n",
       "      <th>Documento_y</th>\n",
       "      <th>Pago</th>\n",
       "    </tr>\n",
       "  </thead>\n",
       "  <tbody>\n",
       "    <tr>\n",
       "      <th>1</th>\n",
       "      <td>101</td>\n",
       "      <td>Alice</td>\n",
       "      <td>21</td>\n",
       "      <td>204</td>\n",
       "      <td>21</td>\n",
       "    </tr>\n",
       "  </tbody>\n",
       "</table>\n",
       "</div>"
      ],
      "text/plain": [
       "   Documento_x Nombre  Deuda  Documento_y  Pago\n",
       "1          101  Alice     21          204    21"
      ]
     },
     "execution_count": 10,
     "metadata": {},
     "output_type": "execute_result"
    }
   ],
   "source": [
    "procesar(df_A, df_B)"
   ]
  },
  {
   "cell_type": "code",
   "execution_count": 11,
   "id": "b9d6d482",
   "metadata": {},
   "outputs": [],
   "source": [
    "%lprun -f procesar procesar(df_A, df_B)"
   ]
  },
  {
   "cell_type": "code",
   "execution_count": null,
   "id": "eb940e63",
   "metadata": {},
   "outputs": [],
   "source": []
  }
 ],
 "metadata": {
  "kernelspec": {
   "display_name": "Python 3 (ipykernel)",
   "language": "python",
   "name": "python3"
  },
  "language_info": {
   "codemirror_mode": {
    "name": "ipython",
    "version": 3
   },
   "file_extension": ".py",
   "mimetype": "text/x-python",
   "name": "python",
   "nbconvert_exporter": "python",
   "pygments_lexer": "ipython3",
   "version": "3.9.7"
  }
 },
 "nbformat": 4,
 "nbformat_minor": 5
}
