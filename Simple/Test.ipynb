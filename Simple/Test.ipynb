{
 "cells": [
  {
   "cell_type": "code",
   "execution_count": 1,
   "id": "developmental-inspection",
   "metadata": {},
   "outputs": [],
   "source": [
    "import numpy as np\n",
    "import pandas as pd\n",
    "import itertools as it\n",
    "import pdb"
   ]
  },
  {
   "cell_type": "code",
   "execution_count": 2,
   "id": "pleasant-activity",
   "metadata": {},
   "outputs": [],
   "source": [
    "%load_ext line_profiler"
   ]
  },
  {
   "cell_type": "code",
   "execution_count": 3,
   "id": "specified-creature",
   "metadata": {},
   "outputs": [
    {
     "data": {
      "text/html": [
       "<div>\n",
       "<style scoped>\n",
       "    .dataframe tbody tr th:only-of-type {\n",
       "        vertical-align: middle;\n",
       "    }\n",
       "\n",
       "    .dataframe tbody tr th {\n",
       "        vertical-align: top;\n",
       "    }\n",
       "\n",
       "    .dataframe thead th {\n",
       "        text-align: right;\n",
       "    }\n",
       "</style>\n",
       "<table border=\"1\" class=\"dataframe\">\n",
       "  <thead>\n",
       "    <tr style=\"text-align: right;\">\n",
       "      <th></th>\n",
       "      <th>Documento</th>\n",
       "      <th>Nombre</th>\n",
       "      <th>Deuda</th>\n",
       "    </tr>\n",
       "  </thead>\n",
       "  <tbody>\n",
       "    <tr>\n",
       "      <th>0</th>\n",
       "      <td>101</td>\n",
       "      <td>Alice</td>\n",
       "      <td>21</td>\n",
       "    </tr>\n",
       "    <tr>\n",
       "      <th>1</th>\n",
       "      <td>102</td>\n",
       "      <td>Bob</td>\n",
       "      <td>123</td>\n",
       "    </tr>\n",
       "    <tr>\n",
       "      <th>2</th>\n",
       "      <td>103</td>\n",
       "      <td>Alice</td>\n",
       "      <td>84</td>\n",
       "    </tr>\n",
       "    <tr>\n",
       "      <th>3</th>\n",
       "      <td>104</td>\n",
       "      <td>Carol</td>\n",
       "      <td>49</td>\n",
       "    </tr>\n",
       "  </tbody>\n",
       "</table>\n",
       "</div>"
      ],
      "text/plain": [
       "   Documento Nombre  Deuda\n",
       "0        101  Alice     21\n",
       "1        102    Bob    123\n",
       "2        103  Alice     84\n",
       "3        104  Carol     49"
      ]
     },
     "execution_count": 3,
     "metadata": {},
     "output_type": "execute_result"
    }
   ],
   "source": [
    "df_A = pd.read_excel(\"Deudas.xlsx\")\n",
    "df_A"
   ]
  },
  {
   "cell_type": "code",
   "execution_count": 4,
   "id": "improving-poland",
   "metadata": {},
   "outputs": [
    {
     "data": {
      "text/html": [
       "<div>\n",
       "<style scoped>\n",
       "    .dataframe tbody tr th:only-of-type {\n",
       "        vertical-align: middle;\n",
       "    }\n",
       "\n",
       "    .dataframe tbody tr th {\n",
       "        vertical-align: top;\n",
       "    }\n",
       "\n",
       "    .dataframe thead th {\n",
       "        text-align: right;\n",
       "    }\n",
       "</style>\n",
       "<table border=\"1\" class=\"dataframe\">\n",
       "  <thead>\n",
       "    <tr style=\"text-align: right;\">\n",
       "      <th></th>\n",
       "      <th>Documento</th>\n",
       "      <th>Nombre</th>\n",
       "      <th>Pago</th>\n",
       "    </tr>\n",
       "  </thead>\n",
       "  <tbody>\n",
       "    <tr>\n",
       "      <th>0</th>\n",
       "      <td>201</td>\n",
       "      <td>Bob</td>\n",
       "      <td>59</td>\n",
       "    </tr>\n",
       "    <tr>\n",
       "      <th>1</th>\n",
       "      <td>202</td>\n",
       "      <td>Alice</td>\n",
       "      <td>49</td>\n",
       "    </tr>\n",
       "    <tr>\n",
       "      <th>2</th>\n",
       "      <td>203</td>\n",
       "      <td>Carol</td>\n",
       "      <td>21</td>\n",
       "    </tr>\n",
       "    <tr>\n",
       "      <th>3</th>\n",
       "      <td>204</td>\n",
       "      <td>Alice</td>\n",
       "      <td>21</td>\n",
       "    </tr>\n",
       "    <tr>\n",
       "      <th>4</th>\n",
       "      <td>205</td>\n",
       "      <td>Bob</td>\n",
       "      <td>64</td>\n",
       "    </tr>\n",
       "    <tr>\n",
       "      <th>5</th>\n",
       "      <td>206</td>\n",
       "      <td>Bob</td>\n",
       "      <td>27</td>\n",
       "    </tr>\n",
       "    <tr>\n",
       "      <th>6</th>\n",
       "      <td>207</td>\n",
       "      <td>Alice</td>\n",
       "      <td>14</td>\n",
       "    </tr>\n",
       "    <tr>\n",
       "      <th>7</th>\n",
       "      <td>208</td>\n",
       "      <td>Carol</td>\n",
       "      <td>12</td>\n",
       "    </tr>\n",
       "    <tr>\n",
       "      <th>8</th>\n",
       "      <td>209</td>\n",
       "      <td>Alice</td>\n",
       "      <td>15</td>\n",
       "    </tr>\n",
       "    <tr>\n",
       "      <th>9</th>\n",
       "      <td>210</td>\n",
       "      <td>Carol</td>\n",
       "      <td>37</td>\n",
       "    </tr>\n",
       "    <tr>\n",
       "      <th>10</th>\n",
       "      <td>211</td>\n",
       "      <td>Carol</td>\n",
       "      <td>28</td>\n",
       "    </tr>\n",
       "  </tbody>\n",
       "</table>\n",
       "</div>"
      ],
      "text/plain": [
       "    Documento Nombre  Pago\n",
       "0         201    Bob    59\n",
       "1         202  Alice    49\n",
       "2         203  Carol    21\n",
       "3         204  Alice    21\n",
       "4         205    Bob    64\n",
       "5         206    Bob    27\n",
       "6         207  Alice    14\n",
       "7         208  Carol    12\n",
       "8         209  Alice    15\n",
       "9         210  Carol    37\n",
       "10        211  Carol    28"
      ]
     },
     "execution_count": 4,
     "metadata": {},
     "output_type": "execute_result"
    }
   ],
   "source": [
    "df_B = pd.read_excel(\"Pagos.xlsx\")\n",
    "df_B"
   ]
  },
  {
   "cell_type": "markdown",
   "id": "ad555bf5",
   "metadata": {},
   "source": [
    "## Uno-a-muchos"
   ]
  },
  {
   "cell_type": "code",
   "execution_count": 5,
   "id": "traditional-israeli",
   "metadata": {},
   "outputs": [
    {
     "name": "stdout",
     "output_type": "stream",
     "text": [
      "593 µs ± 17.8 µs per loop (mean ± std. dev. of 7 runs, 1000 loops each)\n"
     ]
    }
   ],
   "source": [
    "%timeit df_B.groupby(\"Nombre\")[\"Documento\"].apply(lambda x: x.values)"
   ]
  },
  {
   "cell_type": "code",
   "execution_count": 6,
   "id": "printable-stylus",
   "metadata": {},
   "outputs": [],
   "source": [
    "def obtener_documentos_por_nombre(nombres, documentos, pagos):\n",
    "    # nombres_unicos = [Alice Bob Carol]\n",
    "    n_uni = np.unique(nombres)\n",
    "    \n",
    "    i_ord = np.argsort(nombres)\n",
    "    # nombres_ordenados = [Alice Alice Alice Alice || Bob Bob Bob || Carol Carol Carol Carol]\n",
    "    n_ord = nombres[i_ord]\n",
    "    # documentos_ordenados = [202 204 207 209 || 201 205 206 || 203 208 210 211]\n",
    "    d_ord = documentos[i_ord]\n",
    "    # pagos_ordenados = [49 21 14 15 || 59 64 27 || 21 12 37 28]\n",
    "    p_ord = pagos[i_ord]\n",
    "    \n",
    "    # Buscar los límites de los grupos, por ejemplo, dónde deja de ser Alice para pasar a ser Bob, etc\n",
    "    #  |A A A A|B B B|C C C C|\n",
    "    # [1 0 0 0 1 0 0 1 0 0 0 1]\n",
    "    # lim = [0 4 7 11]\n",
    "    lim = np.where(np.append([\"\"], n_ord) != np.append(n_ord, [\"\"]))[0]\n",
    "    \n",
    "    diccionario = {nombre: np.array([d_ord[lim[i]:lim[i+1]], p_ord[lim[i]:lim[i+1]]]) for i, nombre in enumerate(n_uni)}\n",
    "    \n",
    "    return diccionario"
   ]
  },
  {
   "cell_type": "code",
   "execution_count": 7,
   "id": "funny-brown",
   "metadata": {
    "scrolled": true
   },
   "outputs": [
    {
     "data": {
      "text/plain": [
       "{'Alice': array([[202, 204, 207, 209],\n",
       "        [ 49,  21,  14,  15]], dtype=int64),\n",
       " 'Bob': array([[201, 205, 206],\n",
       "        [ 59,  64,  27]], dtype=int64),\n",
       " 'Carol': array([[203, 208, 210, 211],\n",
       "        [ 21,  12,  37,  28]], dtype=int64)}"
      ]
     },
     "execution_count": 7,
     "metadata": {},
     "output_type": "execute_result"
    }
   ],
   "source": [
    "obtener_documentos_por_nombre(df_B[\"Nombre\"].values, df_B[\"Documento\"].values, df_B[\"Pago\"].values)"
   ]
  },
  {
   "cell_type": "code",
   "execution_count": 10,
   "id": "weekly-nelson",
   "metadata": {},
   "outputs": [],
   "source": [
    "def agrupar(ids3, doc3, mon3, ids5, doc5, mon5):\n",
    "    ids_uni = np.intersect1d(ids3, ids5)\n",
    "    \n",
    "    # Ordenar IDs, documentos y montos en base a las IDs\n",
    "    ind3_ord = np.argsort(ids3)\n",
    "    ids3_ord = ids3[ind3_ord]\n",
    "    doc3_ord = doc3[ind3_ord]\n",
    "    mon3_ord = mon3[ind3_ord]\n",
    "    \n",
    "    ind5_ord = np.argsort(ids5)\n",
    "    ids5_ord = ids5[ind5_ord]\n",
    "    doc5_ord = doc5[ind5_ord]\n",
    "    mon5_ord = mon5[ind5_ord]\n",
    "    \n",
    "    # Registrar los cambios de grupos, es decir, cuándo un elemento ya no es igual al siguiente\n",
    "    # Para eso, comparar el arreglo de IDs con una copia desplazada de sí mismo\n",
    "    lim3 = np.where(np.append([\"\"], ids3_ord) != np.append(ids3_ord, [\"\"]))[0]\n",
    "    lim5 = np.where(np.append([\"\"], ids5_ord) != np.append(ids5_ord, [\"\"]))[0]\n",
    "    \n",
    "    # Obtener los grupos\n",
    "    n_ids = len(ids_uni)\n",
    "    lista = [\n",
    "        (\n",
    "            doc3_ord[lim3[i] : lim3[i+1]],\n",
    "            mon3_ord[lim3[i] : lim3[i+1]],\n",
    "            doc5_ord[lim5[i] : lim5[i+1]],\n",
    "            mon5_ord[lim5[i] : lim5[i+1]]\n",
    "        ) for i in range(n_ids)\n",
    "    ]\n",
    "    \n",
    "    # return ids_uni, doc3_grp, mon3_grp, doc5_grp, mon5_grp\n",
    "    return ids_uni, *zip(*lista)"
   ]
  },
  {
   "cell_type": "code",
   "execution_count": 11,
   "id": "presidential-niger",
   "metadata": {},
   "outputs": [
    {
     "data": {
      "text/plain": [
       "(array(['Alice', 'Bob', 'Carol'], dtype=object),\n",
       " (array([101, 103], dtype=int64),\n",
       "  array([102], dtype=int64),\n",
       "  array([104], dtype=int64)),\n",
       " (array([21, 84], dtype=int64),\n",
       "  array([123], dtype=int64),\n",
       "  array([49], dtype=int64)),\n",
       " (array([202, 204, 207, 209], dtype=int64),\n",
       "  array([201, 205, 206], dtype=int64),\n",
       "  array([203, 208, 210, 211], dtype=int64)),\n",
       " (array([49, 21, 14, 15], dtype=int64),\n",
       "  array([59, 64, 27], dtype=int64),\n",
       "  array([21, 12, 37, 28], dtype=int64)))"
      ]
     },
     "execution_count": 11,
     "metadata": {},
     "output_type": "execute_result"
    }
   ],
   "source": [
    "ids3 = df_A[\"Nombre\"].values\n",
    "doc3 = df_A[\"Documento\"].values\n",
    "mon3 = df_A[\"Deuda\"].values\n",
    "\n",
    "ids5 = df_B[\"Nombre\"].values\n",
    "doc5 = df_B[\"Documento\"].values\n",
    "mon5 = df_B[\"Pago\"].values\n",
    "\n",
    "agrupar(ids3, doc3, mon3, ids5, doc5, mon5)"
   ]
  },
  {
   "cell_type": "code",
   "execution_count": null,
   "id": "78a7b653",
   "metadata": {},
   "outputs": [],
   "source": []
  }
 ],
 "metadata": {
  "kernelspec": {
   "display_name": "Python 3 (ipykernel)",
   "language": "python",
   "name": "python3"
  },
  "language_info": {
   "codemirror_mode": {
    "name": "ipython",
    "version": 3
   },
   "file_extension": ".py",
   "mimetype": "text/x-python",
   "name": "python",
   "nbconvert_exporter": "python",
   "pygments_lexer": "ipython3",
   "version": "3.9.7"
  }
 },
 "nbformat": 4,
 "nbformat_minor": 5
}
