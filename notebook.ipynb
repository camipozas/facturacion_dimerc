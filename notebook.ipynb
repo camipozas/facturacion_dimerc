{
 "cells": [
  {
   "cell_type": "markdown",
   "metadata": {},
   "source": [
    "# PREPARATIVOS"
   ]
  },
  {
   "cell_type": "code",
   "execution_count": 3,
   "metadata": {
    "cell_id": "00000-3a8a76b2-59e5-4251-8cd4-569b6be03130",
    "deepnote_cell_type": "code",
    "deepnote_to_be_reexecuted": false,
    "execution_millis": 43,
    "execution_start": 1634320497467,
    "source_hash": "9ad2f348",
    "tags": []
   },
   "outputs": [],
   "source": [
    "import pandas as pd\n",
    "import numpy as np\n",
    "import itertools as it\n",
    "import re\n",
    "import os\n",
    "from funciones import *"
   ]
  },
  {
   "cell_type": "code",
   "execution_count": 4,
   "metadata": {
    "cell_id": "00001-06f09048-31e9-4fcd-8b22-d65cb17b36a6",
    "deepnote_cell_type": "code",
    "deepnote_to_be_reexecuted": false,
    "execution_millis": 69,
    "execution_start": 1634320497511,
    "scrolled": true,
    "source_hash": "b0474890",
    "tags": []
   },
   "outputs": [
    {
     "name": "stdout",
     "output_type": "stream",
     "text": [
      "Leyendo archivo Excel: FBL3N.xlsx\n",
      "Archivo Excel leído.\n"
     ]
    }
   ],
   "source": [
    "FBL3N = leer_excel(\"FBL3N.xlsx\")"
   ]
  },
  {
   "cell_type": "code",
   "execution_count": 5,
   "metadata": {
    "cell_id": "00002-bb05e881-908e-4bd5-89af-937edc7e5550",
    "deepnote_cell_type": "code",
    "deepnote_to_be_reexecuted": true,
    "execution_millis": 51801,
    "execution_start": 1634317238330,
    "source_hash": "8d049ca0",
    "tags": []
   },
   "outputs": [
    {
     "name": "stdout",
     "output_type": "stream",
     "text": [
      "Leyendo archivo Excel: FBL5N.xlsx\n",
      "Archivo Excel leído.\n"
     ]
    }
   ],
   "source": [
    "FBL5N = leer_excel(\"FBL5N.xlsx\")"
   ]
  },
  {
   "cell_type": "code",
   "execution_count": 6,
   "metadata": {
    "cell_id": "00003-ada797fa-be45-4a9c-bde8-6b68bc29d7ef",
    "deepnote_cell_type": "code",
    "deepnote_to_be_reexecuted": true,
    "execution_millis": 72524,
    "execution_start": 1634317290123,
    "source_hash": "fe553abe",
    "tags": []
   },
   "outputs": [
    {
     "name": "stdout",
     "output_type": "stream",
     "text": [
      "Leyendo archivo Excel: KNA1.xlsx\n",
      "Archivo Excel leído.\n"
     ]
    }
   ],
   "source": [
    "KNA1 = leer_excel(\"KNA1.xlsx\")"
   ]
  },
  {
   "cell_type": "code",
   "execution_count": 7,
   "metadata": {},
   "outputs": [],
   "source": [
    "#PROPUESTA = leer_excel(\"PROPUESTA.xlsx\", None)"
   ]
  },
  {
   "cell_type": "markdown",
   "metadata": {},
   "source": [
    "# PARTE 1"
   ]
  },
  {
   "cell_type": "code",
   "execution_count": 8,
   "metadata": {
    "cell_id": "00001-e4dcbd3c-674d-42d6-a26b-f90cfb13ca7d",
    "deepnote_cell_type": "code",
    "deepnote_to_be_reexecuted": true,
    "execution_millis": 323,
    "execution_start": 1634317362648,
    "source_hash": "734ada2c",
    "tags": []
   },
   "outputs": [
    {
     "data": {
      "text/plain": [
       "'\\ntry:\\n\\tos.mkdir(\"FBL3N/\")\\nexcept FileExistsError:\\n\\tpass\\n\\nfor dataframe, nombre in ((FBL3N, \"NUEVO\"), (con_rut, \"RUT\"), (con_n_factura, \"N_FACTURA\"), (con_otros_numeros, \"OTROS_N\"), (sin_numero, \"SIN_N\")):\\n\\tescribir_excel(dataframe, \"FBL3N/\" + nombre + \".xlsx\")\\n'"
      ]
     },
     "execution_count": 8,
     "metadata": {},
     "output_type": "execute_result"
    }
   ],
   "source": [
    "# PARTE 1\n",
    "\n",
    "textos = FBL3N[\"Texto\"]\n",
    "#FBL3N[\"Categoría\"] = textos.apply(detectar_categoria)\n",
    "FBL3N[\"RUT\"] = textos.apply(detectar_rut)\n",
    "FBL3N[\"N° Factura\"] = textos.apply(detectar_n_factura)\n",
    "#FBL3N[\"Números\"] = textos.apply(detectar_numeros)\n",
    "\n",
    "RUT_FBL3N = FBL3N[pd.notna(FBL3N[\"RUT\"])]\n",
    "FACT_FBL3N = FBL3N[pd.isna(FBL3N[\"RUT\"]) & pd.notna(FBL3N[\"N° Factura\"])]\n",
    "#con_otros_numeros = FBL3N[pd.isna(FBL3N[\"RUT\"]) & pd.isna(FBL3N[\"N° Factura\"]) & pd.notna(FBL3N[\"Números\"])]\n",
    "#sin_numero = FBL3N[pd.isna(FBL3N[\"RUT\"]) & pd.isna(FBL3N[\"N° Factura\"]) & pd.isna(FBl3N[\"Números\"])]\n",
    "\n",
    "\"\"\"\n",
    "try:\n",
    "\tos.mkdir(\"FBL3N/\")\n",
    "except FileExistsError:\n",
    "\tpass\n",
    "\n",
    "for dataframe, nombre in ((FBL3N, \"NUEVO\"), (con_rut, \"RUT\"), (con_n_factura, \"N_FACTURA\"), (con_otros_numeros, \"OTROS_N\"), (sin_numero, \"SIN_N\")):\n",
    "\tescribir_excel(dataframe, \"FBL3N/\" + nombre + \".xlsx\")\n",
    "\"\"\""
   ]
  },
  {
   "cell_type": "markdown",
   "metadata": {},
   "source": [
    "# PARTE 2"
   ]
  },
  {
   "cell_type": "markdown",
   "metadata": {},
   "source": [
    "### Trabajar con calces de factura"
   ]
  },
  {
   "cell_type": "code",
   "execution_count": 9,
   "metadata": {
    "cell_id": "00006-43c04e77-afdf-401e-8511-8cac52876fe0",
    "deepnote_cell_type": "code",
    "deepnote_to_be_reexecuted": true,
    "source_hash": "4f0e88ce",
    "tags": []
   },
   "outputs": [],
   "source": [
    "FBL5N[\"Referencia\"] = FBL5N[\"Referencia\"].apply(lambda s: str(s))\n",
    "FBL5N[\"Cuenta\"] = FBL5N[\"Cuenta\"].apply(lambda n: str(n))\n",
    "\n",
    "KNA1[\"Nº ident.fis.1\"] = KNA1[\"Nº ident.fis.1\"].apply(lambda s: str(s).lstrip(\"0\"))\n",
    "KNA1[\"Cliente\"] = KNA1[\"Cliente\"].apply(lambda s: str(s))"
   ]
  },
  {
   "cell_type": "code",
   "execution_count": 10,
   "metadata": {},
   "outputs": [],
   "source": [
    "# Calzar números de factura\n",
    "filtro_fact = FBL5N[\"Referencia\"].isin(FACT_FBL3N[\"N° Factura\"])\n",
    "FACT_FBL5N = FBL5N[filtro_fact]\n",
    "NO_FACT_FBL5N = FBL5N[~filtro_fact]"
   ]
  },
  {
   "cell_type": "code",
   "execution_count": 11,
   "metadata": {},
   "outputs": [],
   "source": [
    "# Calzar RUTs\n",
    "ID_FBL3N = pd.merge(RUT_FBL3N, KNA1[[\"Nº ident.fis.1\", \"Cliente\"]], left_on=\"RUT\", right_on=\"Nº ident.fis.1\")\n",
    "\n",
    "filtro_id = NO_FACT_FBL5N[\"Cuenta\"].isin(ID_FBL3N[\"Cliente\"])\n",
    "ID_FBL5N = NO_FACT_FBL5N[filtro_id]\n",
    "NN_FBL5N = NO_FACT_FBL5N[~filtro_id]"
   ]
  },
  {
   "cell_type": "code",
   "execution_count": 12,
   "metadata": {},
   "outputs": [],
   "source": [
    "#escribir_excel(ID_FBL3N, \"ID_FBL3N.xlsx\")"
   ]
  },
  {
   "cell_type": "code",
   "execution_count": 13,
   "metadata": {},
   "outputs": [],
   "source": [
    "#escribir_excel(MATCHES_ID, \"MATCHES_ID.xlsx\")"
   ]
  },
  {
   "cell_type": "code",
   "execution_count": 14,
   "metadata": {
    "cell_id": "00007-9e5901c9-898c-4ced-8650-637d33bf66a1",
    "deepnote_cell_type": "code",
    "deepnote_to_be_reexecuted": true,
    "source_hash": "b623e53d",
    "tags": []
   },
   "outputs": [],
   "source": [
    "#escribir_excel(MATCHES_FACT, \"MATCHES_FACT.xlsx\")"
   ]
  },
  {
   "cell_type": "code",
   "execution_count": 15,
   "metadata": {},
   "outputs": [],
   "source": [
    "try:\n",
    "    os.mkdir(\"RESULTADOS/\")\n",
    "except:\n",
    "    pass"
   ]
  },
  {
   "cell_type": "code",
   "execution_count": 16,
   "metadata": {},
   "outputs": [
    {
     "name": "stdout",
     "output_type": "stream",
     "text": [
      "Escribiendo nuevo archivo Excel: RESULTADOS/N_FACTURAS.xlsx\n",
      "Archivo Excel escrito.\n"
     ]
    }
   ],
   "source": [
    "MATCHES_FACT = pd.merge(FACT_FBL3N, FACT_FBL5N, left_on=\"N° Factura\", right_on=\"Referencia\")\n",
    "escribir_excel(FACT_FBL5N, \"RESULTADOS/N_FACTURAS.xlsx\")"
   ]
  },
  {
   "cell_type": "markdown",
   "metadata": {},
   "source": [
    "# PARTE 3"
   ]
  },
  {
   "cell_type": "markdown",
   "metadata": {},
   "source": [
    "### Trabajar con calces de ID"
   ]
  },
  {
   "cell_type": "code",
   "execution_count": 17,
   "metadata": {},
   "outputs": [],
   "source": [
    "MATCHES_ID = pd.merge(ID_FBL3N, ID_FBL5N, left_on=\"Cliente\", right_on=\"Cuenta\", how=\"left\")"
   ]
  },
  {
   "cell_type": "code",
   "execution_count": 25,
   "metadata": {},
   "outputs": [],
   "source": [
    "def sumas_parciales(serie):\n",
    "    retorno = []\n",
    "    for largo in range(min(serie.size, 15)):\n",
    "        comb = np.array(list(it.combinations(serie, largo)))\n",
    "        retorno.append(comb.sum())\n",
    "        \n",
    "    return pd.Series(retorno)"
   ]
  },
  {
   "cell_type": "code",
   "execution_count": 19,
   "metadata": {},
   "outputs": [],
   "source": [
    "def calzar(fila, FBL5N):\n",
    "    monto = -fila[\"Importe en moneda local\"]\n",
    "    ID = fila[\"Cliente\"]\n",
    "    \n",
    "    partidas = FBL5N[FBL5N[\"Cuenta\"] == ID]\n",
    "    n = partidas[\"Nｺ doc.\"].size\n",
    "    \n",
    "    if monto in sumas_parciales(partidas):\n",
    "        return True\n",
    "    return False"
   ]
  },
  {
   "cell_type": "code",
   "execution_count": 20,
   "metadata": {},
   "outputs": [
    {
     "data": {
      "text/html": [
       "<div>\n",
       "<style scoped>\n",
       "    .dataframe tbody tr th:only-of-type {\n",
       "        vertical-align: middle;\n",
       "    }\n",
       "\n",
       "    .dataframe tbody tr th {\n",
       "        vertical-align: top;\n",
       "    }\n",
       "\n",
       "    .dataframe thead th {\n",
       "        text-align: right;\n",
       "    }\n",
       "</style>\n",
       "<table border=\"1\" class=\"dataframe\">\n",
       "  <thead>\n",
       "    <tr style=\"text-align: right;\">\n",
       "      <th></th>\n",
       "      <th>Icono part.abiertas/comp.</th>\n",
       "      <th>Asignación</th>\n",
       "      <th>Nº documento</th>\n",
       "      <th>División</th>\n",
       "      <th>Clase de documento</th>\n",
       "      <th>Fecha de documento</th>\n",
       "      <th>Clave contabiliz.</th>\n",
       "      <th>Importe en moneda local</th>\n",
       "      <th>Moneda local</th>\n",
       "      <th>Indicador impuestos</th>\n",
       "      <th>...</th>\n",
       "      <th>Importe en ML</th>\n",
       "      <th>CPag</th>\n",
       "      <th>Texto_y</th>\n",
       "      <th>nan</th>\n",
       "      <th>NaT</th>\n",
       "      <th>Clave ref.1</th>\n",
       "      <th>Clave ref.2</th>\n",
       "      <th>VP</th>\n",
       "      <th>Lib.mayor</th>\n",
       "      <th>Usuario</th>\n",
       "    </tr>\n",
       "  </thead>\n",
       "  <tbody>\n",
       "    <tr>\n",
       "      <th>0</th>\n",
       "      <td>NaN</td>\n",
       "      <td>0.000000e+00</td>\n",
       "      <td>100133490.0</td>\n",
       "      <td>NaN</td>\n",
       "      <td>CT</td>\n",
       "      <td>2020-04-06</td>\n",
       "      <td>50.0</td>\n",
       "      <td>-82394</td>\n",
       "      <td>CLP</td>\n",
       "      <td>NaN</td>\n",
       "      <td>...</td>\n",
       "      <td>-23448.0</td>\n",
       "      <td>NaN</td>\n",
       "      <td>NaN</td>\n",
       "      <td>NaN</td>\n",
       "      <td>NaT</td>\n",
       "      <td>NaN</td>\n",
       "      <td>NaN</td>\n",
       "      <td>NaN</td>\n",
       "      <td>1.104011e+09</td>\n",
       "      <td>GVERGARA</td>\n",
       "    </tr>\n",
       "    <tr>\n",
       "      <th>1</th>\n",
       "      <td>NaN</td>\n",
       "      <td>0.000000e+00</td>\n",
       "      <td>100189371.0</td>\n",
       "      <td>NaN</td>\n",
       "      <td>CT</td>\n",
       "      <td>2020-04-30</td>\n",
       "      <td>50.0</td>\n",
       "      <td>-33184</td>\n",
       "      <td>CLP</td>\n",
       "      <td>NaN</td>\n",
       "      <td>...</td>\n",
       "      <td>-1.0</td>\n",
       "      <td>NaN</td>\n",
       "      <td>NaN</td>\n",
       "      <td>NaN</td>\n",
       "      <td>NaT</td>\n",
       "      <td>NaN</td>\n",
       "      <td>NaN</td>\n",
       "      <td>NaN</td>\n",
       "      <td>1.104011e+09</td>\n",
       "      <td>JFABRES</td>\n",
       "    </tr>\n",
       "    <tr>\n",
       "      <th>2</th>\n",
       "      <td>NaN</td>\n",
       "      <td>0.000000e+00</td>\n",
       "      <td>100189371.0</td>\n",
       "      <td>NaN</td>\n",
       "      <td>CT</td>\n",
       "      <td>2020-04-30</td>\n",
       "      <td>50.0</td>\n",
       "      <td>-33184</td>\n",
       "      <td>CLP</td>\n",
       "      <td>NaN</td>\n",
       "      <td>...</td>\n",
       "      <td>-1104.0</td>\n",
       "      <td>NaN</td>\n",
       "      <td>NaN</td>\n",
       "      <td>NaN</td>\n",
       "      <td>NaT</td>\n",
       "      <td>NaN</td>\n",
       "      <td>NaN</td>\n",
       "      <td>NaN</td>\n",
       "      <td>1.104011e+09</td>\n",
       "      <td>JFABRES</td>\n",
       "    </tr>\n",
       "    <tr>\n",
       "      <th>3</th>\n",
       "      <td>NaN</td>\n",
       "      <td>0.000000e+00</td>\n",
       "      <td>100189371.0</td>\n",
       "      <td>NaN</td>\n",
       "      <td>CT</td>\n",
       "      <td>2020-04-30</td>\n",
       "      <td>50.0</td>\n",
       "      <td>-33184</td>\n",
       "      <td>CLP</td>\n",
       "      <td>NaN</td>\n",
       "      <td>...</td>\n",
       "      <td>-1.0</td>\n",
       "      <td>NaN</td>\n",
       "      <td>ABONO SEGUN FACTURA 8913231</td>\n",
       "      <td>NaN</td>\n",
       "      <td>NaT</td>\n",
       "      <td>NaN</td>\n",
       "      <td>NaN</td>\n",
       "      <td>NaN</td>\n",
       "      <td>1.104011e+09</td>\n",
       "      <td>VPADRON</td>\n",
       "    </tr>\n",
       "    <tr>\n",
       "      <th>4</th>\n",
       "      <td>NaN</td>\n",
       "      <td>0.000000e+00</td>\n",
       "      <td>100189371.0</td>\n",
       "      <td>NaN</td>\n",
       "      <td>CT</td>\n",
       "      <td>2020-04-30</td>\n",
       "      <td>50.0</td>\n",
       "      <td>-33184</td>\n",
       "      <td>CLP</td>\n",
       "      <td>NaN</td>\n",
       "      <td>...</td>\n",
       "      <td>-1.0</td>\n",
       "      <td>NaN</td>\n",
       "      <td>ABONO SEGUN FACTURA 8935682</td>\n",
       "      <td>NaN</td>\n",
       "      <td>NaT</td>\n",
       "      <td>NaN</td>\n",
       "      <td>NaN</td>\n",
       "      <td>NaN</td>\n",
       "      <td>1.104011e+09</td>\n",
       "      <td>VPADRON</td>\n",
       "    </tr>\n",
       "    <tr>\n",
       "      <th>...</th>\n",
       "      <td>...</td>\n",
       "      <td>...</td>\n",
       "      <td>...</td>\n",
       "      <td>...</td>\n",
       "      <td>...</td>\n",
       "      <td>...</td>\n",
       "      <td>...</td>\n",
       "      <td>...</td>\n",
       "      <td>...</td>\n",
       "      <td>...</td>\n",
       "      <td>...</td>\n",
       "      <td>...</td>\n",
       "      <td>...</td>\n",
       "      <td>...</td>\n",
       "      <td>...</td>\n",
       "      <td>...</td>\n",
       "      <td>...</td>\n",
       "      <td>...</td>\n",
       "      <td>...</td>\n",
       "      <td>...</td>\n",
       "      <td>...</td>\n",
       "    </tr>\n",
       "    <tr>\n",
       "      <th>25846</th>\n",
       "      <td>NaN</td>\n",
       "      <td>2.021102e+14</td>\n",
       "      <td>100389327.0</td>\n",
       "      <td>NaN</td>\n",
       "      <td>CT</td>\n",
       "      <td>2021-10-22</td>\n",
       "      <td>50.0</td>\n",
       "      <td>-9420739</td>\n",
       "      <td>CLP</td>\n",
       "      <td>NaN</td>\n",
       "      <td>...</td>\n",
       "      <td>3034988.0</td>\n",
       "      <td>Z030</td>\n",
       "      <td>NaN</td>\n",
       "      <td>NaN</td>\n",
       "      <td>NaT</td>\n",
       "      <td>Riesgo Empre</td>\n",
       "      <td>1341601</td>\n",
       "      <td>F</td>\n",
       "      <td>1.104011e+09</td>\n",
       "      <td>SD060</td>\n",
       "    </tr>\n",
       "    <tr>\n",
       "      <th>25847</th>\n",
       "      <td>NaN</td>\n",
       "      <td>2.021102e+14</td>\n",
       "      <td>100389327.0</td>\n",
       "      <td>NaN</td>\n",
       "      <td>CT</td>\n",
       "      <td>2021-10-22</td>\n",
       "      <td>50.0</td>\n",
       "      <td>-9420739</td>\n",
       "      <td>CLP</td>\n",
       "      <td>NaN</td>\n",
       "      <td>...</td>\n",
       "      <td>95712.0</td>\n",
       "      <td>Z030</td>\n",
       "      <td>NaN</td>\n",
       "      <td>NaN</td>\n",
       "      <td>NaT</td>\n",
       "      <td>Riesgo Empre</td>\n",
       "      <td>1341601</td>\n",
       "      <td>F</td>\n",
       "      <td>1.104011e+09</td>\n",
       "      <td>SD060</td>\n",
       "    </tr>\n",
       "    <tr>\n",
       "      <th>25848</th>\n",
       "      <td>NaN</td>\n",
       "      <td>2.021102e+14</td>\n",
       "      <td>100389327.0</td>\n",
       "      <td>NaN</td>\n",
       "      <td>CT</td>\n",
       "      <td>2021-10-22</td>\n",
       "      <td>50.0</td>\n",
       "      <td>-9420739</td>\n",
       "      <td>CLP</td>\n",
       "      <td>NaN</td>\n",
       "      <td>...</td>\n",
       "      <td>1868693.0</td>\n",
       "      <td>Z030</td>\n",
       "      <td>NaN</td>\n",
       "      <td>NaN</td>\n",
       "      <td>NaT</td>\n",
       "      <td>Riesgo Empre</td>\n",
       "      <td>1341601</td>\n",
       "      <td>F</td>\n",
       "      <td>1.104011e+09</td>\n",
       "      <td>SD060</td>\n",
       "    </tr>\n",
       "    <tr>\n",
       "      <th>25849</th>\n",
       "      <td>NaN</td>\n",
       "      <td>2.021102e+14</td>\n",
       "      <td>100389327.0</td>\n",
       "      <td>NaN</td>\n",
       "      <td>CT</td>\n",
       "      <td>2021-10-22</td>\n",
       "      <td>50.0</td>\n",
       "      <td>-9420739</td>\n",
       "      <td>CLP</td>\n",
       "      <td>NaN</td>\n",
       "      <td>...</td>\n",
       "      <td>676634.0</td>\n",
       "      <td>Z030</td>\n",
       "      <td>NaN</td>\n",
       "      <td>NaN</td>\n",
       "      <td>NaT</td>\n",
       "      <td>Riesgo Empre</td>\n",
       "      <td>1341601</td>\n",
       "      <td>F</td>\n",
       "      <td>1.104011e+09</td>\n",
       "      <td>SD060</td>\n",
       "    </tr>\n",
       "    <tr>\n",
       "      <th>25850</th>\n",
       "      <td>NaN</td>\n",
       "      <td>2.021102e+13</td>\n",
       "      <td>100389302.0</td>\n",
       "      <td>NaN</td>\n",
       "      <td>CT</td>\n",
       "      <td>2021-10-22</td>\n",
       "      <td>50.0</td>\n",
       "      <td>-979854</td>\n",
       "      <td>CLP</td>\n",
       "      <td>NaN</td>\n",
       "      <td>...</td>\n",
       "      <td>NaN</td>\n",
       "      <td>NaN</td>\n",
       "      <td>NaN</td>\n",
       "      <td>NaN</td>\n",
       "      <td>NaT</td>\n",
       "      <td>NaN</td>\n",
       "      <td>NaN</td>\n",
       "      <td>NaN</td>\n",
       "      <td>NaN</td>\n",
       "      <td>NaN</td>\n",
       "    </tr>\n",
       "  </tbody>\n",
       "</table>\n",
       "<p>25851 rows × 42 columns</p>\n",
       "</div>"
      ],
      "text/plain": [
       "      Icono part.abiertas/comp.    Asignación  Nº documento  División  \\\n",
       "0                           NaN  0.000000e+00   100133490.0       NaN   \n",
       "1                           NaN  0.000000e+00   100189371.0       NaN   \n",
       "2                           NaN  0.000000e+00   100189371.0       NaN   \n",
       "3                           NaN  0.000000e+00   100189371.0       NaN   \n",
       "4                           NaN  0.000000e+00   100189371.0       NaN   \n",
       "...                         ...           ...           ...       ...   \n",
       "25846                       NaN  2.021102e+14   100389327.0       NaN   \n",
       "25847                       NaN  2.021102e+14   100389327.0       NaN   \n",
       "25848                       NaN  2.021102e+14   100389327.0       NaN   \n",
       "25849                       NaN  2.021102e+14   100389327.0       NaN   \n",
       "25850                       NaN  2.021102e+13   100389302.0       NaN   \n",
       "\n",
       "      Clase de documento Fecha de documento  Clave contabiliz.  \\\n",
       "0                     CT         2020-04-06               50.0   \n",
       "1                     CT         2020-04-30               50.0   \n",
       "2                     CT         2020-04-30               50.0   \n",
       "3                     CT         2020-04-30               50.0   \n",
       "4                     CT         2020-04-30               50.0   \n",
       "...                  ...                ...                ...   \n",
       "25846                 CT         2021-10-22               50.0   \n",
       "25847                 CT         2021-10-22               50.0   \n",
       "25848                 CT         2021-10-22               50.0   \n",
       "25849                 CT         2021-10-22               50.0   \n",
       "25850                 CT         2021-10-22               50.0   \n",
       "\n",
       "       Importe en moneda local Moneda local  Indicador impuestos  ...  \\\n",
       "0                       -82394          CLP                  NaN  ...   \n",
       "1                       -33184          CLP                  NaN  ...   \n",
       "2                       -33184          CLP                  NaN  ...   \n",
       "3                       -33184          CLP                  NaN  ...   \n",
       "4                       -33184          CLP                  NaN  ...   \n",
       "...                        ...          ...                  ...  ...   \n",
       "25846                 -9420739          CLP                  NaN  ...   \n",
       "25847                 -9420739          CLP                  NaN  ...   \n",
       "25848                 -9420739          CLP                  NaN  ...   \n",
       "25849                 -9420739          CLP                  NaN  ...   \n",
       "25850                  -979854          CLP                  NaN  ...   \n",
       "\n",
       "       Importe en ML  CPag                      Texto_y nan NaT   Clave ref.1  \\\n",
       "0           -23448.0   NaN                          NaN NaN NaT           NaN   \n",
       "1               -1.0   NaN                          NaN NaN NaT           NaN   \n",
       "2            -1104.0   NaN                          NaN NaN NaT           NaN   \n",
       "3               -1.0   NaN  ABONO SEGUN FACTURA 8913231 NaN NaT           NaN   \n",
       "4               -1.0   NaN  ABONO SEGUN FACTURA 8935682 NaN NaT           NaN   \n",
       "...              ...   ...                          ...  ..  ..           ...   \n",
       "25846      3034988.0  Z030                          NaN NaN NaT  Riesgo Empre   \n",
       "25847        95712.0  Z030                          NaN NaN NaT  Riesgo Empre   \n",
       "25848      1868693.0  Z030                          NaN NaN NaT  Riesgo Empre   \n",
       "25849       676634.0  Z030                          NaN NaN NaT  Riesgo Empre   \n",
       "25850            NaN   NaN                          NaN NaN NaT           NaN   \n",
       "\n",
       "       Clave ref.2   VP     Lib.mayor   Usuario  \n",
       "0              NaN  NaN  1.104011e+09  GVERGARA  \n",
       "1              NaN  NaN  1.104011e+09   JFABRES  \n",
       "2              NaN  NaN  1.104011e+09   JFABRES  \n",
       "3              NaN  NaN  1.104011e+09   VPADRON  \n",
       "4              NaN  NaN  1.104011e+09   VPADRON  \n",
       "...            ...  ...           ...       ...  \n",
       "25846      1341601    F  1.104011e+09     SD060  \n",
       "25847      1341601    F  1.104011e+09     SD060  \n",
       "25848      1341601    F  1.104011e+09     SD060  \n",
       "25849      1341601    F  1.104011e+09     SD060  \n",
       "25850          NaN  NaN           NaN       NaN  \n",
       "\n",
       "[25851 rows x 42 columns]"
      ]
     },
     "execution_count": 20,
     "metadata": {},
     "output_type": "execute_result"
    }
   ],
   "source": [
    "MATCHES_ID"
   ]
  },
  {
   "cell_type": "code",
   "execution_count": 22,
   "metadata": {},
   "outputs": [],
   "source": [
    "grupos = MATCHES_ID.groupby([\"Nº documento\", \"Cliente\"])"
   ]
  },
  {
   "cell_type": "code",
   "execution_count": null,
   "metadata": {},
   "outputs": [],
   "source": [
    "lista = []\n",
    "\n",
    "for indice, grupo in grupos:\n",
    "    sumas = sumas_parciales(grupo[\"Importe en ML\"])\n",
    "    resultado = grupo[grupo[\"Importe en moneda local\"].isin(sumas)]\n",
    "    lista.append(resultado)\n",
    "\n",
    "pd.concat(lista)"
   ]
  },
  {
   "cell_type": "code",
   "execution_count": null,
   "metadata": {},
   "outputs": [],
   "source": [
    "COPIA_ID_FBL5N = ID_FBL5N.copy()\n",
    "COPIA_ID_FBL5N = COPIA_ID_FBL5N.sort_values(by=\"Demora\", ascending=False)\n",
    "#MATCHES_ID_1_N = pd.concat(ID_FBL3N.apply(calzar, args=(COPIA_ID_FBL5N,), axis=1).to_numpy())\n",
    "#MATCHES_ID_1_N"
   ]
  },
  {
   "cell_type": "code",
   "execution_count": null,
   "metadata": {},
   "outputs": [],
   "source": [
    "#escribir_excel(MATCHES_ID_1_N, \"MATCHES_ID_1-N.xlsx\")"
   ]
  },
  {
   "cell_type": "code",
   "execution_count": null,
   "metadata": {},
   "outputs": [],
   "source": [
    "# TODO: Hay un dato duplicado, hay que corregir eso\n",
    "MATCHES_ID_1_1 = MATCHES_ID[MATCHES_ID[\"Importe en moneda local\"] == -MATCHES_ID[\"Importe en ML\"]]"
   ]
  },
  {
   "cell_type": "code",
   "execution_count": null,
   "metadata": {},
   "outputs": [],
   "source": [
    "MATCHES_ID_1_1 = MATCHES_ID_1_1.sort_values(by=\"Demora\", ascending=False)\n",
    "MATCHES_ID_1_1 = MATCHES_ID_1_1.drop_duplicates(subset=[\"Nº documento\"])\n",
    "\n",
    "escribir_excel(MATCHES_ID_1_1, \"MATCHES_ID_1-1.xlsx\")"
   ]
  },
  {
   "cell_type": "markdown",
   "metadata": {},
   "source": [
    "# PARTE 4"
   ]
  },
  {
   "cell_type": "markdown",
   "metadata": {},
   "source": [
    "### Determinar qué datos encontré yo que Roberto no, y viceversa"
   ]
  },
  {
   "cell_type": "markdown",
   "metadata": {},
   "source": [
    "1. RUT y Monto"
   ]
  },
  {
   "cell_type": "code",
   "execution_count": null,
   "metadata": {},
   "outputs": [],
   "source": [
    "RUT_Y_MONTO = leer_excel(\"002_RutyMonto.xlsx\")"
   ]
  },
  {
   "cell_type": "code",
   "execution_count": null,
   "metadata": {},
   "outputs": [],
   "source": [
    "outer_rym = pd.merge(MATCHES_ID_1_1, RUT_Y_MONTO, on=\"Nº documento\", how=\"outer\", indicator=True)"
   ]
  },
  {
   "cell_type": "code",
   "execution_count": null,
   "metadata": {},
   "outputs": [],
   "source": [
    "escribir_excel(outer_rym[outer_rym[\"_merge\"] == \"left_only\"], \"RUT_Y_MONTO_LEFT.xlsx\")"
   ]
  },
  {
   "cell_type": "code",
   "execution_count": null,
   "metadata": {},
   "outputs": [],
   "source": [
    "escribir_excel(outer_rym[outer_rym[\"_merge\"] == \"right_only\"], \"RUT_Y_MONTO_RIGHT.xlsx\")"
   ]
  },
  {
   "cell_type": "markdown",
   "metadata": {},
   "source": [
    "2. Solo RUT"
   ]
  },
  {
   "cell_type": "code",
   "execution_count": null,
   "metadata": {},
   "outputs": [],
   "source": [
    "SOLO_RUT = leer_excel(\"002_SoloRut.xlsx\")"
   ]
  },
  {
   "cell_type": "code",
   "execution_count": null,
   "metadata": {},
   "outputs": [],
   "source": [
    "outer_sr = pd.merge(MATCHES_ID, SOLO_RUT, on=\"Nº documento\", how=\"outer\", indicator=True)"
   ]
  },
  {
   "cell_type": "code",
   "execution_count": null,
   "metadata": {},
   "outputs": [],
   "source": [
    "escribir_excel(outer_sr[outer_sr[\"_merge\"] == \"left_only\"], \"SOLO_RUT_LEFT.xlsx\")"
   ]
  },
  {
   "cell_type": "code",
   "execution_count": null,
   "metadata": {},
   "outputs": [],
   "source": [
    "escribir_excel(outer_sr[outer_sr[\"_merge\"] == \"right_only\"], \"SOLO_RUT_RIGHT.xlsx\")"
   ]
  },
  {
   "cell_type": "code",
   "execution_count": null,
   "metadata": {},
   "outputs": [],
   "source": []
  }
 ],
 "metadata": {
  "deepnote": {
   "is_reactive": false
  },
  "deepnote_execution_queue": [],
  "deepnote_notebook_id": "f3975ac5-0a8d-4857-a443-8977a1d3a20c",
  "kernelspec": {
   "display_name": "Python 3",
   "language": "python",
   "name": "python3"
  },
  "language_info": {
   "codemirror_mode": {
    "name": "ipython",
    "version": 3
   },
   "file_extension": ".py",
   "mimetype": "text/x-python",
   "name": "python",
   "nbconvert_exporter": "python",
   "pygments_lexer": "ipython3",
   "version": "3.9.5"
  }
 },
 "nbformat": 4,
 "nbformat_minor": 2
}
