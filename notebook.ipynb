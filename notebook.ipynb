{
 "cells": [
  {
   "cell_type": "markdown",
   "metadata": {},
   "source": [
    "# PREPARATIVOS"
   ]
  },
  {
   "cell_type": "code",
   "execution_count": 1,
   "metadata": {
    "cell_id": "00000-3a8a76b2-59e5-4251-8cd4-569b6be03130",
    "deepnote_cell_type": "code",
    "deepnote_to_be_reexecuted": false,
    "execution_millis": 43,
    "execution_start": 1634320497467,
    "source_hash": "9ad2f348",
    "tags": []
   },
   "outputs": [],
   "source": [
    "import pandas as pd\n",
    "import numpy as np\n",
    "import itertools as it\n",
    "import re\n",
    "import os\n",
    "from funciones_1 import *\n",
    "from funciones_2 import *\n",
    "from importlib import reload"
   ]
  },
  {
   "cell_type": "code",
   "execution_count": 2,
   "metadata": {},
   "outputs": [],
   "source": [
    "%load_ext line_profiler"
   ]
  },
  {
   "cell_type": "code",
   "execution_count": 3,
   "metadata": {
    "cell_id": "00001-06f09048-31e9-4fcd-8b22-d65cb17b36a6",
    "deepnote_cell_type": "code",
    "deepnote_to_be_reexecuted": false,
    "execution_millis": 69,
    "execution_start": 1634320497511,
    "source_hash": "b0474890",
    "tags": []
   },
   "outputs": [],
   "source": [
    "#FBL3N = leer_excel(\"FBL3N.xlsx\")"
   ]
  },
  {
   "cell_type": "code",
   "execution_count": 4,
   "metadata": {
    "cell_id": "00002-bb05e881-908e-4bd5-89af-937edc7e5550",
    "deepnote_cell_type": "code",
    "deepnote_to_be_reexecuted": true,
    "execution_millis": 51801,
    "execution_start": 1634317238330,
    "scrolled": true,
    "source_hash": "8d049ca0",
    "tags": []
   },
   "outputs": [],
   "source": [
    "#FBL5N = leer_excel(\"FBL5N.xlsx\")"
   ]
  },
  {
   "cell_type": "code",
   "execution_count": 5,
   "metadata": {
    "cell_id": "00003-ada797fa-be45-4a9c-bde8-6b68bc29d7ef",
    "deepnote_cell_type": "code",
    "deepnote_to_be_reexecuted": true,
    "execution_millis": 72524,
    "execution_start": 1634317290123,
    "source_hash": "fe553abe",
    "tags": []
   },
   "outputs": [],
   "source": [
    "#KNA1 = leer_excel(\"KNA1.xlsx\")"
   ]
  },
  {
   "cell_type": "code",
   "execution_count": 6,
   "metadata": {},
   "outputs": [],
   "source": [
    "#%store FBL3N FBL5N KNA1"
   ]
  },
  {
   "cell_type": "code",
   "execution_count": 7,
   "metadata": {},
   "outputs": [],
   "source": [
    "%store -r FBL3N FBL5N KNA1"
   ]
  },
  {
   "cell_type": "code",
   "execution_count": 8,
   "metadata": {},
   "outputs": [],
   "source": [
    "#PROPUESTA = leer_excel(\"PROPUESTA.xlsx\", None)"
   ]
  },
  {
   "cell_type": "markdown",
   "metadata": {},
   "source": [
    "# PARTE 1"
   ]
  },
  {
   "cell_type": "code",
   "execution_count": 9,
   "metadata": {
    "cell_id": "00001-e4dcbd3c-674d-42d6-a26b-f90cfb13ca7d",
    "deepnote_cell_type": "code",
    "deepnote_to_be_reexecuted": true,
    "execution_millis": 323,
    "execution_start": 1634317362648,
    "source_hash": "734ada2c",
    "tags": []
   },
   "outputs": [],
   "source": [
    "textos = FBL3N[\"Texto\"]\n",
    "FBL3N[\"RUT\"] = textos.apply(detectar_rut)\n",
    "FBL3N[\"N° Factura\"] = textos.apply(detectar_n_factura)\n",
    "\n",
    "RUT_FBL3N = FBL3N[pd.notna(FBL3N[\"RUT\"])]\n",
    "FACT_FBL3N = FBL3N[pd.isna(FBL3N[\"RUT\"]) & pd.notna(FBL3N[\"N° Factura\"])]"
   ]
  },
  {
   "cell_type": "markdown",
   "metadata": {},
   "source": [
    "# PARTE 2"
   ]
  },
  {
   "cell_type": "markdown",
   "metadata": {},
   "source": [
    "### Trabajar con calces de factura"
   ]
  },
  {
   "cell_type": "code",
   "execution_count": 10,
   "metadata": {
    "cell_id": "00006-43c04e77-afdf-401e-8511-8cac52876fe0",
    "deepnote_cell_type": "code",
    "deepnote_to_be_reexecuted": true,
    "source_hash": "4f0e88ce",
    "tags": []
   },
   "outputs": [],
   "source": [
    "FBL5N[\"Referencia\"] = FBL5N[\"Referencia\"].apply(lambda s: str(s))\n",
    "FBL5N[\"Cuenta\"] = FBL5N[\"Cuenta\"][pd.notna(FBL5N[\"Cuenta\"])].apply(lambda n: str(int(n)))\n",
    "\n",
    "KNA1[\"Nº ident.fis.1\"] = KNA1[\"Nº ident.fis.1\"].apply(lambda s: str(s).lstrip(\"0\"))\n",
    "KNA1[\"Cliente\"] = KNA1[\"Cliente\"][pd.notna(KNA1[\"Cliente\"])].apply(lambda s: str(int(s)))"
   ]
  },
  {
   "cell_type": "code",
   "execution_count": 11,
   "metadata": {},
   "outputs": [],
   "source": [
    "# Calzar números de factura\n",
    "filtro_fact = FBL5N[\"Referencia\"].isin(FACT_FBL3N[\"N° Factura\"])\n",
    "FACT_FBL5N = FBL5N[filtro_fact]\n",
    "NO_FACT_FBL5N = FBL5N[~filtro_fact]"
   ]
  },
  {
   "cell_type": "code",
   "execution_count": 12,
   "metadata": {},
   "outputs": [],
   "source": [
    "# Calzar RUTs\n",
    "RUT_ID_FBL3N = pd.merge(RUT_FBL3N, KNA1[[\"Nº ident.fis.1\", \"Cliente\"]], left_on=\"RUT\", right_on=\"Nº ident.fis.1\")\n",
    "\n",
    "filtro_id5 = NO_FACT_FBL5N[\"Cuenta\"].isin(RUT_ID_FBL3N[\"Cliente\"])\n",
    "ID_FBL5N = NO_FACT_FBL5N[filtro_id5]\n",
    "NN_FBL5N = NO_FACT_FBL5N[~filtro_id5]\n",
    "\n",
    "filtro_id3 = RUT_ID_FBL3N[\"Cliente\"].isin(ID_FBL5N[\"Cuenta\"])\n",
    "ID_FBL3N = RUT_ID_FBL3N[filtro_id3]\n",
    "SOLO_RUT_FBL3N = RUT_ID_FBL3N[filtro_id3]"
   ]
  },
  {
   "cell_type": "code",
   "execution_count": 13,
   "metadata": {},
   "outputs": [],
   "source": [
    "try:\n",
    "    os.mkdir(\"RESULTADOS/\")\n",
    "except:\n",
    "    pass"
   ]
  },
  {
   "cell_type": "code",
   "execution_count": 14,
   "metadata": {},
   "outputs": [
    {
     "name": "stdout",
     "output_type": "stream",
     "text": [
      "Escribiendo nuevo archivo Excel: RESULTADOS/Facturas.xlsx\n",
      "Archivo Excel escrito.\n"
     ]
    }
   ],
   "source": [
    "MATCHES_FACT = pd.merge(FACT_FBL3N, FACT_FBL5N, left_on=\"N° Factura\", right_on=\"Referencia\")\n",
    "escribir_excel(FACT_FBL5N, \"RESULTADOS/Facturas.xlsx\")"
   ]
  },
  {
   "cell_type": "markdown",
   "metadata": {},
   "source": [
    "# PARTE 3"
   ]
  },
  {
   "cell_type": "markdown",
   "metadata": {},
   "source": [
    "### Trabajar con calces de ID"
   ]
  },
  {
   "cell_type": "code",
   "execution_count": 15,
   "metadata": {
    "scrolled": true
   },
   "outputs": [],
   "source": [
    "#MATCHES_ID_1_1 = match(ID_FBL3N, ID_FBL5N)\n",
    "#MATCHES_ID_1_1"
   ]
  },
  {
   "cell_type": "code",
   "execution_count": 16,
   "metadata": {},
   "outputs": [],
   "source": [
    "#escribir_excel(MATCHES_ID_1_1, \"RESULTADOS/RUT y Monto 1-1.xlsx\")"
   ]
  },
  {
   "cell_type": "markdown",
   "metadata": {},
   "source": [
    "## Matches uno-a-uno"
   ]
  },
  {
   "cell_type": "code",
   "execution_count": 43,
   "metadata": {},
   "outputs": [
    {
     "name": "stdout",
     "output_type": "stream",
     "text": [
      "531\n",
      "523\n",
      "522\n",
      "520\n",
      "520\n"
     ]
    }
   ],
   "source": [
    "D = calzar(ID_FBL3N, ID_FBL5N)"
   ]
  },
  {
   "cell_type": "code",
   "execution_count": 44,
   "metadata": {},
   "outputs": [],
   "source": [
    "DF = {}"
   ]
  },
  {
   "cell_type": "code",
   "execution_count": 45,
   "metadata": {
    "scrolled": true
   },
   "outputs": [
    {
     "data": {
      "text/html": [
       "<div>\n",
       "<style scoped>\n",
       "    .dataframe tbody tr th:only-of-type {\n",
       "        vertical-align: middle;\n",
       "    }\n",
       "\n",
       "    .dataframe tbody tr th {\n",
       "        vertical-align: top;\n",
       "    }\n",
       "\n",
       "    .dataframe thead th {\n",
       "        text-align: right;\n",
       "    }\n",
       "</style>\n",
       "<table border=\"1\" class=\"dataframe\">\n",
       "  <thead>\n",
       "    <tr style=\"text-align: right;\">\n",
       "      <th></th>\n",
       "      <th>ID</th>\n",
       "      <th>Documento FBL3N</th>\n",
       "      <th>Monto FBL3N</th>\n",
       "      <th>Documento FBL5N</th>\n",
       "      <th>Monto FBL5N</th>\n",
       "      <th>Demora</th>\n",
       "    </tr>\n",
       "  </thead>\n",
       "  <tbody>\n",
       "    <tr>\n",
       "      <th>0</th>\n",
       "      <td>1202524</td>\n",
       "      <td>100421777.0</td>\n",
       "      <td>54402</td>\n",
       "      <td>2.500385e+09</td>\n",
       "      <td>54402</td>\n",
       "      <td>-12.0</td>\n",
       "    </tr>\n",
       "    <tr>\n",
       "      <th>0</th>\n",
       "      <td>1298694</td>\n",
       "      <td>100150736.0</td>\n",
       "      <td>34886</td>\n",
       "      <td>1.400069e+09</td>\n",
       "      <td>34886</td>\n",
       "      <td>209.0</td>\n",
       "    </tr>\n",
       "    <tr>\n",
       "      <th>0</th>\n",
       "      <td>1317961</td>\n",
       "      <td>100170398.0</td>\n",
       "      <td>1398012</td>\n",
       "      <td>2.500339e+09</td>\n",
       "      <td>1398012</td>\n",
       "      <td>23.0</td>\n",
       "    </tr>\n",
       "    <tr>\n",
       "      <th>0</th>\n",
       "      <td>1324183</td>\n",
       "      <td>100364988.0</td>\n",
       "      <td>2736</td>\n",
       "      <td>1.400003e+09</td>\n",
       "      <td>2736</td>\n",
       "      <td>323.0</td>\n",
       "    </tr>\n",
       "    <tr>\n",
       "      <th>0</th>\n",
       "      <td>1718811</td>\n",
       "      <td>100395070.0</td>\n",
       "      <td>287540</td>\n",
       "      <td>2.500359e+09</td>\n",
       "      <td>287540</td>\n",
       "      <td>34.0</td>\n",
       "    </tr>\n",
       "    <tr>\n",
       "      <th>0</th>\n",
       "      <td>1742844</td>\n",
       "      <td>100191776.0</td>\n",
       "      <td>1000000</td>\n",
       "      <td>1.400035e+09</td>\n",
       "      <td>1000000</td>\n",
       "      <td>266.0</td>\n",
       "    </tr>\n",
       "    <tr>\n",
       "      <th>0</th>\n",
       "      <td>1745241</td>\n",
       "      <td>100205436.0</td>\n",
       "      <td>127949</td>\n",
       "      <td>2.500277e+09</td>\n",
       "      <td>127949</td>\n",
       "      <td>5.0</td>\n",
       "    </tr>\n",
       "    <tr>\n",
       "      <th>0</th>\n",
       "      <td>3141394</td>\n",
       "      <td>100351359.0</td>\n",
       "      <td>180785</td>\n",
       "      <td>2.500280e+09</td>\n",
       "      <td>180785</td>\n",
       "      <td>61.0</td>\n",
       "    </tr>\n",
       "    <tr>\n",
       "      <th>0</th>\n",
       "      <td>5003423</td>\n",
       "      <td>100096325.0</td>\n",
       "      <td>26656</td>\n",
       "      <td>2.500087e+09</td>\n",
       "      <td>26656</td>\n",
       "      <td>253.0</td>\n",
       "    </tr>\n",
       "  </tbody>\n",
       "</table>\n",
       "</div>"
      ],
      "text/plain": [
       "        ID  Documento FBL3N  Monto FBL3N  Documento FBL5N  Monto FBL5N  Demora\n",
       "0  1202524      100421777.0        54402     2.500385e+09        54402   -12.0\n",
       "0  1298694      100150736.0        34886     1.400069e+09        34886   209.0\n",
       "0  1317961      100170398.0      1398012     2.500339e+09      1398012    23.0\n",
       "0  1324183      100364988.0         2736     1.400003e+09         2736   323.0\n",
       "0  1718811      100395070.0       287540     2.500359e+09       287540    34.0\n",
       "0  1742844      100191776.0      1000000     1.400035e+09      1000000   266.0\n",
       "0  1745241      100205436.0       127949     2.500277e+09       127949     5.0\n",
       "0  3141394      100351359.0       180785     2.500280e+09       180785    61.0\n",
       "0  5003423      100096325.0        26656     2.500087e+09        26656   253.0"
      ]
     },
     "execution_count": 45,
     "metadata": {},
     "output_type": "execute_result"
    }
   ],
   "source": [
    "DF[\"1-1\"] = []\n",
    "\n",
    "for ID in D[\"1-1\"]:\n",
    "    datos = D[\"1-1\"][ID]\n",
    "    df = {\n",
    "        \"ID\": np.repeat(ID, datos[\"doc3\"].size),\n",
    "        \"Documento FBL3N\": datos[\"doc3\"],\n",
    "        \"Monto FBL3N\": datos[\"mon3\"],\n",
    "        \"Documento FBL5N\": datos[\"doc5\"],\n",
    "        \"Monto FBL5N\": datos[\"mon5\"],\n",
    "        \"Demora\": datos[\"dem5\"],\n",
    "    }\n",
    "    df = pd.DataFrame.from_dict(df)\n",
    "    DF[\"1-1\"].append(df)\n",
    "    \n",
    "DF[\"1-1\"] = pd.concat(DF[\"1-1\"])\n",
    "DF[\"1-1\"].sort_values(by=\"ID\")"
   ]
  },
  {
   "cell_type": "code",
   "execution_count": 46,
   "metadata": {},
   "outputs": [
    {
     "data": {
      "text/html": [
       "<div>\n",
       "<style scoped>\n",
       "    .dataframe tbody tr th:only-of-type {\n",
       "        vertical-align: middle;\n",
       "    }\n",
       "\n",
       "    .dataframe tbody tr th {\n",
       "        vertical-align: top;\n",
       "    }\n",
       "\n",
       "    .dataframe thead th {\n",
       "        text-align: right;\n",
       "    }\n",
       "</style>\n",
       "<table border=\"1\" class=\"dataframe\">\n",
       "  <thead>\n",
       "    <tr style=\"text-align: right;\">\n",
       "      <th></th>\n",
       "      <th>ID</th>\n",
       "      <th>Documento FBL3N</th>\n",
       "      <th>Monto FBL3N</th>\n",
       "      <th>Documento FBL5N</th>\n",
       "      <th>Monto FBL5N</th>\n",
       "      <th>Demora</th>\n",
       "    </tr>\n",
       "  </thead>\n",
       "  <tbody>\n",
       "    <tr>\n",
       "      <th>0</th>\n",
       "      <td>3343520</td>\n",
       "      <td>100386142.0</td>\n",
       "      <td>23347</td>\n",
       "      <td>1.400168e+09</td>\n",
       "      <td>-95989</td>\n",
       "      <td>42.0</td>\n",
       "    </tr>\n",
       "    <tr>\n",
       "      <th>1</th>\n",
       "      <td>3343520</td>\n",
       "      <td>100386142.0</td>\n",
       "      <td>23347</td>\n",
       "      <td>2.500352e+09</td>\n",
       "      <td>119336</td>\n",
       "      <td>40.0</td>\n",
       "    </tr>\n",
       "  </tbody>\n",
       "</table>\n",
       "</div>"
      ],
      "text/plain": [
       "        ID  Documento FBL3N  Monto FBL3N  Documento FBL5N  Monto FBL5N  Demora\n",
       "0  3343520      100386142.0        23347     1.400168e+09       -95989    42.0\n",
       "1  3343520      100386142.0        23347     2.500352e+09       119336    40.0"
      ]
     },
     "execution_count": 46,
     "metadata": {},
     "output_type": "execute_result"
    }
   ],
   "source": [
    "DF[\"1-T\"] = []\n",
    "\n",
    "for ID in D[\"1-T\"]:\n",
    "    datos = D[\"1-T\"][ID]\n",
    "    n = datos[\"doc5\"].size\n",
    "    df = {\n",
    "        \"ID\": np.repeat(ID, n),\n",
    "        \"Documento FBL3N\": np.repeat(datos[\"doc3\"], n),\n",
    "        \"Monto FBL3N\": np.repeat(datos[\"mon3\"], n),\n",
    "        \"Documento FBL5N\": datos[\"doc5\"],\n",
    "        \"Monto FBL5N\": datos[\"mon5\"],\n",
    "        \"Demora\": datos[\"dem5\"],\n",
    "    }\n",
    "    df = pd.DataFrame.from_dict(df)\n",
    "    DF[\"1-T\"].append(df)\n",
    "    \n",
    "DF[\"1-T\"] = pd.concat(DF[\"1-T\"])\n",
    "DF[\"1-T\"].sort_values(by=\"ID\")"
   ]
  },
  {
   "cell_type": "code",
   "execution_count": 49,
   "metadata": {},
   "outputs": [
    {
     "data": {
      "text/html": [
       "<div>\n",
       "<style scoped>\n",
       "    .dataframe tbody tr th:only-of-type {\n",
       "        vertical-align: middle;\n",
       "    }\n",
       "\n",
       "    .dataframe tbody tr th {\n",
       "        vertical-align: top;\n",
       "    }\n",
       "\n",
       "    .dataframe thead th {\n",
       "        text-align: right;\n",
       "    }\n",
       "</style>\n",
       "<table border=\"1\" class=\"dataframe\">\n",
       "  <thead>\n",
       "    <tr style=\"text-align: right;\">\n",
       "      <th></th>\n",
       "      <th>ID</th>\n",
       "      <th>Documento FBL3N</th>\n",
       "      <th>Monto FBL3N</th>\n",
       "      <th>Documento FBL5N</th>\n",
       "      <th>Monto FBL5N</th>\n",
       "      <th>Demora</th>\n",
       "    </tr>\n",
       "  </thead>\n",
       "  <tbody>\n",
       "    <tr>\n",
       "      <th>0</th>\n",
       "      <td>1332355</td>\n",
       "      <td>100435197.0</td>\n",
       "      <td>688615</td>\n",
       "      <td>2.500332e+09</td>\n",
       "      <td>184420</td>\n",
       "      <td>27.0</td>\n",
       "    </tr>\n",
       "    <tr>\n",
       "      <th>16</th>\n",
       "      <td>1332355</td>\n",
       "      <td>100435197.0</td>\n",
       "      <td>688615</td>\n",
       "      <td>2.500351e+09</td>\n",
       "      <td>128853</td>\n",
       "      <td>10.0</td>\n",
       "    </tr>\n",
       "    <tr>\n",
       "      <th>15</th>\n",
       "      <td>1332355</td>\n",
       "      <td>100435197.0</td>\n",
       "      <td>688615</td>\n",
       "      <td>2.500347e+09</td>\n",
       "      <td>30807</td>\n",
       "      <td>13.0</td>\n",
       "    </tr>\n",
       "    <tr>\n",
       "      <th>14</th>\n",
       "      <td>1332355</td>\n",
       "      <td>100435197.0</td>\n",
       "      <td>688615</td>\n",
       "      <td>2.500347e+09</td>\n",
       "      <td>86832</td>\n",
       "      <td>13.0</td>\n",
       "    </tr>\n",
       "    <tr>\n",
       "      <th>13</th>\n",
       "      <td>1332355</td>\n",
       "      <td>100435197.0</td>\n",
       "      <td>688615</td>\n",
       "      <td>1.400185e+09</td>\n",
       "      <td>-875227</td>\n",
       "      <td>14.0</td>\n",
       "    </tr>\n",
       "    <tr>\n",
       "      <th>12</th>\n",
       "      <td>1332355</td>\n",
       "      <td>100435197.0</td>\n",
       "      <td>688615</td>\n",
       "      <td>2.500340e+09</td>\n",
       "      <td>45018</td>\n",
       "      <td>19.0</td>\n",
       "    </tr>\n",
       "    <tr>\n",
       "      <th>10</th>\n",
       "      <td>1332355</td>\n",
       "      <td>100435197.0</td>\n",
       "      <td>688615</td>\n",
       "      <td>2.500335e+09</td>\n",
       "      <td>45416</td>\n",
       "      <td>25.0</td>\n",
       "    </tr>\n",
       "    <tr>\n",
       "      <th>9</th>\n",
       "      <td>1332355</td>\n",
       "      <td>100435197.0</td>\n",
       "      <td>688615</td>\n",
       "      <td>2.500335e+09</td>\n",
       "      <td>53064</td>\n",
       "      <td>25.0</td>\n",
       "    </tr>\n",
       "    <tr>\n",
       "      <th>11</th>\n",
       "      <td>1332355</td>\n",
       "      <td>100435197.0</td>\n",
       "      <td>688615</td>\n",
       "      <td>2.500337e+09</td>\n",
       "      <td>78016</td>\n",
       "      <td>24.0</td>\n",
       "    </tr>\n",
       "    <tr>\n",
       "      <th>7</th>\n",
       "      <td>1332355</td>\n",
       "      <td>100435197.0</td>\n",
       "      <td>688615</td>\n",
       "      <td>2.500334e+09</td>\n",
       "      <td>653</td>\n",
       "      <td>26.0</td>\n",
       "    </tr>\n",
       "    <tr>\n",
       "      <th>6</th>\n",
       "      <td>1332355</td>\n",
       "      <td>100435197.0</td>\n",
       "      <td>688615</td>\n",
       "      <td>2.500334e+09</td>\n",
       "      <td>50254</td>\n",
       "      <td>26.0</td>\n",
       "    </tr>\n",
       "    <tr>\n",
       "      <th>5</th>\n",
       "      <td>1332355</td>\n",
       "      <td>100435197.0</td>\n",
       "      <td>688615</td>\n",
       "      <td>2.500334e+09</td>\n",
       "      <td>144280</td>\n",
       "      <td>26.0</td>\n",
       "    </tr>\n",
       "    <tr>\n",
       "      <th>4</th>\n",
       "      <td>1332355</td>\n",
       "      <td>100435197.0</td>\n",
       "      <td>688615</td>\n",
       "      <td>2.500334e+09</td>\n",
       "      <td>14447</td>\n",
       "      <td>26.0</td>\n",
       "    </tr>\n",
       "    <tr>\n",
       "      <th>3</th>\n",
       "      <td>1332355</td>\n",
       "      <td>100435197.0</td>\n",
       "      <td>688615</td>\n",
       "      <td>2.500333e+09</td>\n",
       "      <td>397105</td>\n",
       "      <td>26.0</td>\n",
       "    </tr>\n",
       "    <tr>\n",
       "      <th>2</th>\n",
       "      <td>1332355</td>\n",
       "      <td>100435197.0</td>\n",
       "      <td>688615</td>\n",
       "      <td>2.500333e+09</td>\n",
       "      <td>258533</td>\n",
       "      <td>26.0</td>\n",
       "    </tr>\n",
       "    <tr>\n",
       "      <th>1</th>\n",
       "      <td>1332355</td>\n",
       "      <td>100435197.0</td>\n",
       "      <td>688615</td>\n",
       "      <td>2.500333e+09</td>\n",
       "      <td>26925</td>\n",
       "      <td>26.0</td>\n",
       "    </tr>\n",
       "    <tr>\n",
       "      <th>8</th>\n",
       "      <td>1332355</td>\n",
       "      <td>100435197.0</td>\n",
       "      <td>688615</td>\n",
       "      <td>2.500334e+09</td>\n",
       "      <td>19219</td>\n",
       "      <td>26.0</td>\n",
       "    </tr>\n",
       "    <tr>\n",
       "      <th>0</th>\n",
       "      <td>1341934</td>\n",
       "      <td>100423627.0</td>\n",
       "      <td>206320</td>\n",
       "      <td>1.600028e+09</td>\n",
       "      <td>-132304</td>\n",
       "      <td>57.0</td>\n",
       "    </tr>\n",
       "    <tr>\n",
       "      <th>1</th>\n",
       "      <td>1341934</td>\n",
       "      <td>100423627.0</td>\n",
       "      <td>206320</td>\n",
       "      <td>2.500316e+09</td>\n",
       "      <td>286716</td>\n",
       "      <td>37.0</td>\n",
       "    </tr>\n",
       "    <tr>\n",
       "      <th>2</th>\n",
       "      <td>1341934</td>\n",
       "      <td>100423627.0</td>\n",
       "      <td>206320</td>\n",
       "      <td>2.500334e+09</td>\n",
       "      <td>51908</td>\n",
       "      <td>26.0</td>\n",
       "    </tr>\n",
       "    <tr>\n",
       "      <th>1</th>\n",
       "      <td>3087325</td>\n",
       "      <td>100423674.0</td>\n",
       "      <td>164432</td>\n",
       "      <td>2.500349e+09</td>\n",
       "      <td>8699</td>\n",
       "      <td>12.0</td>\n",
       "    </tr>\n",
       "    <tr>\n",
       "      <th>0</th>\n",
       "      <td>3087325</td>\n",
       "      <td>100423674.0</td>\n",
       "      <td>164432</td>\n",
       "      <td>2.500349e+09</td>\n",
       "      <td>130819</td>\n",
       "      <td>12.0</td>\n",
       "    </tr>\n",
       "    <tr>\n",
       "      <th>2</th>\n",
       "      <td>3087325</td>\n",
       "      <td>100423674.0</td>\n",
       "      <td>164432</td>\n",
       "      <td>2.500351e+09</td>\n",
       "      <td>24914</td>\n",
       "      <td>11.0</td>\n",
       "    </tr>\n",
       "  </tbody>\n",
       "</table>\n",
       "</div>"
      ],
      "text/plain": [
       "         ID  Documento FBL3N  Monto FBL3N  Documento FBL5N  Monto FBL5N  \\\n",
       "0   1332355      100435197.0       688615     2.500332e+09       184420   \n",
       "16  1332355      100435197.0       688615     2.500351e+09       128853   \n",
       "15  1332355      100435197.0       688615     2.500347e+09        30807   \n",
       "14  1332355      100435197.0       688615     2.500347e+09        86832   \n",
       "13  1332355      100435197.0       688615     1.400185e+09      -875227   \n",
       "12  1332355      100435197.0       688615     2.500340e+09        45018   \n",
       "10  1332355      100435197.0       688615     2.500335e+09        45416   \n",
       "9   1332355      100435197.0       688615     2.500335e+09        53064   \n",
       "11  1332355      100435197.0       688615     2.500337e+09        78016   \n",
       "7   1332355      100435197.0       688615     2.500334e+09          653   \n",
       "6   1332355      100435197.0       688615     2.500334e+09        50254   \n",
       "5   1332355      100435197.0       688615     2.500334e+09       144280   \n",
       "4   1332355      100435197.0       688615     2.500334e+09        14447   \n",
       "3   1332355      100435197.0       688615     2.500333e+09       397105   \n",
       "2   1332355      100435197.0       688615     2.500333e+09       258533   \n",
       "1   1332355      100435197.0       688615     2.500333e+09        26925   \n",
       "8   1332355      100435197.0       688615     2.500334e+09        19219   \n",
       "0   1341934      100423627.0       206320     1.600028e+09      -132304   \n",
       "1   1341934      100423627.0       206320     2.500316e+09       286716   \n",
       "2   1341934      100423627.0       206320     2.500334e+09        51908   \n",
       "1   3087325      100423674.0       164432     2.500349e+09         8699   \n",
       "0   3087325      100423674.0       164432     2.500349e+09       130819   \n",
       "2   3087325      100423674.0       164432     2.500351e+09        24914   \n",
       "\n",
       "    Demora  \n",
       "0     27.0  \n",
       "16    10.0  \n",
       "15    13.0  \n",
       "14    13.0  \n",
       "13    14.0  \n",
       "12    19.0  \n",
       "10    25.0  \n",
       "9     25.0  \n",
       "11    24.0  \n",
       "7     26.0  \n",
       "6     26.0  \n",
       "5     26.0  \n",
       "4     26.0  \n",
       "3     26.0  \n",
       "2     26.0  \n",
       "1     26.0  \n",
       "8     26.0  \n",
       "0     57.0  \n",
       "1     37.0  \n",
       "2     26.0  \n",
       "1     12.0  \n",
       "0     12.0  \n",
       "2     11.0  "
      ]
     },
     "execution_count": 49,
     "metadata": {},
     "output_type": "execute_result"
    }
   ],
   "source": [
    "DF[\"1-V\"] = []\n",
    "\n",
    "for ID in D[\"1-V\"]:\n",
    "    datos = D[\"1-V\"][ID]\n",
    "    n = datos[\"doc5\"].size\n",
    "    df = {\n",
    "        \"ID\": np.repeat(ID, n),\n",
    "        \"Documento FBL3N\": np.repeat(datos[\"doc3\"], n),\n",
    "        \"Monto FBL3N\": np.repeat(datos[\"mon3\"], n),\n",
    "        \"Documento FBL5N\": datos[\"doc5\"],\n",
    "        \"Monto FBL5N\": datos[\"mon5\"],\n",
    "        \"Demora\": datos[\"dem5\"],\n",
    "    }\n",
    "    df = pd.DataFrame.from_dict(df)\n",
    "    DF[\"1-V\"].append(df)\n",
    "    \n",
    "DF[\"1-V\"] = pd.concat(DF[\"1-V\"])\n",
    "DF[\"1-V\"].sort_values(by=\"ID\")"
   ]
  },
  {
   "cell_type": "raw",
   "metadata": {},
   "source": [
    "pd.DataFrame.from_dict({clave: D3[\"1-M\"][clave] for clave in (\"ID\", \"Documento\", \"Monto\")})"
   ]
  },
  {
   "cell_type": "code",
   "execution_count": 20,
   "metadata": {
    "scrolled": false
   },
   "outputs": [
    {
     "ename": "NameError",
     "evalue": "name 'D5' is not defined",
     "output_type": "error",
     "traceback": [
      "\u001b[1;31m---------------------------------------------------------------------------\u001b[0m",
      "\u001b[1;31mNameError\u001b[0m                                 Traceback (most recent call last)",
      "\u001b[1;32mC:\\Users\\FRANCI~1.MAN\\AppData\\Local\\Temp/ipykernel_3892/2476198007.py\u001b[0m in \u001b[0;36m<module>\u001b[1;34m\u001b[0m\n\u001b[1;32m----> 1\u001b[1;33m \u001b[0mpd\u001b[0m\u001b[1;33m.\u001b[0m\u001b[0mDataFrame\u001b[0m\u001b[1;33m.\u001b[0m\u001b[0mfrom_dict\u001b[0m\u001b[1;33m(\u001b[0m\u001b[1;33m{\u001b[0m\u001b[0mclave\u001b[0m\u001b[1;33m:\u001b[0m \u001b[0mD5\u001b[0m\u001b[1;33m[\u001b[0m\u001b[1;34m\"1-M\"\u001b[0m\u001b[1;33m]\u001b[0m\u001b[1;33m[\u001b[0m\u001b[0mclave\u001b[0m\u001b[1;33m]\u001b[0m \u001b[1;32mfor\u001b[0m \u001b[0mclave\u001b[0m \u001b[1;32min\u001b[0m \u001b[1;33m(\u001b[0m\u001b[1;34m\"ID\"\u001b[0m\u001b[1;33m,\u001b[0m \u001b[1;34m\"Documento\"\u001b[0m\u001b[1;33m,\u001b[0m \u001b[1;34m\"Monto\"\u001b[0m\u001b[1;33m,\u001b[0m \u001b[1;34m\"Demora\"\u001b[0m\u001b[1;33m)\u001b[0m\u001b[1;33m}\u001b[0m\u001b[1;33m)\u001b[0m\u001b[1;33m\u001b[0m\u001b[1;33m\u001b[0m\u001b[0m\n\u001b[0m",
      "\u001b[1;32mC:\\Users\\FRANCI~1.MAN\\AppData\\Local\\Temp/ipykernel_3892/2476198007.py\u001b[0m in \u001b[0;36m<dictcomp>\u001b[1;34m(.0)\u001b[0m\n\u001b[1;32m----> 1\u001b[1;33m \u001b[0mpd\u001b[0m\u001b[1;33m.\u001b[0m\u001b[0mDataFrame\u001b[0m\u001b[1;33m.\u001b[0m\u001b[0mfrom_dict\u001b[0m\u001b[1;33m(\u001b[0m\u001b[1;33m{\u001b[0m\u001b[0mclave\u001b[0m\u001b[1;33m:\u001b[0m \u001b[0mD5\u001b[0m\u001b[1;33m[\u001b[0m\u001b[1;34m\"1-M\"\u001b[0m\u001b[1;33m]\u001b[0m\u001b[1;33m[\u001b[0m\u001b[0mclave\u001b[0m\u001b[1;33m]\u001b[0m \u001b[1;32mfor\u001b[0m \u001b[0mclave\u001b[0m \u001b[1;32min\u001b[0m \u001b[1;33m(\u001b[0m\u001b[1;34m\"ID\"\u001b[0m\u001b[1;33m,\u001b[0m \u001b[1;34m\"Documento\"\u001b[0m\u001b[1;33m,\u001b[0m \u001b[1;34m\"Monto\"\u001b[0m\u001b[1;33m,\u001b[0m \u001b[1;34m\"Demora\"\u001b[0m\u001b[1;33m)\u001b[0m\u001b[1;33m}\u001b[0m\u001b[1;33m)\u001b[0m\u001b[1;33m\u001b[0m\u001b[1;33m\u001b[0m\u001b[0m\n\u001b[0m",
      "\u001b[1;31mNameError\u001b[0m: name 'D5' is not defined"
     ]
    }
   ],
   "source": [
    "pd.DataFrame.from_dict({clave: D5[\"1-M\"][clave] for clave in (\"ID\", \"Documento\", \"Monto\", \"Demora\")})"
   ]
  },
  {
   "cell_type": "markdown",
   "metadata": {},
   "source": [
    "# PARTE 4"
   ]
  },
  {
   "cell_type": "markdown",
   "metadata": {},
   "source": [
    "### Determinar qué datos encontré yo que Roberto no, y viceversa"
   ]
  },
  {
   "cell_type": "markdown",
   "metadata": {},
   "source": [
    "1. RUT y Monto"
   ]
  },
  {
   "cell_type": "code",
   "execution_count": null,
   "metadata": {},
   "outputs": [],
   "source": [
    "RUT_Y_MONTO = leer_excel(\"PROPUESTA/RUT y Monto.xlsx\")"
   ]
  },
  {
   "cell_type": "code",
   "execution_count": null,
   "metadata": {},
   "outputs": [],
   "source": [
    "outer_rym = pd.merge(MATCHES_ID_1_1, RUT_Y_MONTO, on=\"Nº documento\", how=\"outer\", indicator=True)"
   ]
  },
  {
   "cell_type": "code",
   "execution_count": null,
   "metadata": {},
   "outputs": [],
   "source": [
    "try:\n",
    "    os.mkdir(\"COMPARACIONES/\")\n",
    "except:\n",
    "    pass"
   ]
  },
  {
   "cell_type": "code",
   "execution_count": null,
   "metadata": {},
   "outputs": [],
   "source": [
    "escribir_excel(outer_rym[outer_rym[\"_merge\"] == \"left_only\"], \"COMPARACIONES/RUT y Monto - LEFT.xlsx\")"
   ]
  },
  {
   "cell_type": "code",
   "execution_count": null,
   "metadata": {},
   "outputs": [],
   "source": [
    "escribir_excel(outer_rym[outer_rym[\"_merge\"] == \"right_only\"], \"COMPARACIONES/RUT y Monto - RIGHT.xlsx\")"
   ]
  },
  {
   "cell_type": "markdown",
   "metadata": {},
   "source": [
    "2. Solo RUT"
   ]
  },
  {
   "cell_type": "code",
   "execution_count": null,
   "metadata": {},
   "outputs": [],
   "source": [
    "SOLO_RUT = leer_excel(\"PROPUESTA/Solo RUT.xlsx\")"
   ]
  },
  {
   "cell_type": "code",
   "execution_count": null,
   "metadata": {},
   "outputs": [],
   "source": [
    "outer_sr = pd.merge(MATCHES_ID, SOLO_RUT, on=\"Nº documento\", how=\"outer\", indicator=True)"
   ]
  },
  {
   "cell_type": "code",
   "execution_count": null,
   "metadata": {},
   "outputs": [],
   "source": [
    "escribir_excel(outer_sr[outer_sr[\"_merge\"] == \"left_only\"], \"SOLO_RUT_LEFT.xlsx\")"
   ]
  },
  {
   "cell_type": "code",
   "execution_count": null,
   "metadata": {},
   "outputs": [],
   "source": [
    "escribir_excel(outer_sr[outer_sr[\"_merge\"] == \"right_only\"], \"SOLO_RUT_RIGHT.xlsx\")"
   ]
  }
 ],
 "metadata": {
  "deepnote": {
   "is_reactive": false
  },
  "deepnote_execution_queue": [],
  "deepnote_notebook_id": "f3975ac5-0a8d-4857-a443-8977a1d3a20c",
  "kernelspec": {
   "display_name": "Python 3 (ipykernel)",
   "language": "python",
   "name": "python3"
  },
  "language_info": {
   "codemirror_mode": {
    "name": "ipython",
    "version": 3
   },
   "file_extension": ".py",
   "mimetype": "text/x-python",
   "name": "python",
   "nbconvert_exporter": "python",
   "pygments_lexer": "ipython3",
   "version": "3.9.7"
  }
 },
 "nbformat": 4,
 "nbformat_minor": 2
}
