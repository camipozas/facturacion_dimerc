{
 "cells": [
  {
   "cell_type": "markdown",
   "metadata": {},
   "source": [
    "# PREPARATIVOS"
   ]
  },
  {
   "cell_type": "code",
   "execution_count": 1,
   "metadata": {
    "cell_id": "00000-3a8a76b2-59e5-4251-8cd4-569b6be03130",
    "deepnote_cell_type": "code",
    "deepnote_to_be_reexecuted": false,
    "execution_millis": 43,
    "execution_start": 1634320497467,
    "source_hash": "9ad2f348",
    "tags": []
   },
   "outputs": [],
   "source": [
    "import pandas as pd\n",
    "import numpy as np\n",
    "import re\n",
    "import os\n",
    "from funciones import *"
   ]
  },
  {
   "cell_type": "code",
   "execution_count": 2,
   "metadata": {
    "cell_id": "00001-06f09048-31e9-4fcd-8b22-d65cb17b36a6",
    "deepnote_cell_type": "code",
    "deepnote_to_be_reexecuted": false,
    "execution_millis": 69,
    "execution_start": 1634320497511,
    "scrolled": true,
    "source_hash": "b0474890",
    "tags": []
   },
   "outputs": [
    {
     "name": "stdout",
     "output_type": "stream",
     "text": [
      "Leyendo archivo Excel: FBL3N.xlsx\n",
      "Archivo Excel leído.\n"
     ]
    }
   ],
   "source": [
    "FBL3N = leer_excel(\"FBL3N.xlsx\")"
   ]
  },
  {
   "cell_type": "code",
   "execution_count": 3,
   "metadata": {
    "cell_id": "00002-bb05e881-908e-4bd5-89af-937edc7e5550",
    "deepnote_cell_type": "code",
    "deepnote_to_be_reexecuted": true,
    "execution_millis": 51801,
    "execution_start": 1634317238330,
    "source_hash": "8d049ca0",
    "tags": []
   },
   "outputs": [
    {
     "name": "stdout",
     "output_type": "stream",
     "text": [
      "Leyendo archivo Excel: FBL5N.xlsx\n",
      "Archivo Excel leído.\n"
     ]
    }
   ],
   "source": [
    "FBL5N = leer_excel(\"FBL5N.xlsx\")"
   ]
  },
  {
   "cell_type": "code",
   "execution_count": 4,
   "metadata": {
    "cell_id": "00003-ada797fa-be45-4a9c-bde8-6b68bc29d7ef",
    "deepnote_cell_type": "code",
    "deepnote_to_be_reexecuted": true,
    "execution_millis": 72524,
    "execution_start": 1634317290123,
    "source_hash": "fe553abe",
    "tags": []
   },
   "outputs": [
    {
     "name": "stdout",
     "output_type": "stream",
     "text": [
      "Leyendo archivo Excel: KNA1.xlsx\n",
      "Archivo Excel leído.\n"
     ]
    }
   ],
   "source": [
    "KNA1 = leer_excel(\"KNA1.xlsx\")"
   ]
  },
  {
   "cell_type": "code",
   "execution_count": 5,
   "metadata": {},
   "outputs": [
    {
     "name": "stdout",
     "output_type": "stream",
     "text": [
      "Leyendo archivo Excel: PROPUESTA.xlsx\n",
      "Archivo Excel leído.\n"
     ]
    }
   ],
   "source": [
    "PROPUESTA = leer_excel(\"PROPUESTA.xlsx\", None)"
   ]
  },
  {
   "cell_type": "markdown",
   "metadata": {},
   "source": [
    "# PARTE 1"
   ]
  },
  {
   "cell_type": "code",
   "execution_count": 6,
   "metadata": {
    "cell_id": "00001-e4dcbd3c-674d-42d6-a26b-f90cfb13ca7d",
    "deepnote_cell_type": "code",
    "deepnote_to_be_reexecuted": true,
    "execution_millis": 323,
    "execution_start": 1634317362648,
    "source_hash": "734ada2c",
    "tags": []
   },
   "outputs": [
    {
     "data": {
      "text/plain": [
       "'\\ntry:\\n\\tos.mkdir(\"FBL3N/\")\\nexcept FileExistsError:\\n\\tpass\\n\\nfor dataframe, nombre in ((FBL3N, \"NUEVO\"), (con_rut, \"RUT\"), (con_n_factura, \"N_FACTURA\"), (con_otros_numeros, \"OTROS_N\"), (sin_numero, \"SIN_N\")):\\n\\tescribir_excel(dataframe, \"FBL3N/\" + nombre + \".xlsx\")\\n'"
      ]
     },
     "execution_count": 6,
     "metadata": {},
     "output_type": "execute_result"
    }
   ],
   "source": [
    "# PARTE 1\n",
    "\n",
    "textos = FBL3N[\"Texto\"]\n",
    "#FBL3N[\"Categoría\"] = textos.apply(detectar_categoria)\n",
    "FBL3N[\"RUT\"] = textos.apply(detectar_rut)\n",
    "FBL3N[\"N° Factura\"] = textos.apply(detectar_n_factura)\n",
    "#FBL3N[\"Números\"] = textos.apply(detectar_numeros)\n",
    "\n",
    "RUT_FBL3N = FBL3N[pd.notna(FBL3N[\"RUT\"])]\n",
    "FACT_FBL3N = FBL3N[pd.isna(FBL3N[\"RUT\"]) & pd.notna(FBL3N[\"N° Factura\"])]\n",
    "#con_otros_numeros = FBL3N[pd.isna(FBL3N[\"RUT\"]) & pd.isna(FBL3N[\"N° Factura\"]) & pd.notna(FBL3N[\"Números\"])]\n",
    "#sin_numero = FBL3N[pd.isna(FBL3N[\"RUT\"]) & pd.isna(FBL3N[\"N° Factura\"]) & pd.isna(FBl3N[\"Números\"])]\n",
    "\n",
    "\"\"\"\n",
    "try:\n",
    "\tos.mkdir(\"FBL3N/\")\n",
    "except FileExistsError:\n",
    "\tpass\n",
    "\n",
    "for dataframe, nombre in ((FBL3N, \"NUEVO\"), (con_rut, \"RUT\"), (con_n_factura, \"N_FACTURA\"), (con_otros_numeros, \"OTROS_N\"), (sin_numero, \"SIN_N\")):\n",
    "\tescribir_excel(dataframe, \"FBL3N/\" + nombre + \".xlsx\")\n",
    "\"\"\""
   ]
  },
  {
   "cell_type": "markdown",
   "metadata": {},
   "source": [
    "# PARTE 2"
   ]
  },
  {
   "cell_type": "code",
   "execution_count": 7,
   "metadata": {
    "cell_id": "00006-43c04e77-afdf-401e-8511-8cac52876fe0",
    "deepnote_cell_type": "code",
    "deepnote_to_be_reexecuted": true,
    "source_hash": "4f0e88ce",
    "tags": []
   },
   "outputs": [],
   "source": [
    "# Calzar números de factura\n",
    "# ARREGLAR ESTO\n",
    "FBL5N[\"Referencia\"] = FBL5N[\"Referencia\"].apply(lambda s: str(s))\n",
    "MATCHES_FACT = pd.merge(FACT_FBL3N, FBL5N, left_on=\"N° Factura\", right_on=\"Referencia\")"
   ]
  },
  {
   "cell_type": "code",
   "execution_count": 8,
   "metadata": {},
   "outputs": [
    {
     "data": {
      "text/html": [
       "<div>\n",
       "<style scoped>\n",
       "    .dataframe tbody tr th:only-of-type {\n",
       "        vertical-align: middle;\n",
       "    }\n",
       "\n",
       "    .dataframe tbody tr th {\n",
       "        vertical-align: top;\n",
       "    }\n",
       "\n",
       "    .dataframe thead th {\n",
       "        text-align: right;\n",
       "    }\n",
       "</style>\n",
       "<table border=\"1\" class=\"dataframe\">\n",
       "  <thead>\n",
       "    <tr style=\"text-align: right;\">\n",
       "      <th></th>\n",
       "      <th>Asignación</th>\n",
       "      <th>Nº documento</th>\n",
       "      <th>División</th>\n",
       "      <th>Clase de documento</th>\n",
       "      <th>Fecha de documento</th>\n",
       "      <th>Clave contabiliz.</th>\n",
       "      <th>Importe en moneda local</th>\n",
       "      <th>Moneda local</th>\n",
       "      <th>Indicador impuestos</th>\n",
       "      <th>Doc.compensación</th>\n",
       "      <th>...</th>\n",
       "      <th>Importe en ML</th>\n",
       "      <th>CPag</th>\n",
       "      <th>Texto_y</th>\n",
       "      <th>nan</th>\n",
       "      <th>NaT</th>\n",
       "      <th>Clave ref.1</th>\n",
       "      <th>Clave ref.2</th>\n",
       "      <th>VP</th>\n",
       "      <th>Lib.mayor</th>\n",
       "      <th>Usuario</th>\n",
       "    </tr>\n",
       "  </thead>\n",
       "  <tbody>\n",
       "    <tr>\n",
       "      <th>0</th>\n",
       "      <td>2.021101e+12</td>\n",
       "      <td>100370180.0</td>\n",
       "      <td>NaN</td>\n",
       "      <td>CT</td>\n",
       "      <td>2021-10-07</td>\n",
       "      <td>50.0</td>\n",
       "      <td>-18350</td>\n",
       "      <td>CLP</td>\n",
       "      <td>NaN</td>\n",
       "      <td>NaN</td>\n",
       "      <td>...</td>\n",
       "      <td>18350</td>\n",
       "      <td>Z030</td>\n",
       "      <td>NaN</td>\n",
       "      <td>NaN</td>\n",
       "      <td>NaT</td>\n",
       "      <td>Innominado</td>\n",
       "      <td>1745727</td>\n",
       "      <td>F</td>\n",
       "      <td>1104011001</td>\n",
       "      <td>SD060</td>\n",
       "    </tr>\n",
       "  </tbody>\n",
       "</table>\n",
       "<p>1 rows × 39 columns</p>\n",
       "</div>"
      ],
      "text/plain": [
       "     Asignación  Nº documento  División Clase de documento Fecha de documento  \\\n",
       "0  2.021101e+12   100370180.0       NaN                 CT         2021-10-07   \n",
       "\n",
       "   Clave contabiliz.  Importe en moneda local Moneda local  \\\n",
       "0               50.0                   -18350          CLP   \n",
       "\n",
       "   Indicador impuestos  Doc.compensación  ... Importe en ML  CPag Texto_y  \\\n",
       "0                  NaN               NaN  ...         18350  Z030     NaN   \n",
       "\n",
       "   nan NaT Clave ref.1 Clave ref.2  VP   Lib.mayor Usuario  \n",
       "0  NaN NaT  Innominado     1745727   F  1104011001   SD060  \n",
       "\n",
       "[1 rows x 39 columns]"
      ]
     },
     "execution_count": 8,
     "metadata": {},
     "output_type": "execute_result"
    }
   ],
   "source": [
    "MATCHES_FACT"
   ]
  },
  {
   "cell_type": "code",
   "execution_count": 9,
   "metadata": {},
   "outputs": [],
   "source": [
    "# Calzar RUTs\n",
    "FBL5N[\"Cuenta\"] = FBL5N[\"Cuenta\"].apply(lambda n: str(n))\n",
    "KNA1[\"Nº ident.fis.1\"] = KNA1[\"Nº ident.fis.1\"].apply(lambda s: str(s).lstrip(\"0\"))\n",
    "KNA1[\"Cliente\"] = KNA1[\"Cliente\"].apply(lambda s: str(s))\n",
    "ID_FBL3N = pd.merge(RUT_FBL3N, KNA1[[\"Nº ident.fis.1\", \"Cliente\"]], left_on=\"RUT\", right_on=\"Nº ident.fis.1\")\n",
    "MATCHES_ID = pd.merge(ID_FBL3N, FBL5N, left_on=\"Cliente\", right_on=\"Cuenta\", how=\"left\")"
   ]
  },
  {
   "cell_type": "code",
   "execution_count": 10,
   "metadata": {},
   "outputs": [
    {
     "data": {
      "text/html": [
       "<div>\n",
       "<style scoped>\n",
       "    .dataframe tbody tr th:only-of-type {\n",
       "        vertical-align: middle;\n",
       "    }\n",
       "\n",
       "    .dataframe tbody tr th {\n",
       "        vertical-align: top;\n",
       "    }\n",
       "\n",
       "    .dataframe thead th {\n",
       "        text-align: right;\n",
       "    }\n",
       "</style>\n",
       "<table border=\"1\" class=\"dataframe\">\n",
       "  <thead>\n",
       "    <tr style=\"text-align: right;\">\n",
       "      <th></th>\n",
       "      <th>Asignación</th>\n",
       "      <th>Nº documento</th>\n",
       "      <th>División</th>\n",
       "      <th>Clase de documento</th>\n",
       "      <th>Fecha de documento</th>\n",
       "      <th>Clave contabiliz.</th>\n",
       "      <th>Importe en moneda local</th>\n",
       "      <th>Moneda local</th>\n",
       "      <th>Indicador impuestos</th>\n",
       "      <th>Doc.compensación</th>\n",
       "      <th>...</th>\n",
       "      <th>Importe en ML</th>\n",
       "      <th>CPag</th>\n",
       "      <th>Texto_y</th>\n",
       "      <th>nan</th>\n",
       "      <th>NaT</th>\n",
       "      <th>Clave ref.1</th>\n",
       "      <th>Clave ref.2</th>\n",
       "      <th>VP</th>\n",
       "      <th>Lib.mayor</th>\n",
       "      <th>Usuario</th>\n",
       "    </tr>\n",
       "  </thead>\n",
       "  <tbody>\n",
       "    <tr>\n",
       "      <th>0</th>\n",
       "      <td>0.000000e+00</td>\n",
       "      <td>100133490.0</td>\n",
       "      <td>NaN</td>\n",
       "      <td>CT</td>\n",
       "      <td>2020-04-06</td>\n",
       "      <td>50.0</td>\n",
       "      <td>-82394</td>\n",
       "      <td>CLP</td>\n",
       "      <td>NaN</td>\n",
       "      <td>NaN</td>\n",
       "      <td>...</td>\n",
       "      <td>-23448.0</td>\n",
       "      <td>NaN</td>\n",
       "      <td>NaN</td>\n",
       "      <td>NaN</td>\n",
       "      <td>NaT</td>\n",
       "      <td>NaN</td>\n",
       "      <td>NaN</td>\n",
       "      <td>NaN</td>\n",
       "      <td>1.104011e+09</td>\n",
       "      <td>GVERGARA</td>\n",
       "    </tr>\n",
       "    <tr>\n",
       "      <th>1</th>\n",
       "      <td>0.000000e+00</td>\n",
       "      <td>100189371.0</td>\n",
       "      <td>NaN</td>\n",
       "      <td>CT</td>\n",
       "      <td>2020-04-30</td>\n",
       "      <td>50.0</td>\n",
       "      <td>-33184</td>\n",
       "      <td>CLP</td>\n",
       "      <td>NaN</td>\n",
       "      <td>NaN</td>\n",
       "      <td>...</td>\n",
       "      <td>-1.0</td>\n",
       "      <td>NaN</td>\n",
       "      <td>NaN</td>\n",
       "      <td>NaN</td>\n",
       "      <td>NaT</td>\n",
       "      <td>NaN</td>\n",
       "      <td>NaN</td>\n",
       "      <td>NaN</td>\n",
       "      <td>1.104011e+09</td>\n",
       "      <td>JFABRES</td>\n",
       "    </tr>\n",
       "    <tr>\n",
       "      <th>2</th>\n",
       "      <td>0.000000e+00</td>\n",
       "      <td>100189371.0</td>\n",
       "      <td>NaN</td>\n",
       "      <td>CT</td>\n",
       "      <td>2020-04-30</td>\n",
       "      <td>50.0</td>\n",
       "      <td>-33184</td>\n",
       "      <td>CLP</td>\n",
       "      <td>NaN</td>\n",
       "      <td>NaN</td>\n",
       "      <td>...</td>\n",
       "      <td>-1104.0</td>\n",
       "      <td>NaN</td>\n",
       "      <td>NaN</td>\n",
       "      <td>NaN</td>\n",
       "      <td>NaT</td>\n",
       "      <td>NaN</td>\n",
       "      <td>NaN</td>\n",
       "      <td>NaN</td>\n",
       "      <td>1.104011e+09</td>\n",
       "      <td>JFABRES</td>\n",
       "    </tr>\n",
       "    <tr>\n",
       "      <th>3</th>\n",
       "      <td>0.000000e+00</td>\n",
       "      <td>100189371.0</td>\n",
       "      <td>NaN</td>\n",
       "      <td>CT</td>\n",
       "      <td>2020-04-30</td>\n",
       "      <td>50.0</td>\n",
       "      <td>-33184</td>\n",
       "      <td>CLP</td>\n",
       "      <td>NaN</td>\n",
       "      <td>NaN</td>\n",
       "      <td>...</td>\n",
       "      <td>-1.0</td>\n",
       "      <td>NaN</td>\n",
       "      <td>ABONO SEGUN FACTURA 8913231</td>\n",
       "      <td>NaN</td>\n",
       "      <td>NaT</td>\n",
       "      <td>NaN</td>\n",
       "      <td>NaN</td>\n",
       "      <td>NaN</td>\n",
       "      <td>1.104011e+09</td>\n",
       "      <td>VPADRON</td>\n",
       "    </tr>\n",
       "    <tr>\n",
       "      <th>4</th>\n",
       "      <td>0.000000e+00</td>\n",
       "      <td>100189371.0</td>\n",
       "      <td>NaN</td>\n",
       "      <td>CT</td>\n",
       "      <td>2020-04-30</td>\n",
       "      <td>50.0</td>\n",
       "      <td>-33184</td>\n",
       "      <td>CLP</td>\n",
       "      <td>NaN</td>\n",
       "      <td>NaN</td>\n",
       "      <td>...</td>\n",
       "      <td>-1.0</td>\n",
       "      <td>NaN</td>\n",
       "      <td>ABONO SEGUN FACTURA 8935682</td>\n",
       "      <td>NaN</td>\n",
       "      <td>NaT</td>\n",
       "      <td>NaN</td>\n",
       "      <td>NaN</td>\n",
       "      <td>NaN</td>\n",
       "      <td>1.104011e+09</td>\n",
       "      <td>VPADRON</td>\n",
       "    </tr>\n",
       "    <tr>\n",
       "      <th>...</th>\n",
       "      <td>...</td>\n",
       "      <td>...</td>\n",
       "      <td>...</td>\n",
       "      <td>...</td>\n",
       "      <td>...</td>\n",
       "      <td>...</td>\n",
       "      <td>...</td>\n",
       "      <td>...</td>\n",
       "      <td>...</td>\n",
       "      <td>...</td>\n",
       "      <td>...</td>\n",
       "      <td>...</td>\n",
       "      <td>...</td>\n",
       "      <td>...</td>\n",
       "      <td>...</td>\n",
       "      <td>...</td>\n",
       "      <td>...</td>\n",
       "      <td>...</td>\n",
       "      <td>...</td>\n",
       "      <td>...</td>\n",
       "      <td>...</td>\n",
       "    </tr>\n",
       "    <tr>\n",
       "      <th>27009</th>\n",
       "      <td>2.021102e+12</td>\n",
       "      <td>100382773.0</td>\n",
       "      <td>NaN</td>\n",
       "      <td>CT</td>\n",
       "      <td>2021-10-18</td>\n",
       "      <td>50.0</td>\n",
       "      <td>-47005</td>\n",
       "      <td>CLP</td>\n",
       "      <td>NaN</td>\n",
       "      <td>NaN</td>\n",
       "      <td>...</td>\n",
       "      <td>316914.0</td>\n",
       "      <td>Z030</td>\n",
       "      <td>NaN</td>\n",
       "      <td>NaN</td>\n",
       "      <td>NaT</td>\n",
       "      <td>Nominado</td>\n",
       "      <td>NaN</td>\n",
       "      <td>F</td>\n",
       "      <td>1.104011e+09</td>\n",
       "      <td>SD050</td>\n",
       "    </tr>\n",
       "    <tr>\n",
       "      <th>27010</th>\n",
       "      <td>2.021102e+12</td>\n",
       "      <td>100382773.0</td>\n",
       "      <td>NaN</td>\n",
       "      <td>CT</td>\n",
       "      <td>2021-10-18</td>\n",
       "      <td>50.0</td>\n",
       "      <td>-47005</td>\n",
       "      <td>CLP</td>\n",
       "      <td>NaN</td>\n",
       "      <td>NaN</td>\n",
       "      <td>...</td>\n",
       "      <td>178637.0</td>\n",
       "      <td>Z030</td>\n",
       "      <td>NaN</td>\n",
       "      <td>NaN</td>\n",
       "      <td>NaT</td>\n",
       "      <td>Nominado</td>\n",
       "      <td>NaN</td>\n",
       "      <td>F</td>\n",
       "      <td>1.104011e+09</td>\n",
       "      <td>SD050</td>\n",
       "    </tr>\n",
       "    <tr>\n",
       "      <th>27011</th>\n",
       "      <td>2.021102e+12</td>\n",
       "      <td>100382773.0</td>\n",
       "      <td>NaN</td>\n",
       "      <td>CT</td>\n",
       "      <td>2021-10-18</td>\n",
       "      <td>50.0</td>\n",
       "      <td>-47005</td>\n",
       "      <td>CLP</td>\n",
       "      <td>NaN</td>\n",
       "      <td>NaN</td>\n",
       "      <td>...</td>\n",
       "      <td>80646.0</td>\n",
       "      <td>Z030</td>\n",
       "      <td>NaN</td>\n",
       "      <td>NaN</td>\n",
       "      <td>NaT</td>\n",
       "      <td>Nominado</td>\n",
       "      <td>NaN</td>\n",
       "      <td>F</td>\n",
       "      <td>1.104011e+09</td>\n",
       "      <td>SD050</td>\n",
       "    </tr>\n",
       "    <tr>\n",
       "      <th>27012</th>\n",
       "      <td>2.021102e+12</td>\n",
       "      <td>100382773.0</td>\n",
       "      <td>NaN</td>\n",
       "      <td>CT</td>\n",
       "      <td>2021-10-18</td>\n",
       "      <td>50.0</td>\n",
       "      <td>-47005</td>\n",
       "      <td>CLP</td>\n",
       "      <td>NaN</td>\n",
       "      <td>NaN</td>\n",
       "      <td>...</td>\n",
       "      <td>403827.0</td>\n",
       "      <td>Z030</td>\n",
       "      <td>NaN</td>\n",
       "      <td>NaN</td>\n",
       "      <td>NaT</td>\n",
       "      <td>Nominado</td>\n",
       "      <td>NaN</td>\n",
       "      <td>F</td>\n",
       "      <td>1.104011e+09</td>\n",
       "      <td>SD050</td>\n",
       "    </tr>\n",
       "    <tr>\n",
       "      <th>27013</th>\n",
       "      <td>2.021102e+12</td>\n",
       "      <td>100382773.0</td>\n",
       "      <td>NaN</td>\n",
       "      <td>CT</td>\n",
       "      <td>2021-10-18</td>\n",
       "      <td>50.0</td>\n",
       "      <td>-47005</td>\n",
       "      <td>CLP</td>\n",
       "      <td>NaN</td>\n",
       "      <td>NaN</td>\n",
       "      <td>...</td>\n",
       "      <td>57552.0</td>\n",
       "      <td>Z030</td>\n",
       "      <td>NaN</td>\n",
       "      <td>NaN</td>\n",
       "      <td>NaT</td>\n",
       "      <td>Nominado</td>\n",
       "      <td>NaN</td>\n",
       "      <td>F</td>\n",
       "      <td>1.104011e+09</td>\n",
       "      <td>SD050</td>\n",
       "    </tr>\n",
       "  </tbody>\n",
       "</table>\n",
       "<p>27014 rows × 41 columns</p>\n",
       "</div>"
      ],
      "text/plain": [
       "         Asignación  Nº documento  División Clase de documento  \\\n",
       "0      0.000000e+00   100133490.0       NaN                 CT   \n",
       "1      0.000000e+00   100189371.0       NaN                 CT   \n",
       "2      0.000000e+00   100189371.0       NaN                 CT   \n",
       "3      0.000000e+00   100189371.0       NaN                 CT   \n",
       "4      0.000000e+00   100189371.0       NaN                 CT   \n",
       "...             ...           ...       ...                ...   \n",
       "27009  2.021102e+12   100382773.0       NaN                 CT   \n",
       "27010  2.021102e+12   100382773.0       NaN                 CT   \n",
       "27011  2.021102e+12   100382773.0       NaN                 CT   \n",
       "27012  2.021102e+12   100382773.0       NaN                 CT   \n",
       "27013  2.021102e+12   100382773.0       NaN                 CT   \n",
       "\n",
       "      Fecha de documento  Clave contabiliz.  Importe en moneda local  \\\n",
       "0             2020-04-06               50.0                   -82394   \n",
       "1             2020-04-30               50.0                   -33184   \n",
       "2             2020-04-30               50.0                   -33184   \n",
       "3             2020-04-30               50.0                   -33184   \n",
       "4             2020-04-30               50.0                   -33184   \n",
       "...                  ...                ...                      ...   \n",
       "27009         2021-10-18               50.0                   -47005   \n",
       "27010         2021-10-18               50.0                   -47005   \n",
       "27011         2021-10-18               50.0                   -47005   \n",
       "27012         2021-10-18               50.0                   -47005   \n",
       "27013         2021-10-18               50.0                   -47005   \n",
       "\n",
       "      Moneda local  Indicador impuestos  Doc.compensación  ... Importe en ML  \\\n",
       "0              CLP                  NaN               NaN  ...      -23448.0   \n",
       "1              CLP                  NaN               NaN  ...          -1.0   \n",
       "2              CLP                  NaN               NaN  ...       -1104.0   \n",
       "3              CLP                  NaN               NaN  ...          -1.0   \n",
       "4              CLP                  NaN               NaN  ...          -1.0   \n",
       "...            ...                  ...               ...  ...           ...   \n",
       "27009          CLP                  NaN               NaN  ...      316914.0   \n",
       "27010          CLP                  NaN               NaN  ...      178637.0   \n",
       "27011          CLP                  NaN               NaN  ...       80646.0   \n",
       "27012          CLP                  NaN               NaN  ...      403827.0   \n",
       "27013          CLP                  NaN               NaN  ...       57552.0   \n",
       "\n",
       "       CPag                      Texto_y nan NaT  Clave ref.1 Clave ref.2  \\\n",
       "0       NaN                          NaN NaN NaT          NaN         NaN   \n",
       "1       NaN                          NaN NaN NaT          NaN         NaN   \n",
       "2       NaN                          NaN NaN NaT          NaN         NaN   \n",
       "3       NaN  ABONO SEGUN FACTURA 8913231 NaN NaT          NaN         NaN   \n",
       "4       NaN  ABONO SEGUN FACTURA 8935682 NaN NaT          NaN         NaN   \n",
       "...     ...                          ...  ..  ..          ...         ...   \n",
       "27009  Z030                          NaN NaN NaT     Nominado         NaN   \n",
       "27010  Z030                          NaN NaN NaT     Nominado         NaN   \n",
       "27011  Z030                          NaN NaN NaT     Nominado         NaN   \n",
       "27012  Z030                          NaN NaN NaT     Nominado         NaN   \n",
       "27013  Z030                          NaN NaN NaT     Nominado         NaN   \n",
       "\n",
       "        VP     Lib.mayor   Usuario  \n",
       "0      NaN  1.104011e+09  GVERGARA  \n",
       "1      NaN  1.104011e+09   JFABRES  \n",
       "2      NaN  1.104011e+09   JFABRES  \n",
       "3      NaN  1.104011e+09   VPADRON  \n",
       "4      NaN  1.104011e+09   VPADRON  \n",
       "...    ...           ...       ...  \n",
       "27009    F  1.104011e+09     SD050  \n",
       "27010    F  1.104011e+09     SD050  \n",
       "27011    F  1.104011e+09     SD050  \n",
       "27012    F  1.104011e+09     SD050  \n",
       "27013    F  1.104011e+09     SD050  \n",
       "\n",
       "[27014 rows x 41 columns]"
      ]
     },
     "execution_count": 10,
     "metadata": {},
     "output_type": "execute_result"
    }
   ],
   "source": [
    "MATCHES_ID"
   ]
  },
  {
   "cell_type": "code",
   "execution_count": 11,
   "metadata": {},
   "outputs": [
    {
     "name": "stdout",
     "output_type": "stream",
     "text": [
      "Escribiendo nuevo archivo Excel: ID_FBL3N.xlsx\n",
      "Archivo Excel escrito.\n"
     ]
    }
   ],
   "source": [
    "escribir_excel(ID_FBL3N, \"ID_FBL3N.xlsx\")"
   ]
  },
  {
   "cell_type": "code",
   "execution_count": 12,
   "metadata": {},
   "outputs": [
    {
     "name": "stdout",
     "output_type": "stream",
     "text": [
      "Escribiendo nuevo archivo Excel: MATCHES_ID.xlsx\n",
      "Error: el archivo ya está abierto. Ciérralo y vuelve a intentarlo.\n",
      "Presiona Enter cuando esté listo.\n",
      "Escribiendo nuevo archivo Excel: MATCHES_ID.xlsx\n",
      "Archivo Excel escrito.\n"
     ]
    }
   ],
   "source": [
    "escribir_excel(MATCHES_ID, \"MATCHES_ID.xlsx\")"
   ]
  },
  {
   "cell_type": "code",
   "execution_count": 13,
   "metadata": {
    "cell_id": "00007-9e5901c9-898c-4ced-8650-637d33bf66a1",
    "deepnote_cell_type": "code",
    "deepnote_to_be_reexecuted": true,
    "source_hash": "b623e53d",
    "tags": []
   },
   "outputs": [
    {
     "name": "stdout",
     "output_type": "stream",
     "text": [
      "Escribiendo nuevo archivo Excel: MATCHES_FACT.xlsx\n",
      "Archivo Excel escrito.\n"
     ]
    }
   ],
   "source": [
    "escribir_excel(MATCHES_FACT, \"MATCHES_FACT.xlsx\")"
   ]
  },
  {
   "cell_type": "markdown",
   "metadata": {},
   "source": [
    "# PARTE 3"
   ]
  },
  {
   "cell_type": "markdown",
   "metadata": {},
   "source": [
    "### Trabajar con calces de ID"
   ]
  },
  {
   "cell_type": "code",
   "execution_count": 14,
   "metadata": {},
   "outputs": [],
   "source": [
    "filtro_1a1 = MATCHES_ID[MATCHES_ID[\"Importe en moneda local\"] == -MATCHES_ID[\"Importe en ML\"]]"
   ]
  },
  {
   "cell_type": "code",
   "execution_count": 15,
   "metadata": {},
   "outputs": [
    {
     "name": "stdout",
     "output_type": "stream",
     "text": [
      "Escribiendo nuevo archivo Excel: MATCHES_ID_1-1.xlsx\n",
      "Error: el archivo ya está abierto. Ciérralo y vuelve a intentarlo.\n",
      "Presiona Enter cuando esté listo.\n",
      "Escribiendo nuevo archivo Excel: MATCHES_ID_1-1.xlsx\n",
      "Archivo Excel escrito.\n"
     ]
    }
   ],
   "source": [
    "escribir_excel(filtro_1a1, \"MATCHES_ID_1-1.xlsx\")"
   ]
  },
  {
   "cell_type": "markdown",
   "metadata": {},
   "source": [
    "# PARTE 4"
   ]
  },
  {
   "cell_type": "markdown",
   "metadata": {},
   "source": [
    "### Determinar qué datos encontré yo que Ricardo no, y viceversa"
   ]
  },
  {
   "cell_type": "code",
   "execution_count": 16,
   "metadata": {},
   "outputs": [],
   "source": [
    "RUT_PROPUESTA = pd.concat([PROPUESTA[\"Rut y Monto\"], PROPUESTA[\"Solo Rut\"]])"
   ]
  },
  {
   "cell_type": "code",
   "execution_count": 17,
   "metadata": {},
   "outputs": [],
   "source": [
    "outer = pd.merge(filtro_1a1, RUT_PROPUESTA, on=\"Nº documento\", how=\"outer\", indicator=True)"
   ]
  },
  {
   "cell_type": "code",
   "execution_count": 18,
   "metadata": {},
   "outputs": [
    {
     "name": "stdout",
     "output_type": "stream",
     "text": [
      "Escribiendo nuevo archivo Excel: LEFT.xlsx\n",
      "Error: el archivo ya está abierto. Ciérralo y vuelve a intentarlo.\n",
      "Presiona Enter cuando esté listo.\n",
      "Escribiendo nuevo archivo Excel: LEFT.xlsx\n",
      "Archivo Excel escrito.\n"
     ]
    }
   ],
   "source": [
    "escribir_excel(outer[outer[\"_merge\"] == \"left_only\"], \"LEFT.xlsx\")"
   ]
  },
  {
   "cell_type": "code",
   "execution_count": 19,
   "metadata": {},
   "outputs": [
    {
     "name": "stdout",
     "output_type": "stream",
     "text": [
      "Escribiendo nuevo archivo Excel: RIGHT.xlsx\n",
      "Archivo Excel escrito.\n"
     ]
    }
   ],
   "source": [
    "escribir_excel(outer[outer[\"_merge\"] == \"right_only\"], \"RIGHT.xlsx\")"
   ]
  },
  {
   "cell_type": "code",
   "execution_count": null,
   "metadata": {},
   "outputs": [],
   "source": []
  }
 ],
 "metadata": {
  "deepnote": {
   "is_reactive": false
  },
  "deepnote_execution_queue": [],
  "deepnote_notebook_id": "f3975ac5-0a8d-4857-a443-8977a1d3a20c",
  "kernelspec": {
   "display_name": "Python 3 (ipykernel)",
   "language": "python",
   "name": "python3"
  },
  "language_info": {
   "codemirror_mode": {
    "name": "ipython",
    "version": 3
   },
   "file_extension": ".py",
   "mimetype": "text/x-python",
   "name": "python",
   "nbconvert_exporter": "python",
   "pygments_lexer": "ipython3",
   "version": "3.9.7"
  }
 },
 "nbformat": 4,
 "nbformat_minor": 2
}
