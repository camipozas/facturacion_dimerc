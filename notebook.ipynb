{
 "cells": [
  {
   "cell_type": "markdown",
   "metadata": {},
   "source": [
    "# PREPARATIVOS"
   ]
  },
  {
   "cell_type": "code",
   "execution_count": 1,
   "metadata": {
    "cell_id": "00000-3a8a76b2-59e5-4251-8cd4-569b6be03130",
    "deepnote_cell_type": "code",
    "deepnote_to_be_reexecuted": false,
    "execution_millis": 43,
    "execution_start": 1634320497467,
    "source_hash": "9ad2f348",
    "tags": []
   },
   "outputs": [],
   "source": [
    "import pandas as pd\n",
    "import numpy as np\n",
    "import itertools as it\n",
    "import re\n",
    "import os\n",
    "from funciones import *"
   ]
  },
  {
   "cell_type": "code",
   "execution_count": 2,
   "metadata": {},
   "outputs": [],
   "source": [
    "%load_ext line_profiler"
   ]
  },
  {
   "cell_type": "code",
   "execution_count": 3,
   "metadata": {
    "cell_id": "00001-06f09048-31e9-4fcd-8b22-d65cb17b36a6",
    "deepnote_cell_type": "code",
    "deepnote_to_be_reexecuted": false,
    "execution_millis": 69,
    "execution_start": 1634320497511,
    "source_hash": "b0474890",
    "tags": []
   },
   "outputs": [
    {
     "name": "stdout",
     "output_type": "stream",
     "text": [
      "Leyendo archivo Excel: FBL3N.xlsx\n",
      "Archivo Excel leído.\n"
     ]
    }
   ],
   "source": [
    "FBL3N = leer_excel(\"FBL3N.xlsx\")"
   ]
  },
  {
   "cell_type": "code",
   "execution_count": 4,
   "metadata": {
    "cell_id": "00002-bb05e881-908e-4bd5-89af-937edc7e5550",
    "deepnote_cell_type": "code",
    "deepnote_to_be_reexecuted": true,
    "execution_millis": 51801,
    "execution_start": 1634317238330,
    "source_hash": "8d049ca0",
    "tags": []
   },
   "outputs": [
    {
     "name": "stdout",
     "output_type": "stream",
     "text": [
      "Leyendo archivo Excel: FBL5N.xlsx\n",
      "Archivo Excel leído.\n"
     ]
    }
   ],
   "source": [
    "FBL5N = leer_excel(\"FBL5N.xlsx\")"
   ]
  },
  {
   "cell_type": "code",
   "execution_count": 5,
   "metadata": {
    "cell_id": "00003-ada797fa-be45-4a9c-bde8-6b68bc29d7ef",
    "deepnote_cell_type": "code",
    "deepnote_to_be_reexecuted": true,
    "execution_millis": 72524,
    "execution_start": 1634317290123,
    "source_hash": "fe553abe",
    "tags": []
   },
   "outputs": [
    {
     "name": "stdout",
     "output_type": "stream",
     "text": [
      "Leyendo archivo Excel: KNA1.xlsx\n",
      "Archivo Excel leído.\n"
     ]
    }
   ],
   "source": [
    "KNA1 = leer_excel(\"KNA1.xlsx\")"
   ]
  },
  {
   "cell_type": "code",
   "execution_count": 6,
   "metadata": {},
   "outputs": [],
   "source": [
    "#PROPUESTA = leer_excel(\"PROPUESTA.xlsx\", None)"
   ]
  },
  {
   "cell_type": "markdown",
   "metadata": {},
   "source": [
    "# PARTE 1"
   ]
  },
  {
   "cell_type": "code",
   "execution_count": 7,
   "metadata": {
    "cell_id": "00001-e4dcbd3c-674d-42d6-a26b-f90cfb13ca7d",
    "deepnote_cell_type": "code",
    "deepnote_to_be_reexecuted": true,
    "execution_millis": 323,
    "execution_start": 1634317362648,
    "source_hash": "734ada2c",
    "tags": []
   },
   "outputs": [],
   "source": [
    "textos = FBL3N[\"Texto\"]\n",
    "FBL3N[\"RUT\"] = textos.apply(detectar_rut)\n",
    "FBL3N[\"N° Factura\"] = textos.apply(detectar_n_factura)\n",
    "\n",
    "RUT_FBL3N = FBL3N[pd.notna(FBL3N[\"RUT\"])]\n",
    "FACT_FBL3N = FBL3N[pd.isna(FBL3N[\"RUT\"]) & pd.notna(FBL3N[\"N° Factura\"])]"
   ]
  },
  {
   "cell_type": "markdown",
   "metadata": {},
   "source": [
    "# PARTE 2"
   ]
  },
  {
   "cell_type": "markdown",
   "metadata": {},
   "source": [
    "### Trabajar con calces de factura"
   ]
  },
  {
   "cell_type": "code",
   "execution_count": 8,
   "metadata": {
    "cell_id": "00006-43c04e77-afdf-401e-8511-8cac52876fe0",
    "deepnote_cell_type": "code",
    "deepnote_to_be_reexecuted": true,
    "source_hash": "4f0e88ce",
    "tags": []
   },
   "outputs": [],
   "source": [
    "FBL5N[\"Referencia\"] = FBL5N[\"Referencia\"].apply(lambda s: str(s))\n",
    "FBL5N[\"Cuenta\"] = FBL5N[\"Cuenta\"][pd.notna(FBL5N[\"Cuenta\"])].apply(lambda n: str(int(n)))\n",
    "\n",
    "KNA1[\"Nº ident.fis.1\"] = KNA1[\"Nº ident.fis.1\"].apply(lambda s: str(s).lstrip(\"0\"))\n",
    "KNA1[\"Cliente\"] = KNA1[\"Cliente\"][pd.notna(KNA1[\"Cliente\"])].apply(lambda s: str(int(s)))"
   ]
  },
  {
   "cell_type": "code",
   "execution_count": 9,
   "metadata": {},
   "outputs": [],
   "source": [
    "# Calzar números de factura\n",
    "filtro_fact = FBL5N[\"Referencia\"].isin(FACT_FBL3N[\"N° Factura\"])\n",
    "FACT_FBL5N = FBL5N[filtro_fact]\n",
    "NO_FACT_FBL5N = FBL5N[~filtro_fact]"
   ]
  },
  {
   "cell_type": "code",
   "execution_count": 10,
   "metadata": {},
   "outputs": [],
   "source": [
    "# Calzar RUTs\n",
    "ID_FBL3N = pd.merge(RUT_FBL3N, KNA1[[\"Nº ident.fis.1\", \"Cliente\"]], left_on=\"RUT\", right_on=\"Nº ident.fis.1\")\n",
    "\n",
    "filtro_id = NO_FACT_FBL5N[\"Cuenta\"].isin(ID_FBL3N[\"Cliente\"])\n",
    "ID_FBL5N = NO_FACT_FBL5N[filtro_id]\n",
    "NN_FBL5N = NO_FACT_FBL5N[~filtro_id]"
   ]
  },
  {
   "cell_type": "code",
   "execution_count": 11,
   "metadata": {},
   "outputs": [],
   "source": [
    "try:\n",
    "    os.mkdir(\"RESULTADOS/\")\n",
    "except:\n",
    "    pass"
   ]
  },
  {
   "cell_type": "code",
   "execution_count": 12,
   "metadata": {},
   "outputs": [
    {
     "name": "stdout",
     "output_type": "stream",
     "text": [
      "Escribiendo nuevo archivo Excel: RESULTADOS/Facturas.xlsx\n",
      "Archivo Excel escrito.\n"
     ]
    }
   ],
   "source": [
    "MATCHES_FACT = pd.merge(FACT_FBL3N, FACT_FBL5N, left_on=\"N° Factura\", right_on=\"Referencia\")\n",
    "escribir_excel(FACT_FBL5N, \"RESULTADOS/Facturas.xlsx\")"
   ]
  },
  {
   "cell_type": "markdown",
   "metadata": {},
   "source": [
    "# PARTE 3"
   ]
  },
  {
   "cell_type": "markdown",
   "metadata": {},
   "source": [
    "### Trabajar con calces de ID"
   ]
  },
  {
   "cell_type": "code",
   "execution_count": 13,
   "metadata": {},
   "outputs": [],
   "source": [
    "def match(ID_FBL3N, ID_FBL5N):\n",
    "    def descartar(merge, match):\n",
    "        return merge[(~merge[\"N° documento\"].isin(match[\"N° documento\"])) & (~merge[\"N° doc.\"].isin(match[\"N° doc.\"]))]\n",
    "    \n",
    "    sort = ID_FBL5N.sort_values(by=\"Demora\", ascending=\"False\")\n",
    "    merge = pd.merge(ID_FBL3N, sort, left_on=\"Cliente\", right_on=\"Cuenta\", suffixes=(\" FBL3N\", \" FBL5N\"))\n",
    "    \n",
    "    # Match uno-a-uno\n",
    "    match_1 = merge[-merge[\"Importe en moneda local\"] == merge[\"Importe en ML\"]]\n",
    "    match_1 = match_1.drop_duplicates(subset=\"N° documento\")\n",
    "    \n",
    "    merge = descartar(merge, match_1)\n",
    "    \n",
    "    \"\"\"\n",
    "    # Match uno-a-todos\n",
    "    match_t = pd.concat(\n",
    "        [merge[\n",
    "            -merge[(merge[\"N° documento\"] == doc) & (merge[\"Cliente\"] == ID)][\"Importe en moneda local\"]\n",
    "            == merge[(merge[\"N° documento\"] == doc) & (merge[\"Cliente\"] == ID)][\"Importe en ML\"].sum()\n",
    "            ]\n",
    "        for doc, ID in zip(merge[\"N° documento\"], merge[\"Cliente\"])]\n",
    "    )\n",
    "    \n",
    "    merge = descartar(merge, match_t)\n",
    "    \"\"\"\n",
    "    \n",
    "    return match_1"
   ]
  },
  {
   "cell_type": "code",
   "execution_count": 14,
   "metadata": {
    "scrolled": true
   },
   "outputs": [
    {
     "name": "stdout",
     "output_type": "stream",
     "text": [
      "Escribiendo nuevo archivo Excel: RESULTADOS/RUT y Monto 1-1.xlsx\n",
      "Archivo Excel escrito.\n"
     ]
    }
   ],
   "source": [
    "MATCHES_ID_1_1 = match(ID_FBL3N, ID_FBL5N)\n",
    "escribir_excel(match(ID_FBL3N, ID_FBL5N), \"RESULTADOS/RUT y Monto 1-1.xlsx\")"
   ]
  },
  {
   "cell_type": "markdown",
   "metadata": {},
   "source": [
    "## Matches uno-a-uno"
   ]
  },
  {
   "cell_type": "code",
   "execution_count": 35,
   "metadata": {},
   "outputs": [],
   "source": [
    "def agrupar(ids3, doc3, mon3, ids5, doc5, mon5):\n",
    "    \n",
    "    \"\"\" PARTE 1: AGRUPAR DATOS \"\"\"\n",
    "    \n",
    "    ids_uni = np.intersect1d(ids3, ids5)\n",
    "    \n",
    "    # Ordenar IDs, documentos y montos en base a las IDs\n",
    "    ind3_ord = np.argsort(ids3)\n",
    "    ids3_ord = ids3[ind3_ord]\n",
    "    doc3_ord = doc3[ind3_ord]\n",
    "    mon3_ord = mon3[ind3_ord]\n",
    "    \n",
    "    ind5_ord = np.argsort(ids5)\n",
    "    ids5_ord = ids5[ind5_ord]\n",
    "    doc5_ord = doc5[ind5_ord]\n",
    "    mon5_ord = mon5[ind5_ord]\n",
    "    \n",
    "    # Registrar los cambios de grupos, es decir, cuándo un elemento ya no es igual al siguiente\n",
    "    # Para eso, comparar el arreglo de IDs con una copia desplazada de sí mismo\n",
    "    lim3 = np.where(np.append([\"\"], ids3_ord) != np.append(ids3_ord, [\"\"]))[0]\n",
    "    lim5 = np.where(np.append([\"\"], ids5_ord) != np.append(ids5_ord, [\"\"]))[0]\n",
    "    \n",
    "    # Obtener los grupos\n",
    "    n_ids = len(ids_uni)\n",
    "    lista = [\n",
    "        (\n",
    "            doc3_ord[lim3[i] : lim3[i+1]],\n",
    "            mon3_ord[lim3[i] : lim3[i+1]],\n",
    "            doc5_ord[lim5[i] : lim5[i+1]],\n",
    "            mon5_ord[lim5[i] : lim5[i+1]]\n",
    "        ) for i in range(n_ids)\n",
    "    ]\n",
    "    \n",
    "    doc3_grp, mon3_grp, doc5_grp, mon5_grp = zip(*lista)\n",
    "    \n",
    "    \"\"\" PARTE 2: FILTRAR DATOS \"\"\"\n",
    "    # Por hacer\n",
    "    \n",
    "    return pd.DataFrame({\"ID\": ids_uni, \"Docs FBL3N\": doc3_grp, \"Montos FBL3N\": mon3_grp, \"Docs FBL5N\": doc5_grp, \"Montos FBL5N\": mon5_grp})"
   ]
  },
  {
   "cell_type": "code",
   "execution_count": 36,
   "metadata": {},
   "outputs": [
    {
     "data": {
      "text/html": [
       "<div>\n",
       "<style scoped>\n",
       "    .dataframe tbody tr th:only-of-type {\n",
       "        vertical-align: middle;\n",
       "    }\n",
       "\n",
       "    .dataframe tbody tr th {\n",
       "        vertical-align: top;\n",
       "    }\n",
       "\n",
       "    .dataframe thead th {\n",
       "        text-align: right;\n",
       "    }\n",
       "</style>\n",
       "<table border=\"1\" class=\"dataframe\">\n",
       "  <thead>\n",
       "    <tr style=\"text-align: right;\">\n",
       "      <th></th>\n",
       "      <th>ID</th>\n",
       "      <th>Docs FBL3N</th>\n",
       "      <th>Montos FBL3N</th>\n",
       "      <th>Docs FBL5N</th>\n",
       "      <th>Montos FBL5N</th>\n",
       "    </tr>\n",
       "  </thead>\n",
       "  <tbody>\n",
       "    <tr>\n",
       "      <th>0</th>\n",
       "      <td>1000988</td>\n",
       "      <td>[100401286.0]</td>\n",
       "      <td>[-66685]</td>\n",
       "      <td>[2500335936.0]</td>\n",
       "      <td>[194625]</td>\n",
       "    </tr>\n",
       "    <tr>\n",
       "      <th>1</th>\n",
       "      <td>1001034</td>\n",
       "      <td>[100445348.0]</td>\n",
       "      <td>[-8252]</td>\n",
       "      <td>[1400042005.0, 2500378705.0, 2500360333.0, 250...</td>\n",
       "      <td>[-1, 61724, 76302, 100738, 117357, 97902, -1, ...</td>\n",
       "    </tr>\n",
       "    <tr>\n",
       "      <th>2</th>\n",
       "      <td>1001047</td>\n",
       "      <td>[100411847.0]</td>\n",
       "      <td>[-1287870]</td>\n",
       "      <td>[2500377562.0, 2500370978.0, 2500372265.0, 250...</td>\n",
       "      <td>[120254, 42322, 3639, 11662, 5831, 424650, 361...</td>\n",
       "    </tr>\n",
       "    <tr>\n",
       "      <th>3</th>\n",
       "      <td>1001100</td>\n",
       "      <td>[100338256.0, 100338142.0]</td>\n",
       "      <td>[-1, -1]</td>\n",
       "      <td>[2500330923.0]</td>\n",
       "      <td>[211233]</td>\n",
       "    </tr>\n",
       "    <tr>\n",
       "      <th>4</th>\n",
       "      <td>1001121</td>\n",
       "      <td>[100466705.0]</td>\n",
       "      <td>[-22063]</td>\n",
       "      <td>[2500355252.0, 2500296204.0, 2500335870.0, 250...</td>\n",
       "      <td>[93505, 118785, 65938, 6719, 40772, 68580, -1]</td>\n",
       "    </tr>\n",
       "    <tr>\n",
       "      <th>...</th>\n",
       "      <td>...</td>\n",
       "      <td>...</td>\n",
       "      <td>...</td>\n",
       "      <td>...</td>\n",
       "      <td>...</td>\n",
       "    </tr>\n",
       "    <tr>\n",
       "      <th>647</th>\n",
       "      <td>3322207</td>\n",
       "      <td>[100407508.0]</td>\n",
       "      <td>[-125408]</td>\n",
       "      <td>[100227114.0, 100385843.0]</td>\n",
       "      <td>[-5676, -1178]</td>\n",
       "    </tr>\n",
       "    <tr>\n",
       "      <th>648</th>\n",
       "      <td>3326293</td>\n",
       "      <td>[100268983.0]</td>\n",
       "      <td>[-19016]</td>\n",
       "      <td>[2500379006.0, 1400180457.0, 2500378692.0]</td>\n",
       "      <td>[498397, -667125, 168728]</td>\n",
       "    </tr>\n",
       "    <tr>\n",
       "      <th>649</th>\n",
       "      <td>3326496</td>\n",
       "      <td>[100413824.0]</td>\n",
       "      <td>[-198233]</td>\n",
       "      <td>[100360366.0, 2500275607.0, 2500275837.0, 2500...</td>\n",
       "      <td>[-214408, 72809, 69601, 115014, 60720, 122472,...</td>\n",
       "    </tr>\n",
       "    <tr>\n",
       "      <th>650</th>\n",
       "      <td>3343520</td>\n",
       "      <td>[100166130.0]</td>\n",
       "      <td>[-224650]</td>\n",
       "      <td>[1400168046.0, 2500352281.0]</td>\n",
       "      <td>[-95989, 119336]</td>\n",
       "    </tr>\n",
       "    <tr>\n",
       "      <th>651</th>\n",
       "      <td>5003423</td>\n",
       "      <td>[100286222.0]</td>\n",
       "      <td>[-69811]</td>\n",
       "      <td>[2500086955.0]</td>\n",
       "      <td>[26656]</td>\n",
       "    </tr>\n",
       "  </tbody>\n",
       "</table>\n",
       "<p>652 rows × 5 columns</p>\n",
       "</div>"
      ],
      "text/plain": [
       "          ID                  Docs FBL3N Montos FBL3N  \\\n",
       "0    1000988               [100401286.0]     [-66685]   \n",
       "1    1001034               [100445348.0]      [-8252]   \n",
       "2    1001047               [100411847.0]   [-1287870]   \n",
       "3    1001100  [100338256.0, 100338142.0]     [-1, -1]   \n",
       "4    1001121               [100466705.0]     [-22063]   \n",
       "..       ...                         ...          ...   \n",
       "647  3322207               [100407508.0]    [-125408]   \n",
       "648  3326293               [100268983.0]     [-19016]   \n",
       "649  3326496               [100413824.0]    [-198233]   \n",
       "650  3343520               [100166130.0]    [-224650]   \n",
       "651  5003423               [100286222.0]     [-69811]   \n",
       "\n",
       "                                            Docs FBL5N  \\\n",
       "0                                       [2500335936.0]   \n",
       "1    [1400042005.0, 2500378705.0, 2500360333.0, 250...   \n",
       "2    [2500377562.0, 2500370978.0, 2500372265.0, 250...   \n",
       "3                                       [2500330923.0]   \n",
       "4    [2500355252.0, 2500296204.0, 2500335870.0, 250...   \n",
       "..                                                 ...   \n",
       "647                         [100227114.0, 100385843.0]   \n",
       "648         [2500379006.0, 1400180457.0, 2500378692.0]   \n",
       "649  [100360366.0, 2500275607.0, 2500275837.0, 2500...   \n",
       "650                       [1400168046.0, 2500352281.0]   \n",
       "651                                     [2500086955.0]   \n",
       "\n",
       "                                          Montos FBL5N  \n",
       "0                                             [194625]  \n",
       "1    [-1, 61724, 76302, 100738, 117357, 97902, -1, ...  \n",
       "2    [120254, 42322, 3639, 11662, 5831, 424650, 361...  \n",
       "3                                             [211233]  \n",
       "4       [93505, 118785, 65938, 6719, 40772, 68580, -1]  \n",
       "..                                                 ...  \n",
       "647                                     [-5676, -1178]  \n",
       "648                          [498397, -667125, 168728]  \n",
       "649  [-214408, 72809, 69601, 115014, 60720, 122472,...  \n",
       "650                                   [-95989, 119336]  \n",
       "651                                            [26656]  \n",
       "\n",
       "[652 rows x 5 columns]"
      ]
     },
     "execution_count": 36,
     "metadata": {},
     "output_type": "execute_result"
    }
   ],
   "source": [
    "ids3 = ID_FBL3N[\"Cliente\"].values\n",
    "doc3 = ID_FBL3N[\"N° documento\"].values\n",
    "mon3 = ID_FBL3N[\"Importe en moneda local\"].values\n",
    "\n",
    "ids5 = ID_FBL5N[\"Cuenta\"].values\n",
    "doc5 = ID_FBL5N[\"N° doc.\"].values\n",
    "mon5 = ID_FBL5N[\"Importe en ML\"].values\n",
    "\n",
    "agrupar(ids3, doc3, mon3, ids5, doc5, mon5)"
   ]
  },
  {
   "cell_type": "code",
   "execution_count": 17,
   "metadata": {},
   "outputs": [],
   "source": [
    "%lprun -f agrupar agrupar(ids3, doc3, mon3, ids5, doc5, mon5)g"
   ]
  },
  {
   "cell_type": "code",
   "execution_count": 20,
   "metadata": {},
   "outputs": [
    {
     "name": "stdout",
     "output_type": "stream",
     "text": [
      "13.6 ms ± 102 µs per loop (mean ± std. dev. of 7 runs, 100 loops each)\n"
     ]
    }
   ],
   "source": [
    "%timeit agrupar(ids3, doc3, mon3, ids5, doc5, mon5)"
   ]
  },
  {
   "cell_type": "code",
   "execution_count": 18,
   "metadata": {},
   "outputs": [],
   "source": [
    "MATCHES_ID = pd.merge(ID_FBL3N, ID_FBL5N, left_on=\"Cliente\", right_on=\"Cuenta\", suffixes=(\" FBL3N\", \" FBL5N\"))"
   ]
  },
  {
   "cell_type": "code",
   "execution_count": 19,
   "metadata": {
    "scrolled": true
   },
   "outputs": [
    {
     "ename": "KeyError",
     "evalue": "'Nº documento'",
     "output_type": "error",
     "traceback": [
      "\u001b[1;31m---------------------------------------------------------------------------\u001b[0m",
      "\u001b[1;31mKeyError\u001b[0m                                  Traceback (most recent call last)",
      "\u001b[1;32m~\\AppData\\Local\\Programs\\Python\\Python39\\lib\\site-packages\\pandas\\core\\indexes\\base.py\u001b[0m in \u001b[0;36mget_loc\u001b[1;34m(self, key, method, tolerance)\u001b[0m\n\u001b[0;32m   3360\u001b[0m             \u001b[1;32mtry\u001b[0m\u001b[1;33m:\u001b[0m\u001b[1;33m\u001b[0m\u001b[1;33m\u001b[0m\u001b[0m\n\u001b[1;32m-> 3361\u001b[1;33m                 \u001b[1;32mreturn\u001b[0m \u001b[0mself\u001b[0m\u001b[1;33m.\u001b[0m\u001b[0m_engine\u001b[0m\u001b[1;33m.\u001b[0m\u001b[0mget_loc\u001b[0m\u001b[1;33m(\u001b[0m\u001b[0mcasted_key\u001b[0m\u001b[1;33m)\u001b[0m\u001b[1;33m\u001b[0m\u001b[1;33m\u001b[0m\u001b[0m\n\u001b[0m\u001b[0;32m   3362\u001b[0m             \u001b[1;32mexcept\u001b[0m \u001b[0mKeyError\u001b[0m \u001b[1;32mas\u001b[0m \u001b[0merr\u001b[0m\u001b[1;33m:\u001b[0m\u001b[1;33m\u001b[0m\u001b[1;33m\u001b[0m\u001b[0m\n",
      "\u001b[1;32m~\\AppData\\Local\\Programs\\Python\\Python39\\lib\\site-packages\\pandas\\_libs\\index.pyx\u001b[0m in \u001b[0;36mpandas._libs.index.IndexEngine.get_loc\u001b[1;34m()\u001b[0m\n",
      "\u001b[1;32m~\\AppData\\Local\\Programs\\Python\\Python39\\lib\\site-packages\\pandas\\_libs\\index.pyx\u001b[0m in \u001b[0;36mpandas._libs.index.IndexEngine.get_loc\u001b[1;34m()\u001b[0m\n",
      "\u001b[1;32mpandas\\_libs\\hashtable_class_helper.pxi\u001b[0m in \u001b[0;36mpandas._libs.hashtable.PyObjectHashTable.get_item\u001b[1;34m()\u001b[0m\n",
      "\u001b[1;32mpandas\\_libs\\hashtable_class_helper.pxi\u001b[0m in \u001b[0;36mpandas._libs.hashtable.PyObjectHashTable.get_item\u001b[1;34m()\u001b[0m\n",
      "\u001b[1;31mKeyError\u001b[0m: 'Nº documento'",
      "\nThe above exception was the direct cause of the following exception:\n",
      "\u001b[1;31mKeyError\u001b[0m                                  Traceback (most recent call last)",
      "\u001b[1;32mC:\\Users\\FRANCI~1.MAN\\AppData\\Local\\Temp/ipykernel_1012/1871933789.py\u001b[0m in \u001b[0;36m<module>\u001b[1;34m\u001b[0m\n\u001b[1;32m----> 1\u001b[1;33m \u001b[0mpd\u001b[0m\u001b[1;33m.\u001b[0m\u001b[0mconcat\u001b[0m\u001b[1;33m(\u001b[0m\u001b[1;33m[\u001b[0m\u001b[0mMATCHES_ID\u001b[0m\u001b[1;33m[\u001b[0m\u001b[1;33m(\u001b[0m\u001b[0mMATCHES_ID\u001b[0m\u001b[1;33m[\u001b[0m\u001b[1;34m\"Nº documento\"\u001b[0m\u001b[1;33m]\u001b[0m \u001b[1;33m==\u001b[0m \u001b[0mdoc\u001b[0m\u001b[1;33m)\u001b[0m \u001b[1;33m&\u001b[0m \u001b[1;33m(\u001b[0m\u001b[0mMATCHES_ID\u001b[0m\u001b[1;33m[\u001b[0m\u001b[1;34m\"Cliente\"\u001b[0m\u001b[1;33m]\u001b[0m \u001b[1;33m==\u001b[0m \u001b[0mID\u001b[0m\u001b[1;33m)\u001b[0m\u001b[1;33m]\u001b[0m \u001b[1;32mfor\u001b[0m \u001b[0mdoc\u001b[0m\u001b[1;33m,\u001b[0m \u001b[0mID\u001b[0m \u001b[1;32min\u001b[0m \u001b[0mzip\u001b[0m\u001b[1;33m(\u001b[0m\u001b[0mMATCHES_ID\u001b[0m\u001b[1;33m[\u001b[0m\u001b[1;34m\"Nº documento\"\u001b[0m\u001b[1;33m]\u001b[0m\u001b[1;33m,\u001b[0m \u001b[0mMATCHES_ID\u001b[0m\u001b[1;33m[\u001b[0m\u001b[1;34m\"Cliente\"\u001b[0m\u001b[1;33m]\u001b[0m\u001b[1;33m)\u001b[0m\u001b[1;33m]\u001b[0m\u001b[1;33m)\u001b[0m\u001b[1;33m\u001b[0m\u001b[1;33m\u001b[0m\u001b[0m\n\u001b[0m",
      "\u001b[1;32m~\\AppData\\Local\\Programs\\Python\\Python39\\lib\\site-packages\\pandas\\core\\frame.py\u001b[0m in \u001b[0;36m__getitem__\u001b[1;34m(self, key)\u001b[0m\n\u001b[0;32m   3456\u001b[0m             \u001b[1;32mif\u001b[0m \u001b[0mself\u001b[0m\u001b[1;33m.\u001b[0m\u001b[0mcolumns\u001b[0m\u001b[1;33m.\u001b[0m\u001b[0mnlevels\u001b[0m \u001b[1;33m>\u001b[0m \u001b[1;36m1\u001b[0m\u001b[1;33m:\u001b[0m\u001b[1;33m\u001b[0m\u001b[1;33m\u001b[0m\u001b[0m\n\u001b[0;32m   3457\u001b[0m                 \u001b[1;32mreturn\u001b[0m \u001b[0mself\u001b[0m\u001b[1;33m.\u001b[0m\u001b[0m_getitem_multilevel\u001b[0m\u001b[1;33m(\u001b[0m\u001b[0mkey\u001b[0m\u001b[1;33m)\u001b[0m\u001b[1;33m\u001b[0m\u001b[1;33m\u001b[0m\u001b[0m\n\u001b[1;32m-> 3458\u001b[1;33m             \u001b[0mindexer\u001b[0m \u001b[1;33m=\u001b[0m \u001b[0mself\u001b[0m\u001b[1;33m.\u001b[0m\u001b[0mcolumns\u001b[0m\u001b[1;33m.\u001b[0m\u001b[0mget_loc\u001b[0m\u001b[1;33m(\u001b[0m\u001b[0mkey\u001b[0m\u001b[1;33m)\u001b[0m\u001b[1;33m\u001b[0m\u001b[1;33m\u001b[0m\u001b[0m\n\u001b[0m\u001b[0;32m   3459\u001b[0m             \u001b[1;32mif\u001b[0m \u001b[0mis_integer\u001b[0m\u001b[1;33m(\u001b[0m\u001b[0mindexer\u001b[0m\u001b[1;33m)\u001b[0m\u001b[1;33m:\u001b[0m\u001b[1;33m\u001b[0m\u001b[1;33m\u001b[0m\u001b[0m\n\u001b[0;32m   3460\u001b[0m                 \u001b[0mindexer\u001b[0m \u001b[1;33m=\u001b[0m \u001b[1;33m[\u001b[0m\u001b[0mindexer\u001b[0m\u001b[1;33m]\u001b[0m\u001b[1;33m\u001b[0m\u001b[1;33m\u001b[0m\u001b[0m\n",
      "\u001b[1;32m~\\AppData\\Local\\Programs\\Python\\Python39\\lib\\site-packages\\pandas\\core\\indexes\\base.py\u001b[0m in \u001b[0;36mget_loc\u001b[1;34m(self, key, method, tolerance)\u001b[0m\n\u001b[0;32m   3361\u001b[0m                 \u001b[1;32mreturn\u001b[0m \u001b[0mself\u001b[0m\u001b[1;33m.\u001b[0m\u001b[0m_engine\u001b[0m\u001b[1;33m.\u001b[0m\u001b[0mget_loc\u001b[0m\u001b[1;33m(\u001b[0m\u001b[0mcasted_key\u001b[0m\u001b[1;33m)\u001b[0m\u001b[1;33m\u001b[0m\u001b[1;33m\u001b[0m\u001b[0m\n\u001b[0;32m   3362\u001b[0m             \u001b[1;32mexcept\u001b[0m \u001b[0mKeyError\u001b[0m \u001b[1;32mas\u001b[0m \u001b[0merr\u001b[0m\u001b[1;33m:\u001b[0m\u001b[1;33m\u001b[0m\u001b[1;33m\u001b[0m\u001b[0m\n\u001b[1;32m-> 3363\u001b[1;33m                 \u001b[1;32mraise\u001b[0m \u001b[0mKeyError\u001b[0m\u001b[1;33m(\u001b[0m\u001b[0mkey\u001b[0m\u001b[1;33m)\u001b[0m \u001b[1;32mfrom\u001b[0m \u001b[0merr\u001b[0m\u001b[1;33m\u001b[0m\u001b[1;33m\u001b[0m\u001b[0m\n\u001b[0m\u001b[0;32m   3364\u001b[0m \u001b[1;33m\u001b[0m\u001b[0m\n\u001b[0;32m   3365\u001b[0m         \u001b[1;32mif\u001b[0m \u001b[0mis_scalar\u001b[0m\u001b[1;33m(\u001b[0m\u001b[0mkey\u001b[0m\u001b[1;33m)\u001b[0m \u001b[1;32mand\u001b[0m \u001b[0misna\u001b[0m\u001b[1;33m(\u001b[0m\u001b[0mkey\u001b[0m\u001b[1;33m)\u001b[0m \u001b[1;32mand\u001b[0m \u001b[1;32mnot\u001b[0m \u001b[0mself\u001b[0m\u001b[1;33m.\u001b[0m\u001b[0mhasnans\u001b[0m\u001b[1;33m:\u001b[0m\u001b[1;33m\u001b[0m\u001b[1;33m\u001b[0m\u001b[0m\n",
      "\u001b[1;31mKeyError\u001b[0m: 'Nº documento'"
     ]
    }
   ],
   "source": [
    "pd.concat([MATCHES_ID[(MATCHES_ID[\"Nº documento\"] == doc) & (MATCHES_ID[\"Cliente\"] == ID)] for doc, ID in zip(MATCHES_ID[\"Nº documento\"], MATCHES_ID[\"Cliente\"])])"
   ]
  },
  {
   "cell_type": "code",
   "execution_count": null,
   "metadata": {},
   "outputs": [],
   "source": [
    "ID_FBL3N[\n",
    "    pd.concat(\n",
    "        [-ID_FBL3N[(ID_FBL3N[\"N° documento\"] == doc) & (ID_FBL3N[\"Cliente\"] == ID)][\"Importe en moneda local\"]\n",
    "         == ID_FBL5N[ID_FBL5N[\"Cuenta\"] == ID][\"Importe en ML\"].sum()\n",
    "         for doc, ID in zip(ID_FBL3N[\"N° documento\"], ID_FBL3N[\"Cliente\"])]\n",
    "    ).reset_index().drop_duplicates(subset=\"index\")[\"Importe en moneda local\"]\n",
    "].to_excel(\"RESULTADOS/RUT y Monto 1-T.xlsx\")"
   ]
  },
  {
   "cell_type": "markdown",
   "metadata": {},
   "source": [
    "# PARTE 4"
   ]
  },
  {
   "cell_type": "markdown",
   "metadata": {},
   "source": [
    "### Determinar qué datos encontré yo que Roberto no, y viceversa"
   ]
  },
  {
   "cell_type": "markdown",
   "metadata": {},
   "source": [
    "1. RUT y Monto"
   ]
  },
  {
   "cell_type": "code",
   "execution_count": null,
   "metadata": {},
   "outputs": [],
   "source": [
    "RUT_Y_MONTO = leer_excel(\"PROPUESTA/RUT y Monto.xlsx\")"
   ]
  },
  {
   "cell_type": "code",
   "execution_count": null,
   "metadata": {},
   "outputs": [],
   "source": [
    "outer_rym = pd.merge(MATCHES_ID_1_1, RUT_Y_MONTO, on=\"N° documento\", how=\"outer\", indicator=True)"
   ]
  },
  {
   "cell_type": "code",
   "execution_count": null,
   "metadata": {},
   "outputs": [],
   "source": [
    "try:\n",
    "    os.mkdir(\"COMPARACIONES/\")\n",
    "except:\n",
    "    pass"
   ]
  },
  {
   "cell_type": "code",
   "execution_count": null,
   "metadata": {},
   "outputs": [],
   "source": [
    "escribir_excel(outer_rym[outer_rym[\"_merge\"] == \"left_only\"], \"COMPARACIONES/RUT y Monto - LEFT.xlsx\")"
   ]
  },
  {
   "cell_type": "code",
   "execution_count": null,
   "metadata": {},
   "outputs": [],
   "source": [
    "escribir_excel(outer_rym[outer_rym[\"_merge\"] == \"right_only\"], \"COMPARACIONES/RUT y Monto - RIGHT.xlsx\")"
   ]
  },
  {
   "cell_type": "markdown",
   "metadata": {},
   "source": [
    "2. Solo RUT"
   ]
  },
  {
   "cell_type": "code",
   "execution_count": null,
   "metadata": {},
   "outputs": [],
   "source": [
    "SOLO_RUT = leer_excel(\"002_SoloRut.xlsx\")"
   ]
  },
  {
   "cell_type": "code",
   "execution_count": null,
   "metadata": {},
   "outputs": [],
   "source": [
    "outer_sr = pd.merge(MATCHES_ID, SOLO_RUT, on=\"Nº documento\", how=\"outer\", indicator=True)"
   ]
  },
  {
   "cell_type": "code",
   "execution_count": null,
   "metadata": {},
   "outputs": [],
   "source": [
    "escribir_excel(outer_sr[outer_sr[\"_merge\"] == \"left_only\"], \"SOLO_RUT_LEFT.xlsx\")"
   ]
  },
  {
   "cell_type": "code",
   "execution_count": null,
   "metadata": {},
   "outputs": [],
   "source": [
    "escribir_excel(outer_sr[outer_sr[\"_merge\"] == \"right_only\"], \"SOLO_RUT_RIGHT.xlsx\")"
   ]
  },
  {
   "cell_type": "code",
   "execution_count": null,
   "metadata": {},
   "outputs": [],
   "source": []
  },
  {
   "cell_type": "code",
   "execution_count": null,
   "metadata": {},
   "outputs": [],
   "source": []
  }
 ],
 "metadata": {
  "deepnote": {
   "is_reactive": false
  },
  "deepnote_execution_queue": [],
  "deepnote_notebook_id": "f3975ac5-0a8d-4857-a443-8977a1d3a20c",
  "kernelspec": {
   "display_name": "Python 3 (ipykernel)",
   "language": "python",
   "name": "python3"
  },
  "language_info": {
   "codemirror_mode": {
    "name": "ipython",
    "version": 3
   },
   "file_extension": ".py",
   "mimetype": "text/x-python",
   "name": "python",
   "nbconvert_exporter": "python",
   "pygments_lexer": "ipython3",
   "version": "3.9.7"
  }
 },
 "nbformat": 4,
 "nbformat_minor": 2
}
