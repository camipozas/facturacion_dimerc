{
 "cells": [
  {
   "cell_type": "markdown",
   "metadata": {},
   "source": [
    "# PREPARATIVOS"
   ]
  },
  {
   "cell_type": "code",
   "execution_count": 1,
   "metadata": {
    "cell_id": "00000-3a8a76b2-59e5-4251-8cd4-569b6be03130",
    "deepnote_cell_type": "code",
    "deepnote_to_be_reexecuted": false,
    "execution_millis": 43,
    "execution_start": 1634320497467,
    "source_hash": "9ad2f348",
    "tags": []
   },
   "outputs": [],
   "source": [
    "import pandas as pd\n",
    "import numpy as np\n",
    "import itertools as it\n",
    "import re\n",
    "import os\n",
    "from funciones_1 import *\n",
    "from funciones_2 import *\n",
    "from importlib import reload\n",
    "import time\n",
    "import matplotlib.pyplot as plt\n",
    "#import warnings\n",
    "#warnings.filterwarnings(\"error\")"
   ]
  },
  {
   "cell_type": "code",
   "execution_count": 2,
   "metadata": {},
   "outputs": [],
   "source": [
    "%load_ext line_profiler"
   ]
  },
  {
   "cell_type": "code",
   "execution_count": 3,
   "metadata": {
    "cell_id": "00001-06f09048-31e9-4fcd-8b22-d65cb17b36a6",
    "deepnote_cell_type": "code",
    "deepnote_to_be_reexecuted": false,
    "execution_millis": 69,
    "execution_start": 1634320497511,
    "source_hash": "b0474890",
    "tags": []
   },
   "outputs": [],
   "source": [
    "#FBL3N = leer_excel(\"FBL3N.xlsx\")"
   ]
  },
  {
   "cell_type": "code",
   "execution_count": 4,
   "metadata": {
    "cell_id": "00002-bb05e881-908e-4bd5-89af-937edc7e5550",
    "deepnote_cell_type": "code",
    "deepnote_to_be_reexecuted": true,
    "execution_millis": 51801,
    "execution_start": 1634317238330,
    "scrolled": true,
    "source_hash": "8d049ca0",
    "tags": []
   },
   "outputs": [],
   "source": [
    "#FBL5N = leer_excel(\"FBL5N.xlsx\")"
   ]
  },
  {
   "cell_type": "code",
   "execution_count": 5,
   "metadata": {
    "cell_id": "00003-ada797fa-be45-4a9c-bde8-6b68bc29d7ef",
    "deepnote_cell_type": "code",
    "deepnote_to_be_reexecuted": true,
    "execution_millis": 72524,
    "execution_start": 1634317290123,
    "source_hash": "fe553abe",
    "tags": []
   },
   "outputs": [],
   "source": [
    "#KNA1 = leer_excel(\"KNA1.xlsx\")"
   ]
  },
  {
   "cell_type": "code",
   "execution_count": 6,
   "metadata": {},
   "outputs": [],
   "source": [
    "#%store FBL3N FBL5N KNA1"
   ]
  },
  {
   "cell_type": "code",
   "execution_count": 7,
   "metadata": {},
   "outputs": [],
   "source": [
    "%store -r FBL3N FBL5N KNA1"
   ]
  },
  {
   "cell_type": "code",
   "execution_count": 8,
   "metadata": {},
   "outputs": [],
   "source": [
    "#PROPUESTA = leer_excel(\"PROPUESTA.xlsx\", None)"
   ]
  },
  {
   "cell_type": "markdown",
   "metadata": {},
   "source": [
    "# PARTE 1"
   ]
  },
  {
   "cell_type": "code",
   "execution_count": 9,
   "metadata": {
    "cell_id": "00001-e4dcbd3c-674d-42d6-a26b-f90cfb13ca7d",
    "deepnote_cell_type": "code",
    "deepnote_to_be_reexecuted": true,
    "execution_millis": 323,
    "execution_start": 1634317362648,
    "source_hash": "734ada2c",
    "tags": []
   },
   "outputs": [],
   "source": [
    "textos = FBL3N[\"Texto\"]\n",
    "FBL3N[\"RUT\"] = textos.apply(detectar_rut)\n",
    "FBL3N[\"N° Factura\"] = textos.apply(detectar_n_factura)\n",
    "\n",
    "RUT_FBL3N = FBL3N[pd.notna(FBL3N[\"RUT\"])]\n",
    "FACT_FBL3N = FBL3N[pd.isna(FBL3N[\"RUT\"]) & pd.notna(FBL3N[\"N° Factura\"])]"
   ]
  },
  {
   "cell_type": "markdown",
   "metadata": {},
   "source": [
    "# PARTE 2"
   ]
  },
  {
   "cell_type": "markdown",
   "metadata": {},
   "source": [
    "### Trabajar con calces de factura"
   ]
  },
  {
   "cell_type": "code",
   "execution_count": 10,
   "metadata": {
    "cell_id": "00006-43c04e77-afdf-401e-8511-8cac52876fe0",
    "deepnote_cell_type": "code",
    "deepnote_to_be_reexecuted": true,
    "source_hash": "4f0e88ce",
    "tags": []
   },
   "outputs": [],
   "source": [
    "FBL5N[\"Referencia\"] = FBL5N[\"Referencia\"].apply(lambda s: str(s))\n",
    "FBL5N[\"Cuenta\"] = FBL5N[\"Cuenta\"][pd.notna(FBL5N[\"Cuenta\"])].apply(lambda n: str(int(n)))\n",
    "\n",
    "KNA1[\"Nº ident.fis.1\"] = KNA1[\"Nº ident.fis.1\"].apply(lambda s: str(s).lstrip(\"0\"))\n",
    "KNA1[\"Cliente\"] = KNA1[\"Cliente\"][pd.notna(KNA1[\"Cliente\"])].apply(lambda s: str(int(s)))"
   ]
  },
  {
   "cell_type": "code",
   "execution_count": 11,
   "metadata": {},
   "outputs": [],
   "source": [
    "# Calzar números de factura\n",
    "filtro_fact = FBL5N[\"Referencia\"].isin(FACT_FBL3N[\"N° Factura\"])\n",
    "FACT_FBL5N = FBL5N[filtro_fact]\n",
    "NO_FACT_FBL5N = FBL5N[~filtro_fact]"
   ]
  },
  {
   "cell_type": "code",
   "execution_count": 12,
   "metadata": {},
   "outputs": [],
   "source": [
    "# Calzar RUTs\n",
    "RUT_ID_FBL3N = pd.merge(RUT_FBL3N, KNA1, left_on=\"RUT\", right_on=\"Nº ident.fis.1\")\n",
    "\n",
    "filtro_id5 = NO_FACT_FBL5N[\"Cuenta\"].isin(RUT_ID_FBL3N[\"Cliente\"])\n",
    "ID_FBL5N = NO_FACT_FBL5N[filtro_id5]\n",
    "NN_FBL5N = NO_FACT_FBL5N[~filtro_id5]\n",
    "\n",
    "filtro_id3 = RUT_ID_FBL3N[\"Cliente\"].isin(ID_FBL5N[\"Cuenta\"])\n",
    "ID_FBL3N = RUT_ID_FBL3N[filtro_id3]\n",
    "SOLO_RUT_FBL3N = RUT_ID_FBL3N[filtro_id3]"
   ]
  },
  {
   "cell_type": "code",
   "execution_count": 13,
   "metadata": {},
   "outputs": [],
   "source": [
    "try:\n",
    "    os.mkdir(\"RESULTADOS/\")\n",
    "except:\n",
    "    pass"
   ]
  },
  {
   "cell_type": "code",
   "execution_count": 14,
   "metadata": {},
   "outputs": [
    {
     "name": "stdout",
     "output_type": "stream",
     "text": [
      "Escribiendo nuevo archivo Excel: RESULTADOS/Facturas.xlsx\n",
      "Archivo Excel escrito.\n"
     ]
    }
   ],
   "source": [
    "MATCHES_FACT = pd.merge(FACT_FBL3N, FACT_FBL5N, left_on=\"N° Factura\", right_on=\"Referencia\")\n",
    "escribir_excel(FACT_FBL5N, \"RESULTADOS/Facturas.xlsx\")"
   ]
  },
  {
   "cell_type": "markdown",
   "metadata": {},
   "source": [
    "# PARTE 3"
   ]
  },
  {
   "cell_type": "markdown",
   "metadata": {},
   "source": [
    "## Matches"
   ]
  },
  {
   "cell_type": "code",
   "execution_count": 15,
   "metadata": {
    "scrolled": true
   },
   "outputs": [],
   "source": [
    "DF, D = calzar(ID_FBL3N, ID_FBL5N)"
   ]
  },
  {
   "cell_type": "code",
   "execution_count": 16,
   "metadata": {},
   "outputs": [
    {
     "data": {
      "text/html": [
       "<div>\n",
       "<style scoped>\n",
       "    .dataframe tbody tr th:only-of-type {\n",
       "        vertical-align: middle;\n",
       "    }\n",
       "\n",
       "    .dataframe tbody tr th {\n",
       "        vertical-align: top;\n",
       "    }\n",
       "\n",
       "    .dataframe thead th {\n",
       "        text-align: right;\n",
       "    }\n",
       "</style>\n",
       "<table border=\"1\" class=\"dataframe\">\n",
       "  <thead>\n",
       "    <tr style=\"text-align: right;\">\n",
       "      <th></th>\n",
       "      <th>Grupo</th>\n",
       "      <th>Soc.</th>\n",
       "      <th>Nº documento</th>\n",
       "      <th>Clase de documento</th>\n",
       "      <th>Fecha de documento</th>\n",
       "      <th>Importe en moneda local</th>\n",
       "      <th>Moneda local</th>\n",
       "      <th>Texto</th>\n",
       "      <th>Cliente</th>\n",
       "      <th>Nº ident.fis.1</th>\n",
       "      <th>Nombre 1</th>\n",
       "      <th>Asignación</th>\n",
       "      <th>Ejerc./mes</th>\n",
       "      <th>Nº doc.</th>\n",
       "      <th>Referencia</th>\n",
       "      <th>Cla</th>\n",
       "      <th>Importe en ML</th>\n",
       "      <th>Mon.</th>\n",
       "    </tr>\n",
       "  </thead>\n",
       "  <tbody>\n",
       "    <tr>\n",
       "      <th>0</th>\n",
       "      <td>1</td>\n",
       "      <td>2000</td>\n",
       "      <td>100018445.0</td>\n",
       "      <td>CT</td>\n",
       "      <td>2019-01-23</td>\n",
       "      <td>-11567</td>\n",
       "      <td>CLP</td>\n",
       "      <td>PAGO:PROVEEDORES 0969424002</td>\n",
       "      <td>1341643</td>\n",
       "      <td>96942400-2</td>\n",
       "      <td>MEGASALUD SPA</td>\n",
       "      <td>1610070236</td>\n",
       "      <td>2021/07</td>\n",
       "      <td>1.600018e+09</td>\n",
       "      <td>1850834</td>\n",
       "      <td>DG</td>\n",
       "      <td>-350181</td>\n",
       "      <td>CLP</td>\n",
       "    </tr>\n",
       "    <tr>\n",
       "      <th>1</th>\n",
       "      <td>1</td>\n",
       "      <td>2000</td>\n",
       "      <td>100018445.0</td>\n",
       "      <td>CT</td>\n",
       "      <td>2019-01-23</td>\n",
       "      <td>-11567</td>\n",
       "      <td>CLP</td>\n",
       "      <td>PAGO:PROVEEDORES 0969424002</td>\n",
       "      <td>1341643</td>\n",
       "      <td>96942400-2</td>\n",
       "      <td>MEGASALUD SPA</td>\n",
       "      <td>1801572657</td>\n",
       "      <td>2021/10</td>\n",
       "      <td>2.500352e+09</td>\n",
       "      <td>9842122</td>\n",
       "      <td>DR</td>\n",
       "      <td>93998</td>\n",
       "      <td>CLP</td>\n",
       "    </tr>\n",
       "    <tr>\n",
       "      <th>2</th>\n",
       "      <td>1</td>\n",
       "      <td>2000</td>\n",
       "      <td>100018445.0</td>\n",
       "      <td>CT</td>\n",
       "      <td>2019-01-23</td>\n",
       "      <td>-11567</td>\n",
       "      <td>CLP</td>\n",
       "      <td>PAGO:PROVEEDORES 0969424002</td>\n",
       "      <td>1341643</td>\n",
       "      <td>96942400-2</td>\n",
       "      <td>MEGASALUD SPA</td>\n",
       "      <td>1801573445</td>\n",
       "      <td>2021/10</td>\n",
       "      <td>2.500353e+09</td>\n",
       "      <td>9842526</td>\n",
       "      <td>DR</td>\n",
       "      <td>267750</td>\n",
       "      <td>CLP</td>\n",
       "    </tr>\n",
       "    <tr>\n",
       "      <th>3</th>\n",
       "      <td>2</td>\n",
       "      <td>2000</td>\n",
       "      <td>100057473.0</td>\n",
       "      <td>CT</td>\n",
       "      <td>2021-02-19</td>\n",
       "      <td>-1942592</td>\n",
       "      <td>CLP</td>\n",
       "      <td>PAGO:PROVEEDORES 0761419889</td>\n",
       "      <td>1726116</td>\n",
       "      <td>76141988-9</td>\n",
       "      <td>OPERACIONES INTEGRALES CHACABUCO SO</td>\n",
       "      <td>8783031</td>\n",
       "      <td>2020/06</td>\n",
       "      <td>1.400103e+09</td>\n",
       "      <td>PAGO CHILE</td>\n",
       "      <td>DZ</td>\n",
       "      <td>497452</td>\n",
       "      <td>CLP</td>\n",
       "    </tr>\n",
       "    <tr>\n",
       "      <th>4</th>\n",
       "      <td>2</td>\n",
       "      <td>2000</td>\n",
       "      <td>100057473.0</td>\n",
       "      <td>CT</td>\n",
       "      <td>2021-02-19</td>\n",
       "      <td>-1942592</td>\n",
       "      <td>CLP</td>\n",
       "      <td>PAGO:PROVEEDORES 0761419889</td>\n",
       "      <td>1726116</td>\n",
       "      <td>76141988-9</td>\n",
       "      <td>OPERACIONES INTEGRALES CHACABUCO SO</td>\n",
       "      <td>1801240210</td>\n",
       "      <td>2021/02</td>\n",
       "      <td>2.500053e+09</td>\n",
       "      <td>9494241</td>\n",
       "      <td>DR</td>\n",
       "      <td>1309167</td>\n",
       "      <td>CLP</td>\n",
       "    </tr>\n",
       "    <tr>\n",
       "      <th>...</th>\n",
       "      <td>...</td>\n",
       "      <td>...</td>\n",
       "      <td>...</td>\n",
       "      <td>...</td>\n",
       "      <td>...</td>\n",
       "      <td>...</td>\n",
       "      <td>...</td>\n",
       "      <td>...</td>\n",
       "      <td>...</td>\n",
       "      <td>...</td>\n",
       "      <td>...</td>\n",
       "      <td>...</td>\n",
       "      <td>...</td>\n",
       "      <td>...</td>\n",
       "      <td>...</td>\n",
       "      <td>...</td>\n",
       "      <td>...</td>\n",
       "      <td>...</td>\n",
       "    </tr>\n",
       "    <tr>\n",
       "      <th>201</th>\n",
       "      <td>75</td>\n",
       "      <td>2000</td>\n",
       "      <td>100448442.0</td>\n",
       "      <td>CT</td>\n",
       "      <td>2021-11-29</td>\n",
       "      <td>-165729</td>\n",
       "      <td>CLP</td>\n",
       "      <td>0968729306 P.PROVEEDOR 0968</td>\n",
       "      <td>1747623</td>\n",
       "      <td>96872930-6</td>\n",
       "      <td>SOC ADMINISTRADORA DE CASINOS Y SER</td>\n",
       "      <td>1801577580</td>\n",
       "      <td>2021/10</td>\n",
       "      <td>2.500356e+09</td>\n",
       "      <td>9844415</td>\n",
       "      <td>DR</td>\n",
       "      <td>45860</td>\n",
       "      <td>CLP</td>\n",
       "    </tr>\n",
       "    <tr>\n",
       "      <th>202</th>\n",
       "      <td>76</td>\n",
       "      <td>2000</td>\n",
       "      <td>100448684.0</td>\n",
       "      <td>CT</td>\n",
       "      <td>2021-11-29</td>\n",
       "      <td>-74994</td>\n",
       "      <td>CLP</td>\n",
       "      <td>0762229323 Transf. SOCIEDAD</td>\n",
       "      <td>1119864</td>\n",
       "      <td>76222932-3</td>\n",
       "      <td>SOCIEDAD EHLAN SA</td>\n",
       "      <td>1801633060</td>\n",
       "      <td>2021/11</td>\n",
       "      <td>2.500405e+09</td>\n",
       "      <td>9986503</td>\n",
       "      <td>DR</td>\n",
       "      <td>74994</td>\n",
       "      <td>CLP</td>\n",
       "    </tr>\n",
       "    <tr>\n",
       "      <th>203</th>\n",
       "      <td>77</td>\n",
       "      <td>2000</td>\n",
       "      <td>100448729.0</td>\n",
       "      <td>CT</td>\n",
       "      <td>2021-11-29</td>\n",
       "      <td>-115336</td>\n",
       "      <td>CLP</td>\n",
       "      <td>PAGO:PROVEEDORES 0956160006</td>\n",
       "      <td>1334254</td>\n",
       "      <td>95616000-6</td>\n",
       "      <td>JOY GLOBAL (CHILE) S.A.</td>\n",
       "      <td>NaN</td>\n",
       "      <td>2021/11</td>\n",
       "      <td>1.600033e+09</td>\n",
       "      <td>1864639</td>\n",
       "      <td>DG</td>\n",
       "      <td>-9011</td>\n",
       "      <td>CLP</td>\n",
       "    </tr>\n",
       "    <tr>\n",
       "      <th>204</th>\n",
       "      <td>77</td>\n",
       "      <td>2000</td>\n",
       "      <td>100448729.0</td>\n",
       "      <td>CT</td>\n",
       "      <td>2021-11-29</td>\n",
       "      <td>-115336</td>\n",
       "      <td>CLP</td>\n",
       "      <td>PAGO:PROVEEDORES 0956160006</td>\n",
       "      <td>1334254</td>\n",
       "      <td>95616000-6</td>\n",
       "      <td>JOY GLOBAL (CHILE) S.A.</td>\n",
       "      <td>NaN</td>\n",
       "      <td>2021/11</td>\n",
       "      <td>1.600033e+09</td>\n",
       "      <td>1864641</td>\n",
       "      <td>DG</td>\n",
       "      <td>-4505</td>\n",
       "      <td>CLP</td>\n",
       "    </tr>\n",
       "    <tr>\n",
       "      <th>205</th>\n",
       "      <td>77</td>\n",
       "      <td>2000</td>\n",
       "      <td>100448729.0</td>\n",
       "      <td>CT</td>\n",
       "      <td>2021-11-29</td>\n",
       "      <td>-115336</td>\n",
       "      <td>CLP</td>\n",
       "      <td>PAGO:PROVEEDORES 0956160006</td>\n",
       "      <td>1334254</td>\n",
       "      <td>95616000-6</td>\n",
       "      <td>JOY GLOBAL (CHILE) S.A.</td>\n",
       "      <td>1801589494</td>\n",
       "      <td>2021/10</td>\n",
       "      <td>2.500367e+09</td>\n",
       "      <td>9778902</td>\n",
       "      <td>DR</td>\n",
       "      <td>128852</td>\n",
       "      <td>CLP</td>\n",
       "    </tr>\n",
       "  </tbody>\n",
       "</table>\n",
       "<p>206 rows × 18 columns</p>\n",
       "</div>"
      ],
      "text/plain": [
       "     Grupo  Soc. Nº documento Clase de documento Fecha de documento  \\\n",
       "0        1  2000  100018445.0                 CT         2019-01-23   \n",
       "1        1  2000  100018445.0                 CT         2019-01-23   \n",
       "2        1  2000  100018445.0                 CT         2019-01-23   \n",
       "3        2  2000  100057473.0                 CT         2021-02-19   \n",
       "4        2  2000  100057473.0                 CT         2021-02-19   \n",
       "..     ...   ...          ...                ...                ...   \n",
       "201     75  2000  100448442.0                 CT         2021-11-29   \n",
       "202     76  2000  100448684.0                 CT         2021-11-29   \n",
       "203     77  2000  100448729.0                 CT         2021-11-29   \n",
       "204     77  2000  100448729.0                 CT         2021-11-29   \n",
       "205     77  2000  100448729.0                 CT         2021-11-29   \n",
       "\n",
       "    Importe en moneda local Moneda local                        Texto  \\\n",
       "0                    -11567          CLP  PAGO:PROVEEDORES 0969424002   \n",
       "1                    -11567          CLP  PAGO:PROVEEDORES 0969424002   \n",
       "2                    -11567          CLP  PAGO:PROVEEDORES 0969424002   \n",
       "3                  -1942592          CLP  PAGO:PROVEEDORES 0761419889   \n",
       "4                  -1942592          CLP  PAGO:PROVEEDORES 0761419889   \n",
       "..                      ...          ...                          ...   \n",
       "201                 -165729          CLP  0968729306 P.PROVEEDOR 0968   \n",
       "202                  -74994          CLP  0762229323 Transf. SOCIEDAD   \n",
       "203                 -115336          CLP  PAGO:PROVEEDORES 0956160006   \n",
       "204                 -115336          CLP  PAGO:PROVEEDORES 0956160006   \n",
       "205                 -115336          CLP  PAGO:PROVEEDORES 0956160006   \n",
       "\n",
       "     Cliente Nº ident.fis.1                             Nombre 1  Asignación  \\\n",
       "0    1341643     96942400-2                        MEGASALUD SPA  1610070236   \n",
       "1    1341643     96942400-2                        MEGASALUD SPA  1801572657   \n",
       "2    1341643     96942400-2                        MEGASALUD SPA  1801573445   \n",
       "3    1726116     76141988-9  OPERACIONES INTEGRALES CHACABUCO SO     8783031   \n",
       "4    1726116     76141988-9  OPERACIONES INTEGRALES CHACABUCO SO  1801240210   \n",
       "..       ...            ...                                  ...         ...   \n",
       "201  1747623     96872930-6  SOC ADMINISTRADORA DE CASINOS Y SER  1801577580   \n",
       "202  1119864     76222932-3                    SOCIEDAD EHLAN SA  1801633060   \n",
       "203  1334254     95616000-6              JOY GLOBAL (CHILE) S.A.         NaN   \n",
       "204  1334254     95616000-6              JOY GLOBAL (CHILE) S.A.         NaN   \n",
       "205  1334254     95616000-6              JOY GLOBAL (CHILE) S.A.  1801589494   \n",
       "\n",
       "    Ejerc./mes       Nº doc.  Referencia Cla  Importe en ML Mon.  \n",
       "0      2021/07  1.600018e+09     1850834  DG        -350181  CLP  \n",
       "1      2021/10  2.500352e+09     9842122  DR          93998  CLP  \n",
       "2      2021/10  2.500353e+09     9842526  DR         267750  CLP  \n",
       "3      2020/06  1.400103e+09  PAGO CHILE  DZ         497452  CLP  \n",
       "4      2021/02  2.500053e+09     9494241  DR        1309167  CLP  \n",
       "..         ...           ...         ...  ..            ...  ...  \n",
       "201    2021/10  2.500356e+09     9844415  DR          45860  CLP  \n",
       "202    2021/11  2.500405e+09     9986503  DR          74994  CLP  \n",
       "203    2021/11  1.600033e+09     1864639  DG          -9011  CLP  \n",
       "204    2021/11  1.600033e+09     1864641  DG          -4505  CLP  \n",
       "205    2021/10  2.500367e+09     9778902  DR         128852  CLP  \n",
       "\n",
       "[206 rows x 18 columns]"
      ]
     },
     "execution_count": 16,
     "metadata": {},
     "output_type": "execute_result"
    }
   ],
   "source": [
    "DF"
   ]
  },
  {
   "cell_type": "code",
   "execution_count": 22,
   "metadata": {},
   "outputs": [],
   "source": [
    "d = extraer_datos(ID_FBL3N, ID_FBL5N)\n",
    "match_1_1(d)\n",
    "match_1_T(d)\n",
    "match_1_V(d)\n",
    "%lprun -f match_1_M_2 match_1_M_2(d)"
   ]
  },
  {
   "cell_type": "code",
   "execution_count": 21,
   "metadata": {},
   "outputs": [
    {
     "name": "stdout",
     "output_type": "stream",
     "text": [
      "Escribiendo nuevo archivo Excel: RESULTADOS/Todo.xlsx\n",
      "Error: el archivo ya está abierto. Ciérralo y vuelve a intentarlo.\n"
     ]
    },
    {
     "ename": "KeyboardInterrupt",
     "evalue": "Interrupted by user",
     "output_type": "error",
     "traceback": [
      "\u001b[1;31m---------------------------------------------------------------------------\u001b[0m",
      "\u001b[1;31mKeyboardInterrupt\u001b[0m                         Traceback (most recent call last)",
      "\u001b[1;32mC:\\Users\\FRANCI~1.MAN\\AppData\\Local\\Temp/ipykernel_8412/2769449812.py\u001b[0m in \u001b[0;36m<module>\u001b[1;34m\u001b[0m\n\u001b[1;32m----> 1\u001b[1;33m \u001b[0mescribir_excel\u001b[0m\u001b[1;33m(\u001b[0m\u001b[0mDF\u001b[0m\u001b[1;33m,\u001b[0m \u001b[1;34m\"RESULTADOS/Todo.xlsx\"\u001b[0m\u001b[1;33m)\u001b[0m\u001b[1;33m\u001b[0m\u001b[1;33m\u001b[0m\u001b[0m\n\u001b[0m",
      "\u001b[1;32m~\\OneDrive - Servicios Dimerc SpA\\Programa Francisco Manríquez\\funciones_1.py\u001b[0m in \u001b[0;36mescribir_excel\u001b[1;34m(dataframe, ruta)\u001b[0m\n\u001b[0;32m    122\u001b[0m                 \u001b[1;32mexcept\u001b[0m \u001b[0mPermissionError\u001b[0m\u001b[1;33m:\u001b[0m\u001b[1;33m\u001b[0m\u001b[1;33m\u001b[0m\u001b[0m\n\u001b[0;32m    123\u001b[0m                     \u001b[0mprint\u001b[0m\u001b[1;33m(\u001b[0m\u001b[1;34m\"Error: el archivo ya está abierto. Ciérralo y vuelve a intentarlo.\"\u001b[0m\u001b[1;33m)\u001b[0m\u001b[1;33m\u001b[0m\u001b[1;33m\u001b[0m\u001b[0m\n\u001b[1;32m--> 124\u001b[1;33m                     \u001b[0minput\u001b[0m\u001b[1;33m(\u001b[0m\u001b[1;34m\"Presiona Enter cuando esté listo.\"\u001b[0m\u001b[1;33m)\u001b[0m\u001b[1;33m\u001b[0m\u001b[1;33m\u001b[0m\u001b[0m\n\u001b[0m\u001b[0;32m    125\u001b[0m \u001b[1;33m\u001b[0m\u001b[0m\n\u001b[0;32m    126\u001b[0m \"\"\"\n",
      "\u001b[1;32m~\\AppData\\Local\\Programs\\Python\\Python39\\lib\\site-packages\\ipykernel\\kernelbase.py\u001b[0m in \u001b[0;36mraw_input\u001b[1;34m(self, prompt)\u001b[0m\n\u001b[0;32m   1004\u001b[0m                 \u001b[1;34m\"raw_input was called, but this frontend does not support input requests.\"\u001b[0m\u001b[1;33m\u001b[0m\u001b[1;33m\u001b[0m\u001b[0m\n\u001b[0;32m   1005\u001b[0m             )\n\u001b[1;32m-> 1006\u001b[1;33m         return self._input_request(\n\u001b[0m\u001b[0;32m   1007\u001b[0m             \u001b[0mstr\u001b[0m\u001b[1;33m(\u001b[0m\u001b[0mprompt\u001b[0m\u001b[1;33m)\u001b[0m\u001b[1;33m,\u001b[0m\u001b[1;33m\u001b[0m\u001b[1;33m\u001b[0m\u001b[0m\n\u001b[0;32m   1008\u001b[0m             \u001b[0mself\u001b[0m\u001b[1;33m.\u001b[0m\u001b[0m_parent_ident\u001b[0m\u001b[1;33m[\u001b[0m\u001b[1;34m\"shell\"\u001b[0m\u001b[1;33m]\u001b[0m\u001b[1;33m,\u001b[0m\u001b[1;33m\u001b[0m\u001b[1;33m\u001b[0m\u001b[0m\n",
      "\u001b[1;32m~\\AppData\\Local\\Programs\\Python\\Python39\\lib\\site-packages\\ipykernel\\kernelbase.py\u001b[0m in \u001b[0;36m_input_request\u001b[1;34m(self, prompt, ident, parent, password)\u001b[0m\n\u001b[0;32m   1049\u001b[0m             \u001b[1;32mexcept\u001b[0m \u001b[0mKeyboardInterrupt\u001b[0m\u001b[1;33m:\u001b[0m\u001b[1;33m\u001b[0m\u001b[1;33m\u001b[0m\u001b[0m\n\u001b[0;32m   1050\u001b[0m                 \u001b[1;31m# re-raise KeyboardInterrupt, to truncate traceback\u001b[0m\u001b[1;33m\u001b[0m\u001b[1;33m\u001b[0m\u001b[0m\n\u001b[1;32m-> 1051\u001b[1;33m                 \u001b[1;32mraise\u001b[0m \u001b[0mKeyboardInterrupt\u001b[0m\u001b[1;33m(\u001b[0m\u001b[1;34m\"Interrupted by user\"\u001b[0m\u001b[1;33m)\u001b[0m \u001b[1;32mfrom\u001b[0m \u001b[1;32mNone\u001b[0m\u001b[1;33m\u001b[0m\u001b[1;33m\u001b[0m\u001b[0m\n\u001b[0m\u001b[0;32m   1052\u001b[0m             \u001b[1;32mexcept\u001b[0m \u001b[0mException\u001b[0m\u001b[1;33m:\u001b[0m\u001b[1;33m\u001b[0m\u001b[1;33m\u001b[0m\u001b[0m\n\u001b[0;32m   1053\u001b[0m                 \u001b[0mself\u001b[0m\u001b[1;33m.\u001b[0m\u001b[0mlog\u001b[0m\u001b[1;33m.\u001b[0m\u001b[0mwarning\u001b[0m\u001b[1;33m(\u001b[0m\u001b[1;34m\"Invalid Message:\"\u001b[0m\u001b[1;33m,\u001b[0m \u001b[0mexc_info\u001b[0m\u001b[1;33m=\u001b[0m\u001b[1;32mTrue\u001b[0m\u001b[1;33m)\u001b[0m\u001b[1;33m\u001b[0m\u001b[1;33m\u001b[0m\u001b[0m\n",
      "\u001b[1;31mKeyboardInterrupt\u001b[0m: Interrupted by user"
     ]
    }
   ],
   "source": [
    "escribir_excel(DF, \"RESULTADOS/Todo.xlsx\")"
   ]
  },
  {
   "cell_type": "markdown",
   "metadata": {},
   "source": [
    "# PARTE 4"
   ]
  },
  {
   "cell_type": "markdown",
   "metadata": {},
   "source": [
    "### Determinar qué datos encontré yo que Roberto no, y viceversa"
   ]
  },
  {
   "cell_type": "markdown",
   "metadata": {},
   "source": [
    "1. RUT y Monto"
   ]
  },
  {
   "cell_type": "code",
   "execution_count": null,
   "metadata": {},
   "outputs": [],
   "source": [
    "RUT_Y_MONTO = leer_excel(\"PROPUESTA/RUT y Monto.xlsx\")"
   ]
  },
  {
   "cell_type": "code",
   "execution_count": null,
   "metadata": {},
   "outputs": [],
   "source": [
    "outer_rym = pd.merge(DF, RUT_Y_MONTO, on=\"Nº documento\", how=\"outer\", indicator=True)"
   ]
  },
  {
   "cell_type": "code",
   "execution_count": null,
   "metadata": {},
   "outputs": [],
   "source": [
    "try:\n",
    "    os.mkdir(\"COMPARACIONES/\")\n",
    "except:\n",
    "    pass"
   ]
  },
  {
   "cell_type": "code",
   "execution_count": null,
   "metadata": {},
   "outputs": [],
   "source": [
    "escribir_excel(outer_rym[outer_rym[\"_merge\"] == \"left_only\"], \"COMPARACIONES/RUT y Monto - LEFT.xlsx\")"
   ]
  },
  {
   "cell_type": "code",
   "execution_count": null,
   "metadata": {},
   "outputs": [],
   "source": [
    "escribir_excel(outer_rym[outer_rym[\"_merge\"] == \"right_only\"], \"COMPARACIONES/RUT y Monto - RIGHT.xlsx\")"
   ]
  }
 ],
 "metadata": {
  "deepnote": {
   "is_reactive": false
  },
  "deepnote_execution_queue": [],
  "deepnote_notebook_id": "f3975ac5-0a8d-4857-a443-8977a1d3a20c",
  "kernelspec": {
   "display_name": "Python 3 (ipykernel)",
   "language": "python",
   "name": "python3"
  },
  "language_info": {
   "codemirror_mode": {
    "name": "ipython",
    "version": 3
   },
   "file_extension": ".py",
   "mimetype": "text/x-python",
   "name": "python",
   "nbconvert_exporter": "python",
   "pygments_lexer": "ipython3",
   "version": "3.9.7"
  }
 },
 "nbformat": 4,
 "nbformat_minor": 2
}
