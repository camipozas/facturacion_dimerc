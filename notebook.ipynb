{
 "cells": [
  {
   "cell_type": "markdown",
   "metadata": {},
   "source": [
    "# PREPARATIVOS"
   ]
  },
  {
   "cell_type": "code",
   "execution_count": 1,
   "metadata": {
    "cell_id": "00000-3a8a76b2-59e5-4251-8cd4-569b6be03130",
    "deepnote_cell_type": "code",
    "deepnote_to_be_reexecuted": false,
    "execution_millis": 43,
    "execution_start": 1634320497467,
    "source_hash": "9ad2f348",
    "tags": []
   },
   "outputs": [],
   "source": [
    "import pandas as pd\n",
    "import numpy as np\n",
    "import itertools as it\n",
    "import re\n",
    "import os\n",
    "from funciones_1 import *\n",
    "from funciones_2 import *\n",
    "from importlib import reload\n",
    "import time\n",
    "import matplotlib.pyplot as plt\n",
    "#import warnings\n",
    "#warnings.filterwarnings(\"error\")"
   ]
  },
  {
   "cell_type": "code",
   "execution_count": 2,
   "metadata": {},
   "outputs": [],
   "source": [
    "%load_ext line_profiler"
   ]
  },
  {
   "cell_type": "code",
   "execution_count": 3,
   "metadata": {
    "cell_id": "00001-06f09048-31e9-4fcd-8b22-d65cb17b36a6",
    "deepnote_cell_type": "code",
    "deepnote_to_be_reexecuted": false,
    "execution_millis": 69,
    "execution_start": 1634320497511,
    "source_hash": "b0474890",
    "tags": []
   },
   "outputs": [],
   "source": [
    "#FBL3N = leer_excel(\"FBL3N.xlsx\")"
   ]
  },
  {
   "cell_type": "code",
   "execution_count": 4,
   "metadata": {
    "cell_id": "00002-bb05e881-908e-4bd5-89af-937edc7e5550",
    "deepnote_cell_type": "code",
    "deepnote_to_be_reexecuted": true,
    "execution_millis": 51801,
    "execution_start": 1634317238330,
    "scrolled": true,
    "source_hash": "8d049ca0",
    "tags": []
   },
   "outputs": [],
   "source": [
    "#FBL5N = leer_excel(\"FBL5N.xlsx\")"
   ]
  },
  {
   "cell_type": "code",
   "execution_count": 5,
   "metadata": {
    "cell_id": "00003-ada797fa-be45-4a9c-bde8-6b68bc29d7ef",
    "deepnote_cell_type": "code",
    "deepnote_to_be_reexecuted": true,
    "execution_millis": 72524,
    "execution_start": 1634317290123,
    "source_hash": "fe553abe",
    "tags": []
   },
   "outputs": [],
   "source": [
    "#KNA1 = leer_excel(\"KNA1.xlsx\")"
   ]
  },
  {
   "cell_type": "code",
   "execution_count": 6,
   "metadata": {},
   "outputs": [],
   "source": [
    "#%store FBL3N FBL5N KNA1"
   ]
  },
  {
   "cell_type": "code",
   "execution_count": 7,
   "metadata": {},
   "outputs": [],
   "source": [
    "%store -r FBL3N FBL5N KNA1"
   ]
  },
  {
   "cell_type": "code",
   "execution_count": 8,
   "metadata": {},
   "outputs": [],
   "source": [
    "#PROPUESTA = leer_excel(\"PROPUESTA.xlsx\", None)"
   ]
  },
  {
   "cell_type": "markdown",
   "metadata": {},
   "source": [
    "# PARTE 1"
   ]
  },
  {
   "cell_type": "code",
   "execution_count": 9,
   "metadata": {
    "cell_id": "00001-e4dcbd3c-674d-42d6-a26b-f90cfb13ca7d",
    "deepnote_cell_type": "code",
    "deepnote_to_be_reexecuted": true,
    "execution_millis": 323,
    "execution_start": 1634317362648,
    "source_hash": "734ada2c",
    "tags": []
   },
   "outputs": [],
   "source": [
    "textos = FBL3N[\"Texto\"]\n",
    "FBL3N[\"RUT\"] = textos.apply(detectar_rut)\n",
    "FBL3N[\"N° Factura\"] = textos.apply(detectar_n_factura)\n",
    "\n",
    "RUT_FBL3N = FBL3N[pd.notna(FBL3N[\"RUT\"])]\n",
    "FACT_FBL3N = FBL3N[pd.isna(FBL3N[\"RUT\"]) & pd.notna(FBL3N[\"N° Factura\"])]"
   ]
  },
  {
   "cell_type": "markdown",
   "metadata": {},
   "source": [
    "# PARTE 2"
   ]
  },
  {
   "cell_type": "markdown",
   "metadata": {},
   "source": [
    "### Trabajar con calces de factura"
   ]
  },
  {
   "cell_type": "code",
   "execution_count": 10,
   "metadata": {
    "cell_id": "00006-43c04e77-afdf-401e-8511-8cac52876fe0",
    "deepnote_cell_type": "code",
    "deepnote_to_be_reexecuted": true,
    "source_hash": "4f0e88ce",
    "tags": []
   },
   "outputs": [],
   "source": [
    "FBL5N[\"Referencia\"] = FBL5N[\"Referencia\"].apply(lambda s: str(s))\n",
    "FBL5N[\"Cuenta\"] = FBL5N[\"Cuenta\"][pd.notna(FBL5N[\"Cuenta\"])].apply(lambda n: str(int(n)))\n",
    "\n",
    "KNA1[\"Nº ident.fis.1\"] = KNA1[\"Nº ident.fis.1\"].apply(lambda s: str(s).lstrip(\"0\"))\n",
    "KNA1[\"Cliente\"] = KNA1[\"Cliente\"][pd.notna(KNA1[\"Cliente\"])].apply(lambda s: str(int(s)))"
   ]
  },
  {
   "cell_type": "code",
   "execution_count": 11,
   "metadata": {},
   "outputs": [],
   "source": [
    "# Calzar números de factura\n",
    "filtro_fact = FBL5N[\"Referencia\"].isin(FACT_FBL3N[\"N° Factura\"])\n",
    "FACT_FBL5N = FBL5N[filtro_fact]\n",
    "NO_FACT_FBL5N = FBL5N[~filtro_fact]"
   ]
  },
  {
   "cell_type": "code",
   "execution_count": 12,
   "metadata": {},
   "outputs": [],
   "source": [
    "# Calzar RUTs\n",
    "RUT_ID_FBL3N = pd.merge(RUT_FBL3N, KNA1, left_on=\"RUT\", right_on=\"Nº ident.fis.1\")\n",
    "\n",
    "filtro_id5 = NO_FACT_FBL5N[\"Cuenta\"].isin(RUT_ID_FBL3N[\"Cliente\"])\n",
    "ID_FBL5N = NO_FACT_FBL5N[filtro_id5]\n",
    "NN_FBL5N = NO_FACT_FBL5N[~filtro_id5]\n",
    "\n",
    "filtro_id3 = RUT_ID_FBL3N[\"Cliente\"].isin(ID_FBL5N[\"Cuenta\"])\n",
    "ID_FBL3N = RUT_ID_FBL3N[filtro_id3]\n",
    "SOLO_RUT_FBL3N = RUT_ID_FBL3N[filtro_id3]"
   ]
  },
  {
   "cell_type": "code",
   "execution_count": 13,
   "metadata": {},
   "outputs": [],
   "source": [
    "try:\n",
    "    os.mkdir(\"RESULTADOS/\")\n",
    "except:\n",
    "    pass"
   ]
  },
  {
   "cell_type": "code",
   "execution_count": 14,
   "metadata": {},
   "outputs": [
    {
     "name": "stdout",
     "output_type": "stream",
     "text": [
      "Escribiendo nuevo archivo Excel: RESULTADOS/Facturas.xlsx\n",
      "Archivo Excel escrito.\n"
     ]
    }
   ],
   "source": [
    "MATCHES_FACT = pd.merge(FACT_FBL3N, FACT_FBL5N, left_on=\"N° Factura\", right_on=\"Referencia\")\n",
    "escribir_excel(FACT_FBL5N, \"RESULTADOS/Facturas.xlsx\")"
   ]
  },
  {
   "cell_type": "markdown",
   "metadata": {},
   "source": [
    "# PARTE 3"
   ]
  },
  {
   "cell_type": "markdown",
   "metadata": {},
   "source": [
    "## Matches"
   ]
  },
  {
   "cell_type": "code",
   "execution_count": 15,
   "metadata": {
    "scrolled": true
   },
   "outputs": [],
   "source": [
    "DF, D = calzar(ID_FBL3N, ID_FBL5N)"
   ]
  },
  {
   "cell_type": "code",
   "execution_count": 16,
   "metadata": {},
   "outputs": [
    {
     "data": {
      "text/html": [
       "<div>\n",
       "<style scoped>\n",
       "    .dataframe tbody tr th:only-of-type {\n",
       "        vertical-align: middle;\n",
       "    }\n",
       "\n",
       "    .dataframe tbody tr th {\n",
       "        vertical-align: top;\n",
       "    }\n",
       "\n",
       "    .dataframe thead th {\n",
       "        text-align: right;\n",
       "    }\n",
       "</style>\n",
       "<table border=\"1\" class=\"dataframe\">\n",
       "  <thead>\n",
       "    <tr style=\"text-align: right;\">\n",
       "      <th></th>\n",
       "      <th>Grupo</th>\n",
       "      <th>Soc.</th>\n",
       "      <th>Nº documento</th>\n",
       "      <th>Clase de documento</th>\n",
       "      <th>Fecha de documento</th>\n",
       "      <th>Importe en moneda local</th>\n",
       "      <th>Moneda local</th>\n",
       "      <th>Texto</th>\n",
       "      <th>Cliente</th>\n",
       "      <th>Nº ident.fis.1</th>\n",
       "      <th>Nombre 1</th>\n",
       "      <th>Asignación</th>\n",
       "      <th>Ejerc./mes</th>\n",
       "      <th>Nº doc.</th>\n",
       "      <th>Referencia</th>\n",
       "      <th>Cla</th>\n",
       "      <th>Importe en ML</th>\n",
       "      <th>Mon.</th>\n",
       "    </tr>\n",
       "  </thead>\n",
       "  <tbody>\n",
       "    <tr>\n",
       "      <th>0</th>\n",
       "      <td>1</td>\n",
       "      <td>2000</td>\n",
       "      <td>100018445.0</td>\n",
       "      <td>CT</td>\n",
       "      <td>2019-01-23</td>\n",
       "      <td>-11567</td>\n",
       "      <td>CLP</td>\n",
       "      <td>PAGO:PROVEEDORES 0969424002</td>\n",
       "      <td>1341643</td>\n",
       "      <td>96942400-2</td>\n",
       "      <td>MEGASALUD SPA</td>\n",
       "      <td>1610070236</td>\n",
       "      <td>2021/07</td>\n",
       "      <td>1.600018e+09</td>\n",
       "      <td>1850834</td>\n",
       "      <td>DG</td>\n",
       "      <td>-350181</td>\n",
       "      <td>CLP</td>\n",
       "    </tr>\n",
       "    <tr>\n",
       "      <th>1</th>\n",
       "      <td>1</td>\n",
       "      <td>2000</td>\n",
       "      <td>100018445.0</td>\n",
       "      <td>CT</td>\n",
       "      <td>2019-01-23</td>\n",
       "      <td>-11567</td>\n",
       "      <td>CLP</td>\n",
       "      <td>PAGO:PROVEEDORES 0969424002</td>\n",
       "      <td>1341643</td>\n",
       "      <td>96942400-2</td>\n",
       "      <td>MEGASALUD SPA</td>\n",
       "      <td>1801572657</td>\n",
       "      <td>2021/10</td>\n",
       "      <td>2.500352e+09</td>\n",
       "      <td>9842122</td>\n",
       "      <td>DR</td>\n",
       "      <td>93998</td>\n",
       "      <td>CLP</td>\n",
       "    </tr>\n",
       "    <tr>\n",
       "      <th>2</th>\n",
       "      <td>1</td>\n",
       "      <td>2000</td>\n",
       "      <td>100018445.0</td>\n",
       "      <td>CT</td>\n",
       "      <td>2019-01-23</td>\n",
       "      <td>-11567</td>\n",
       "      <td>CLP</td>\n",
       "      <td>PAGO:PROVEEDORES 0969424002</td>\n",
       "      <td>1341643</td>\n",
       "      <td>96942400-2</td>\n",
       "      <td>MEGASALUD SPA</td>\n",
       "      <td>1801573445</td>\n",
       "      <td>2021/10</td>\n",
       "      <td>2.500353e+09</td>\n",
       "      <td>9842526</td>\n",
       "      <td>DR</td>\n",
       "      <td>267750</td>\n",
       "      <td>CLP</td>\n",
       "    </tr>\n",
       "    <tr>\n",
       "      <th>3</th>\n",
       "      <td>2</td>\n",
       "      <td>2000</td>\n",
       "      <td>100057473.0</td>\n",
       "      <td>CT</td>\n",
       "      <td>2021-02-19</td>\n",
       "      <td>-1942592</td>\n",
       "      <td>CLP</td>\n",
       "      <td>PAGO:PROVEEDORES 0761419889</td>\n",
       "      <td>1726116</td>\n",
       "      <td>76141988-9</td>\n",
       "      <td>OPERACIONES INTEGRALES CHACABUCO SO</td>\n",
       "      <td>8783031</td>\n",
       "      <td>2020/06</td>\n",
       "      <td>1.400103e+09</td>\n",
       "      <td>PAGO CHILE</td>\n",
       "      <td>DZ</td>\n",
       "      <td>497452</td>\n",
       "      <td>CLP</td>\n",
       "    </tr>\n",
       "    <tr>\n",
       "      <th>4</th>\n",
       "      <td>2</td>\n",
       "      <td>2000</td>\n",
       "      <td>100057473.0</td>\n",
       "      <td>CT</td>\n",
       "      <td>2021-02-19</td>\n",
       "      <td>-1942592</td>\n",
       "      <td>CLP</td>\n",
       "      <td>PAGO:PROVEEDORES 0761419889</td>\n",
       "      <td>1726116</td>\n",
       "      <td>76141988-9</td>\n",
       "      <td>OPERACIONES INTEGRALES CHACABUCO SO</td>\n",
       "      <td>1801240210</td>\n",
       "      <td>2021/02</td>\n",
       "      <td>2.500053e+09</td>\n",
       "      <td>9494241</td>\n",
       "      <td>DR</td>\n",
       "      <td>1309167</td>\n",
       "      <td>CLP</td>\n",
       "    </tr>\n",
       "    <tr>\n",
       "      <th>...</th>\n",
       "      <td>...</td>\n",
       "      <td>...</td>\n",
       "      <td>...</td>\n",
       "      <td>...</td>\n",
       "      <td>...</td>\n",
       "      <td>...</td>\n",
       "      <td>...</td>\n",
       "      <td>...</td>\n",
       "      <td>...</td>\n",
       "      <td>...</td>\n",
       "      <td>...</td>\n",
       "      <td>...</td>\n",
       "      <td>...</td>\n",
       "      <td>...</td>\n",
       "      <td>...</td>\n",
       "      <td>...</td>\n",
       "      <td>...</td>\n",
       "      <td>...</td>\n",
       "    </tr>\n",
       "    <tr>\n",
       "      <th>340</th>\n",
       "      <td>115</td>\n",
       "      <td>2000</td>\n",
       "      <td>100457436.0</td>\n",
       "      <td>CT</td>\n",
       "      <td>2021-12-03</td>\n",
       "      <td>-713461</td>\n",
       "      <td>CLP</td>\n",
       "      <td>PAGO:PROVEEDORES 0761419889</td>\n",
       "      <td>1726116</td>\n",
       "      <td>76141988-9</td>\n",
       "      <td>OPERACIONES INTEGRALES CHACABUCO SO</td>\n",
       "      <td>1801584972</td>\n",
       "      <td>2021/10</td>\n",
       "      <td>2.500363e+09</td>\n",
       "      <td>9896120</td>\n",
       "      <td>DR</td>\n",
       "      <td>99617</td>\n",
       "      <td>CLP</td>\n",
       "    </tr>\n",
       "    <tr>\n",
       "      <th>341</th>\n",
       "      <td>115</td>\n",
       "      <td>2000</td>\n",
       "      <td>100457436.0</td>\n",
       "      <td>CT</td>\n",
       "      <td>2021-12-03</td>\n",
       "      <td>-713461</td>\n",
       "      <td>CLP</td>\n",
       "      <td>PAGO:PROVEEDORES 0761419889</td>\n",
       "      <td>1726116</td>\n",
       "      <td>76141988-9</td>\n",
       "      <td>OPERACIONES INTEGRALES CHACABUCO SO</td>\n",
       "      <td>1801592858</td>\n",
       "      <td>2021/11</td>\n",
       "      <td>2.500371e+09</td>\n",
       "      <td>9896559</td>\n",
       "      <td>DR</td>\n",
       "      <td>613844</td>\n",
       "      <td>CLP</td>\n",
       "    </tr>\n",
       "    <tr>\n",
       "      <th>342</th>\n",
       "      <td>116</td>\n",
       "      <td>2000</td>\n",
       "      <td>100457463.0</td>\n",
       "      <td>CT</td>\n",
       "      <td>2021-12-03</td>\n",
       "      <td>-24048</td>\n",
       "      <td>CLP</td>\n",
       "      <td>0993010006 P.PROVEEDOR SEGU</td>\n",
       "      <td>1005767</td>\n",
       "      <td>99301000-6</td>\n",
       "      <td>SEGUROS VIDA SECURITY PREVISION S.A</td>\n",
       "      <td>1801633795</td>\n",
       "      <td>2021/11</td>\n",
       "      <td>2.500406e+09</td>\n",
       "      <td>9903950</td>\n",
       "      <td>DR</td>\n",
       "      <td>24048</td>\n",
       "      <td>CLP</td>\n",
       "    </tr>\n",
       "    <tr>\n",
       "      <th>343</th>\n",
       "      <td>117</td>\n",
       "      <td>2000</td>\n",
       "      <td>100457533.0</td>\n",
       "      <td>CT</td>\n",
       "      <td>2021-12-03</td>\n",
       "      <td>-106020</td>\n",
       "      <td>CLP</td>\n",
       "      <td>PAGO:PROVEEDORES 0780230304</td>\n",
       "      <td>1139847</td>\n",
       "      <td>78023030-4</td>\n",
       "      <td>SOFRUCO ALIMENTOS LIMITADA</td>\n",
       "      <td>1801565200</td>\n",
       "      <td>2021/10</td>\n",
       "      <td>2.500346e+09</td>\n",
       "      <td>9862080</td>\n",
       "      <td>DR</td>\n",
       "      <td>42773</td>\n",
       "      <td>CLP</td>\n",
       "    </tr>\n",
       "    <tr>\n",
       "      <th>344</th>\n",
       "      <td>117</td>\n",
       "      <td>2000</td>\n",
       "      <td>100457533.0</td>\n",
       "      <td>CT</td>\n",
       "      <td>2021-12-03</td>\n",
       "      <td>-106020</td>\n",
       "      <td>CLP</td>\n",
       "      <td>PAGO:PROVEEDORES 0780230304</td>\n",
       "      <td>1139847</td>\n",
       "      <td>78023030-4</td>\n",
       "      <td>SOFRUCO ALIMENTOS LIMITADA</td>\n",
       "      <td>1801565376</td>\n",
       "      <td>2021/10</td>\n",
       "      <td>2.500346e+09</td>\n",
       "      <td>9862081</td>\n",
       "      <td>DR</td>\n",
       "      <td>63247</td>\n",
       "      <td>CLP</td>\n",
       "    </tr>\n",
       "  </tbody>\n",
       "</table>\n",
       "<p>345 rows × 18 columns</p>\n",
       "</div>"
      ],
      "text/plain": [
       "     Grupo  Soc. Nº documento Clase de documento Fecha de documento  \\\n",
       "0        1  2000  100018445.0                 CT         2019-01-23   \n",
       "1        1  2000  100018445.0                 CT         2019-01-23   \n",
       "2        1  2000  100018445.0                 CT         2019-01-23   \n",
       "3        2  2000  100057473.0                 CT         2021-02-19   \n",
       "4        2  2000  100057473.0                 CT         2021-02-19   \n",
       "..     ...   ...          ...                ...                ...   \n",
       "340    115  2000  100457436.0                 CT         2021-12-03   \n",
       "341    115  2000  100457436.0                 CT         2021-12-03   \n",
       "342    116  2000  100457463.0                 CT         2021-12-03   \n",
       "343    117  2000  100457533.0                 CT         2021-12-03   \n",
       "344    117  2000  100457533.0                 CT         2021-12-03   \n",
       "\n",
       "    Importe en moneda local Moneda local                        Texto  \\\n",
       "0                    -11567          CLP  PAGO:PROVEEDORES 0969424002   \n",
       "1                    -11567          CLP  PAGO:PROVEEDORES 0969424002   \n",
       "2                    -11567          CLP  PAGO:PROVEEDORES 0969424002   \n",
       "3                  -1942592          CLP  PAGO:PROVEEDORES 0761419889   \n",
       "4                  -1942592          CLP  PAGO:PROVEEDORES 0761419889   \n",
       "..                      ...          ...                          ...   \n",
       "340                 -713461          CLP  PAGO:PROVEEDORES 0761419889   \n",
       "341                 -713461          CLP  PAGO:PROVEEDORES 0761419889   \n",
       "342                  -24048          CLP  0993010006 P.PROVEEDOR SEGU   \n",
       "343                 -106020          CLP  PAGO:PROVEEDORES 0780230304   \n",
       "344                 -106020          CLP  PAGO:PROVEEDORES 0780230304   \n",
       "\n",
       "     Cliente Nº ident.fis.1                             Nombre 1  Asignación  \\\n",
       "0    1341643     96942400-2                        MEGASALUD SPA  1610070236   \n",
       "1    1341643     96942400-2                        MEGASALUD SPA  1801572657   \n",
       "2    1341643     96942400-2                        MEGASALUD SPA  1801573445   \n",
       "3    1726116     76141988-9  OPERACIONES INTEGRALES CHACABUCO SO     8783031   \n",
       "4    1726116     76141988-9  OPERACIONES INTEGRALES CHACABUCO SO  1801240210   \n",
       "..       ...            ...                                  ...         ...   \n",
       "340  1726116     76141988-9  OPERACIONES INTEGRALES CHACABUCO SO  1801584972   \n",
       "341  1726116     76141988-9  OPERACIONES INTEGRALES CHACABUCO SO  1801592858   \n",
       "342  1005767     99301000-6  SEGUROS VIDA SECURITY PREVISION S.A  1801633795   \n",
       "343  1139847     78023030-4           SOFRUCO ALIMENTOS LIMITADA  1801565200   \n",
       "344  1139847     78023030-4           SOFRUCO ALIMENTOS LIMITADA  1801565376   \n",
       "\n",
       "    Ejerc./mes       Nº doc.  Referencia Cla  Importe en ML Mon.  \n",
       "0      2021/07  1.600018e+09     1850834  DG        -350181  CLP  \n",
       "1      2021/10  2.500352e+09     9842122  DR          93998  CLP  \n",
       "2      2021/10  2.500353e+09     9842526  DR         267750  CLP  \n",
       "3      2020/06  1.400103e+09  PAGO CHILE  DZ         497452  CLP  \n",
       "4      2021/02  2.500053e+09     9494241  DR        1309167  CLP  \n",
       "..         ...           ...         ...  ..            ...  ...  \n",
       "340    2021/10  2.500363e+09     9896120  DR          99617  CLP  \n",
       "341    2021/11  2.500371e+09     9896559  DR         613844  CLP  \n",
       "342    2021/11  2.500406e+09     9903950  DR          24048  CLP  \n",
       "343    2021/10  2.500346e+09     9862080  DR          42773  CLP  \n",
       "344    2021/10  2.500346e+09     9862081  DR          63247  CLP  \n",
       "\n",
       "[345 rows x 18 columns]"
      ]
     },
     "execution_count": 16,
     "metadata": {},
     "output_type": "execute_result"
    }
   ],
   "source": [
    "DF"
   ]
  },
  {
   "cell_type": "code",
   "execution_count": null,
   "metadata": {},
   "outputs": [],
   "source": [
    "d = extraer_datos(ID_FBL3N, ID_FBL5N)\n",
    "match_1_1(d)\n",
    "match_1_T(d)\n",
    "match_1_V(d)\n",
    "%lprun -f match_1_M_2 match_1_M_2(d)"
   ]
  },
  {
   "cell_type": "code",
   "execution_count": null,
   "metadata": {},
   "outputs": [],
   "source": [
    "escribir_excel(DF, \"RESULTADOS/Todo.xlsx\")"
   ]
  },
  {
   "cell_type": "markdown",
   "metadata": {},
   "source": [
    "# PARTE 4"
   ]
  },
  {
   "cell_type": "markdown",
   "metadata": {},
   "source": [
    "### Determinar qué datos encontré yo que Roberto no, y viceversa"
   ]
  },
  {
   "cell_type": "markdown",
   "metadata": {},
   "source": [
    "1. RUT y Monto"
   ]
  },
  {
   "cell_type": "code",
   "execution_count": null,
   "metadata": {},
   "outputs": [],
   "source": [
    "RUT_Y_MONTO = leer_excel(\"PROPUESTA/RUT y Monto.xlsx\")"
   ]
  },
  {
   "cell_type": "code",
   "execution_count": null,
   "metadata": {},
   "outputs": [],
   "source": [
    "outer_rym = pd.merge(DF, RUT_Y_MONTO, on=\"Nº documento\", how=\"outer\", indicator=True)"
   ]
  },
  {
   "cell_type": "code",
   "execution_count": null,
   "metadata": {},
   "outputs": [],
   "source": [
    "try:\n",
    "    os.mkdir(\"COMPARACIONES/\")\n",
    "except:\n",
    "    pass"
   ]
  },
  {
   "cell_type": "code",
   "execution_count": null,
   "metadata": {},
   "outputs": [],
   "source": [
    "escribir_excel(outer_rym[outer_rym[\"_merge\"] == \"left_only\"], \"COMPARACIONES/RUT y Monto - LEFT.xlsx\")"
   ]
  },
  {
   "cell_type": "code",
   "execution_count": null,
   "metadata": {},
   "outputs": [],
   "source": [
    "escribir_excel(outer_rym[outer_rym[\"_merge\"] == \"right_only\"], \"COMPARACIONES/RUT y Monto - RIGHT.xlsx\")"
   ]
  }
 ],
 "metadata": {
  "deepnote": {
   "is_reactive": false
  },
  "deepnote_execution_queue": [],
  "deepnote_notebook_id": "f3975ac5-0a8d-4857-a443-8977a1d3a20c",
  "kernelspec": {
   "display_name": "Python 3 (ipykernel)",
   "language": "python",
   "name": "python3"
  },
  "language_info": {
   "codemirror_mode": {
    "name": "ipython",
    "version": 3
   },
   "file_extension": ".py",
   "mimetype": "text/x-python",
   "name": "python",
   "nbconvert_exporter": "python",
   "pygments_lexer": "ipython3",
   "version": "3.9.7"
  }
 },
 "nbformat": 4,
 "nbformat_minor": 2
}
