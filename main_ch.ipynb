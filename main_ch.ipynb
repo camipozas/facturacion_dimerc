{
 "cells": [
  {
   "cell_type": "markdown",
   "metadata": {},
   "source": [
    "# PREPARATIVOS"
   ]
  },
  {
   "cell_type": "code",
   "execution_count": 1,
   "metadata": {
    "cell_id": "00000-3a8a76b2-59e5-4251-8cd4-569b6be03130",
    "deepnote_cell_type": "code",
    "deepnote_to_be_reexecuted": false,
    "execution_millis": 43,
    "execution_start": 1634320497467,
    "source_hash": "9ad2f348",
    "tags": []
   },
   "outputs": [],
   "source": [
    "import pandas as pd\n",
    "import numpy as np\n",
    "import itertools as it\n",
    "import re\n",
    "import os\n",
    "from reconocimiento_ch import *\n",
    "from matches_otras import *"
   ]
  },
  {
   "cell_type": "code",
   "execution_count": 2,
   "metadata": {},
   "outputs": [],
   "source": [
    "%load_ext line_profiler"
   ]
  },
  {
   "cell_type": "markdown",
   "metadata": {},
   "source": [
    "## MODIFICAR LA SOCIEDAD"
   ]
  },
  {
   "cell_type": "code",
   "execution_count": 3,
   "metadata": {},
   "outputs": [],
   "source": [
    "# MODIFICAR AQUÏ\n",
    "soc = 2200"
   ]
  },
  {
   "cell_type": "markdown",
   "metadata": {},
   "source": [
    "## Cargar datos"
   ]
  },
  {
   "cell_type": "code",
   "execution_count": 4,
   "metadata": {},
   "outputs": [],
   "source": [
    "%store -r ARCHIVOS KNA1"
   ]
  },
  {
   "cell_type": "code",
   "execution_count": 5,
   "metadata": {},
   "outputs": [],
   "source": [
    "#sociedades = (2000, 3000, 3100)\n",
    "#ARCHIVOS = {sociedad: {} for sociedad in sociedades}"
   ]
  },
  {
   "cell_type": "code",
   "execution_count": 6,
   "metadata": {},
   "outputs": [],
   "source": [
    "def leer_de_sociedad(soc, ARCHIVOS):\n",
    "    ARCHIVOS[soc][\"FBL3N\"] = leer_excel(\"{}/Soc {}-Bancos SAP.xlsx\".format(soc, soc))\n",
    "    ARCHIVOS[soc][\"FBL5N\"] = leer_excel(\"{}/Soc {}-PAs SAP.xlsx\".format(soc, soc))"
   ]
  },
  {
   "cell_type": "code",
   "execution_count": 7,
   "metadata": {},
   "outputs": [],
   "source": [
    "#leer_de_sociedad(soc, ARCHIVOS)"
   ]
  },
  {
   "cell_type": "code",
   "execution_count": 8,
   "metadata": {
    "cell_id": "00003-ada797fa-be45-4a9c-bde8-6b68bc29d7ef",
    "deepnote_cell_type": "code",
    "deepnote_to_be_reexecuted": true,
    "execution_millis": 72524,
    "execution_start": 1634317290123,
    "source_hash": "fe553abe",
    "tags": []
   },
   "outputs": [],
   "source": [
    "#KNA1 = leer_excel(\"KNA1.xlsx\")"
   ]
  },
  {
   "cell_type": "code",
   "execution_count": 9,
   "metadata": {},
   "outputs": [
    {
     "name": "stdout",
     "output_type": "stream",
     "text": [
      "Stored 'ARCHIVOS' (dict)\n",
      "Stored 'KNA1' (DataFrame)\n"
     ]
    }
   ],
   "source": [
    "%store ARCHIVOS KNA1"
   ]
  },
  {
   "cell_type": "code",
   "execution_count": 10,
   "metadata": {},
   "outputs": [],
   "source": [
    "FBL3N = ARCHIVOS[soc][\"FBL3N\"]\n",
    "FBL5N = ARCHIVOS[soc][\"FBL5N\"]"
   ]
  },
  {
   "cell_type": "markdown",
   "metadata": {},
   "source": [
    "# PARTE 1"
   ]
  },
  {
   "cell_type": "code",
   "execution_count": 11,
   "metadata": {
    "cell_id": "00001-e4dcbd3c-674d-42d6-a26b-f90cfb13ca7d",
    "deepnote_cell_type": "code",
    "deepnote_to_be_reexecuted": true,
    "execution_millis": 323,
    "execution_start": 1634317362648,
    "source_hash": "734ada2c",
    "tags": []
   },
   "outputs": [],
   "source": [
    "textos = FBL3N[\"Texto\"]\n",
    "FBL3N[\"RUT\"] = textos.apply(detectar_rut)\n",
    "FBL3N[\"N° Factura\"] = textos.apply(detectar_n_factura)\n",
    "\n",
    "RUT_FBL3N = FBL3N[pd.notna(FBL3N[\"RUT\"])]\n",
    "FACT_FBL3N = FBL3N[pd.isna(FBL3N[\"RUT\"]) & pd.notna(FBL3N[\"N° Factura\"])]"
   ]
  },
  {
   "cell_type": "markdown",
   "metadata": {},
   "source": [
    "# PARTE 2"
   ]
  },
  {
   "cell_type": "markdown",
   "metadata": {},
   "source": [
    "### Trabajar con calces de factura"
   ]
  },
  {
   "cell_type": "code",
   "execution_count": 12,
   "metadata": {
    "cell_id": "00006-43c04e77-afdf-401e-8511-8cac52876fe0",
    "deepnote_cell_type": "code",
    "deepnote_to_be_reexecuted": true,
    "source_hash": "4f0e88ce",
    "tags": []
   },
   "outputs": [],
   "source": [
    "FBL5N[\"Referencia\"] = FBL5N[\"Referencia\"].apply(lambda s: str(s))\n",
    "FBL5N[\"Cuenta\"] = FBL5N[\"Cuenta\"][pd.notna(FBL5N[\"Cuenta\"])].apply(lambda n: str(int(n)))\n",
    "\n",
    "KNA1[\"Nº ident.fis.1\"] = KNA1[\"Nº ident.fis.1\"].apply(lambda s: str(s).lstrip(\"0\"))\n",
    "KNA1[\"Cliente\"] = KNA1[\"Cliente\"][pd.notna(KNA1[\"Cliente\"])].apply(lambda s: str(int(s)))"
   ]
  },
  {
   "cell_type": "code",
   "execution_count": 13,
   "metadata": {},
   "outputs": [],
   "source": [
    "# Calzar números de factura\n",
    "filtro_fact = FBL5N[\"Referencia\"].isin(FACT_FBL3N[\"N° Factura\"])\n",
    "FACT_FBL5N = FBL5N[filtro_fact]\n",
    "NO_FACT_FBL5N = FBL5N[~filtro_fact]"
   ]
  },
  {
   "cell_type": "code",
   "execution_count": 14,
   "metadata": {},
   "outputs": [],
   "source": [
    "# Calzar RUTs\n",
    "RUT_ID_FBL3N = pd.merge(RUT_FBL3N, KNA1, left_on=\"RUT\", right_on=\"Nº ident.fis.1\")\n",
    "\n",
    "filtro_id5 = NO_FACT_FBL5N[\"Cuenta\"].isin(RUT_ID_FBL3N[\"Cliente\"])\n",
    "ID_FBL5N = NO_FACT_FBL5N[filtro_id5]\n",
    "NN_FBL5N = NO_FACT_FBL5N[~filtro_id5]\n",
    "\n",
    "filtro_id3 = RUT_ID_FBL3N[\"Cliente\"].isin(ID_FBL5N[\"Cuenta\"])\n",
    "ID_FBL3N = RUT_ID_FBL3N[filtro_id3]\n",
    "SOLO_RUT_FBL3N = RUT_ID_FBL3N[filtro_id3]"
   ]
  },
  {
   "cell_type": "code",
   "execution_count": 15,
   "metadata": {},
   "outputs": [],
   "source": [
    "#MATCHES_FACT = pd.merge(FACT_FBL3N, FACT_FBL5N, left_on=\"N° Factura\", right_on=\"Referencia\")\n",
    "#escribir_excel(FACT_FBL5N, \"RESULTADOS/Facturas.xlsx\")"
   ]
  },
  {
   "cell_type": "markdown",
   "metadata": {},
   "source": [
    "# PARTE 3"
   ]
  },
  {
   "cell_type": "markdown",
   "metadata": {},
   "source": [
    "## Matches"
   ]
  },
  {
   "cell_type": "code",
   "execution_count": 16,
   "metadata": {
    "scrolled": true
   },
   "outputs": [],
   "source": [
    "DF = calzar(ID_FBL3N, ID_FBL5N)"
   ]
  },
  {
   "cell_type": "code",
   "execution_count": 17,
   "metadata": {},
   "outputs": [
    {
     "data": {
      "text/html": [
       "<div>\n",
       "<style scoped>\n",
       "    .dataframe tbody tr th:only-of-type {\n",
       "        vertical-align: middle;\n",
       "    }\n",
       "\n",
       "    .dataframe tbody tr th {\n",
       "        vertical-align: top;\n",
       "    }\n",
       "\n",
       "    .dataframe thead th {\n",
       "        text-align: right;\n",
       "    }\n",
       "</style>\n",
       "<table border=\"1\" class=\"dataframe\">\n",
       "  <thead>\n",
       "    <tr style=\"text-align: right;\">\n",
       "      <th></th>\n",
       "      <th>Grupo</th>\n",
       "      <th>Sociedad</th>\n",
       "      <th>Nº documento FBL3N</th>\n",
       "      <th>Clase de documento FBL3N</th>\n",
       "      <th>Importe en moneda local</th>\n",
       "      <th>Moneda local</th>\n",
       "      <th>Texto</th>\n",
       "      <th>Cliente</th>\n",
       "      <th>Nº ident.fis.1</th>\n",
       "      <th>Nombre 1</th>\n",
       "      <th>Asignación</th>\n",
       "      <th>Nº documento FBL5N</th>\n",
       "      <th>Referencia</th>\n",
       "      <th>Clase de documento FBL5N</th>\n",
       "      <th>Importe en moneda doc.</th>\n",
       "      <th>Moneda del documento</th>\n",
       "    </tr>\n",
       "  </thead>\n",
       "  <tbody>\n",
       "  </tbody>\n",
       "</table>\n",
       "</div>"
      ],
      "text/plain": [
       "Empty DataFrame\n",
       "Columns: [Grupo, Sociedad, Nº documento FBL3N, Clase de documento FBL3N, Importe en moneda local, Moneda local, Texto, Cliente, Nº ident.fis.1, Nombre 1, Asignación, Nº documento FBL5N, Referencia, Clase de documento FBL5N, Importe en moneda doc., Moneda del documento]\n",
       "Index: []"
      ]
     },
     "execution_count": 17,
     "metadata": {},
     "output_type": "execute_result"
    }
   ],
   "source": [
    "DF"
   ]
  },
  {
   "cell_type": "code",
   "execution_count": 18,
   "metadata": {},
   "outputs": [],
   "source": [
    "d = extraer_datos(ID_FBL3N, ID_FBL5N)\n",
    "match_1_1(d)\n",
    "match_1_T(d)\n",
    "match_1_V(d)\n",
    "#%lprun -f match_1_M match_1_M(d)"
   ]
  },
  {
   "cell_type": "code",
   "execution_count": 19,
   "metadata": {},
   "outputs": [
    {
     "name": "stdout",
     "output_type": "stream",
     "text": [
      "Escribiendo nuevo archivo Excel: 2200/RUT y Monto 2200.xlsx\n",
      "Archivo Excel escrito.\n"
     ]
    }
   ],
   "source": [
    "escribir_excel(DF, \"{}/RUT y Monto {}.xlsx\".format(soc, soc))"
   ]
  },
  {
   "cell_type": "markdown",
   "metadata": {},
   "source": [
    "# PARTE 4"
   ]
  },
  {
   "cell_type": "markdown",
   "metadata": {},
   "source": [
    "### Determinar qué datos encontré yo que Roberto no, y viceversa"
   ]
  },
  {
   "cell_type": "markdown",
   "metadata": {},
   "source": [
    "1. RUT y Monto"
   ]
  },
  {
   "cell_type": "code",
   "execution_count": 20,
   "metadata": {},
   "outputs": [
    {
     "name": "stdout",
     "output_type": "stream",
     "text": [
      "Leyendo archivo Excel: 2200/Soc 2200-Propuesta SAP.xlsx\n",
      "Archivo Excel leído.\n"
     ]
    }
   ],
   "source": [
    "excel = leer_excel(\"{}/Soc {}-Propuesta SAP.xlsx\".format(soc, soc), None)"
   ]
  },
  {
   "cell_type": "code",
   "execution_count": 21,
   "metadata": {},
   "outputs": [],
   "source": [
    "try:\n",
    "    RUT_Y_MONTO = excel[\"Rut y Monto\"]\n",
    "except:\n",
    "    hoja_0 = next(iter(excel))\n",
    "    RUT_Y_MONTO = pd.DataFrame(columns=excel[hoja_0].columns)"
   ]
  },
  {
   "cell_type": "code",
   "execution_count": 22,
   "metadata": {},
   "outputs": [],
   "source": [
    "outer_rym = pd.merge(DF, RUT_Y_MONTO, left_on=\"Nº documento FBL3N\", right_on=\"Nº documento\", how=\"outer\", indicator=True)"
   ]
  },
  {
   "cell_type": "code",
   "execution_count": 23,
   "metadata": {},
   "outputs": [
    {
     "name": "stdout",
     "output_type": "stream",
     "text": [
      "Escribiendo nuevo archivo Excel: 2200/RUT y Monto 2200 - LEFT.xlsx\n",
      "Archivo Excel escrito.\n"
     ]
    }
   ],
   "source": [
    "escribir_excel(outer_rym[outer_rym[\"_merge\"] == \"left_only\"], \"{}/RUT y Monto {} - LEFT.xlsx\".format(soc, soc))"
   ]
  },
  {
   "cell_type": "code",
   "execution_count": 24,
   "metadata": {},
   "outputs": [
    {
     "name": "stdout",
     "output_type": "stream",
     "text": [
      "Escribiendo nuevo archivo Excel: 2200/RUT y Monto 2200 - RIGHT.xlsx\n",
      "Archivo Excel escrito.\n"
     ]
    }
   ],
   "source": [
    "escribir_excel(outer_rym[outer_rym[\"_merge\"] == \"right_only\"], \"{}/RUT y Monto {} - RIGHT.xlsx\".format(soc, soc))"
   ]
  }
 ],
 "metadata": {
  "deepnote": {
   "is_reactive": false
  },
  "deepnote_execution_queue": [],
  "deepnote_notebook_id": "f3975ac5-0a8d-4857-a443-8977a1d3a20c",
  "kernelspec": {
   "display_name": "Python 3 (ipykernel)",
   "language": "python",
   "name": "python3"
  },
  "language_info": {
   "codemirror_mode": {
    "name": "ipython",
    "version": 3
   },
   "file_extension": ".py",
   "mimetype": "text/x-python",
   "name": "python",
   "nbconvert_exporter": "python",
   "pygments_lexer": "ipython3",
   "version": "3.9.7"
  }
 },
 "nbformat": 4,
 "nbformat_minor": 2
}
