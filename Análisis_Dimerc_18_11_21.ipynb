{
  "nbformat": 4,
  "nbformat_minor": 0,
  "metadata": {
    "colab": {
      "name": "Copia de Analísis Dimerc 12/11/21.ipynb",
      "provenance": [],
      "collapsed_sections": [
        "rA6YDXMwc5Vk"
      ]
    },
    "kernelspec": {
      "name": "python3",
      "display_name": "Python 3"
    },
    "language_info": {
      "name": "python"
    }
  },
  "cells": [
    {
      "cell_type": "code",
      "metadata": {
        "id": "7C1xTGz8lNR-"
      },
      "source": [
        "import pandas as pd\n",
        "import numpy as np\n",
        "import matplotlib.pyplot as plt\n",
        "import seaborn as sns\n",
        "sns.set_theme()"
      ],
      "execution_count": 1,
      "outputs": []
    },
    {
      "cell_type": "code",
      "metadata": {
        "colab": {
          "resources": {
            "http://localhost:8080/nbextensions/google.colab/files.js": {
              "data": "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",
              "ok": true,
              "headers": [
                [
                  "content-type",
                  "application/javascript"
                ]
              ],
              "status": 200,
              "status_text": "OK"
            }
          },
          "base_uri": "https://localhost:8080/",
          "height": 73
        },
        "id": "zoGiJ9jdlXuj",
        "outputId": "40667210-4e33-4a2e-9798-c2024e2d09ce"
      },
      "source": [
        "#Importamos la base de datos\n",
        "from google.colab import files\n",
        "uploaded = files.upload()"
      ],
      "execution_count": 2,
      "outputs": [
        {
          "output_type": "display_data",
          "data": {
            "text/html": [
              "\n",
              "     <input type=\"file\" id=\"files-7c1ae3a6-f4d1-46b7-9afd-e4042b4c2a02\" name=\"files[]\" multiple disabled\n",
              "        style=\"border:none\" />\n",
              "     <output id=\"result-7c1ae3a6-f4d1-46b7-9afd-e4042b4c2a02\">\n",
              "      Upload widget is only available when the cell has been executed in the\n",
              "      current browser session. Please rerun this cell to enable.\n",
              "      </output>\n",
              "      <script src=\"/nbextensions/google.colab/files.js\"></script> "
            ],
            "text/plain": [
              "<IPython.core.display.HTML object>"
            ]
          },
          "metadata": {}
        },
        {
          "output_type": "stream",
          "name": "stdout",
          "text": [
            "Saving Ventas 2021.xlsx to Ventas 2021.xlsx\n"
          ]
        }
      ]
    },
    {
      "cell_type": "markdown",
      "metadata": {
        "id": "daYejw3xl9TC"
      },
      "source": [
        "# Filtración y trabajo de datos"
      ]
    },
    {
      "cell_type": "code",
      "metadata": {
        "id": "ji9uge6_lXsL"
      },
      "source": [
        "# LLamamos la base de datos como data\n",
        "data = pd.read_excel(\"Ventas 2021.xlsx\")"
      ],
      "execution_count": 3,
      "outputs": []
    },
    {
      "cell_type": "code",
      "metadata": {
        "colab": {
          "base_uri": "https://localhost:8080/",
          "height": 424
        },
        "id": "PgXbbo1xuGDA",
        "outputId": "600316c9-783e-4357-a139-f6f6857fa3a0"
      },
      "source": [
        "data"
      ],
      "execution_count": 4,
      "outputs": [
        {
          "output_type": "execute_result",
          "data": {
            "text/html": [
              "<div>\n",
              "<style scoped>\n",
              "    .dataframe tbody tr th:only-of-type {\n",
              "        vertical-align: middle;\n",
              "    }\n",
              "\n",
              "    .dataframe tbody tr th {\n",
              "        vertical-align: top;\n",
              "    }\n",
              "\n",
              "    .dataframe thead th {\n",
              "        text-align: right;\n",
              "    }\n",
              "</style>\n",
              "<table border=\"1\" class=\"dataframe\">\n",
              "  <thead>\n",
              "    <tr style=\"text-align: right;\">\n",
              "      <th></th>\n",
              "      <th>Cuenta</th>\n",
              "      <th>Mes</th>\n",
              "      <th>Clase de documento</th>\n",
              "      <th>Demora tras vencimiento neto</th>\n",
              "      <th>Importe en moneda doc.</th>\n",
              "      <th>Fecha compensación</th>\n",
              "    </tr>\n",
              "  </thead>\n",
              "  <tbody>\n",
              "    <tr>\n",
              "      <th>0</th>\n",
              "      <td>1001053</td>\n",
              "      <td>Enero</td>\n",
              "      <td>DZ</td>\n",
              "      <td>0</td>\n",
              "      <td>-1557899.0</td>\n",
              "      <td>2021-01-06</td>\n",
              "    </tr>\n",
              "    <tr>\n",
              "      <th>1</th>\n",
              "      <td>1001053</td>\n",
              "      <td>Enero</td>\n",
              "      <td>DR</td>\n",
              "      <td>49</td>\n",
              "      <td>29662.0</td>\n",
              "      <td>2021-01-06</td>\n",
              "    </tr>\n",
              "    <tr>\n",
              "      <th>2</th>\n",
              "      <td>1001053</td>\n",
              "      <td>Enero</td>\n",
              "      <td>DR</td>\n",
              "      <td>46</td>\n",
              "      <td>179827.0</td>\n",
              "      <td>2021-01-06</td>\n",
              "    </tr>\n",
              "    <tr>\n",
              "      <th>3</th>\n",
              "      <td>1001053</td>\n",
              "      <td>Enero</td>\n",
              "      <td>DR</td>\n",
              "      <td>45</td>\n",
              "      <td>107290.0</td>\n",
              "      <td>2021-01-06</td>\n",
              "    </tr>\n",
              "    <tr>\n",
              "      <th>4</th>\n",
              "      <td>1001053</td>\n",
              "      <td>Enero</td>\n",
              "      <td>DR</td>\n",
              "      <td>40</td>\n",
              "      <td>84391.0</td>\n",
              "      <td>2021-01-06</td>\n",
              "    </tr>\n",
              "    <tr>\n",
              "      <th>...</th>\n",
              "      <td>...</td>\n",
              "      <td>...</td>\n",
              "      <td>...</td>\n",
              "      <td>...</td>\n",
              "      <td>...</td>\n",
              "      <td>...</td>\n",
              "    </tr>\n",
              "    <tr>\n",
              "      <th>577949</th>\n",
              "      <td>7230233</td>\n",
              "      <td>Septiembre</td>\n",
              "      <td>DZ</td>\n",
              "      <td>771</td>\n",
              "      <td>-1.0</td>\n",
              "      <td>2021-09-28</td>\n",
              "    </tr>\n",
              "    <tr>\n",
              "      <th>577950</th>\n",
              "      <td>7605495</td>\n",
              "      <td>Septiembre</td>\n",
              "      <td>AB</td>\n",
              "      <td>0</td>\n",
              "      <td>1.0</td>\n",
              "      <td>2021-09-28</td>\n",
              "    </tr>\n",
              "    <tr>\n",
              "      <th>577951</th>\n",
              "      <td>7605495</td>\n",
              "      <td>Septiembre</td>\n",
              "      <td>DZ</td>\n",
              "      <td>790</td>\n",
              "      <td>-1.0</td>\n",
              "      <td>2021-09-28</td>\n",
              "    </tr>\n",
              "    <tr>\n",
              "      <th>577952</th>\n",
              "      <td>7607954</td>\n",
              "      <td>Septiembre</td>\n",
              "      <td>AB</td>\n",
              "      <td>0</td>\n",
              "      <td>2.0</td>\n",
              "      <td>2021-09-28</td>\n",
              "    </tr>\n",
              "    <tr>\n",
              "      <th>577953</th>\n",
              "      <td>7607954</td>\n",
              "      <td>Septiembre</td>\n",
              "      <td>DZ</td>\n",
              "      <td>699</td>\n",
              "      <td>-2.0</td>\n",
              "      <td>2021-09-28</td>\n",
              "    </tr>\n",
              "  </tbody>\n",
              "</table>\n",
              "<p>577954 rows × 6 columns</p>\n",
              "</div>"
            ],
            "text/plain": [
              "         Cuenta         Mes  ... Importe en moneda doc.  Fecha compensación\n",
              "0       1001053       Enero  ...             -1557899.0          2021-01-06\n",
              "1       1001053       Enero  ...                29662.0          2021-01-06\n",
              "2       1001053       Enero  ...               179827.0          2021-01-06\n",
              "3       1001053       Enero  ...               107290.0          2021-01-06\n",
              "4       1001053       Enero  ...                84391.0          2021-01-06\n",
              "...         ...         ...  ...                    ...                 ...\n",
              "577949  7230233  Septiembre  ...                   -1.0          2021-09-28\n",
              "577950  7605495  Septiembre  ...                    1.0          2021-09-28\n",
              "577951  7605495  Septiembre  ...                   -1.0          2021-09-28\n",
              "577952  7607954  Septiembre  ...                    2.0          2021-09-28\n",
              "577953  7607954  Septiembre  ...                   -2.0          2021-09-28\n",
              "\n",
              "[577954 rows x 6 columns]"
            ]
          },
          "metadata": {},
          "execution_count": 4
        }
      ]
    },
    {
      "cell_type": "code",
      "metadata": {
        "id": "OPdcwqoQtp60"
      },
      "source": [
        "# Eliminamos la columna 'Fecha de compesanción' porque no aporta al análisis\n",
        "data.drop(['Fecha compensación'], axis = 1, inplace = True)"
      ],
      "execution_count": 5,
      "outputs": []
    },
    {
      "cell_type": "code",
      "metadata": {
        "id": "3Y388Kk0uxY-"
      },
      "source": [
        "# Cambiamos el nombre de las columnas\n",
        "data.rename(\n",
        "    columns = {\"Demora tras vencimiento neto\":\"Dias de atraso\",\"Importe en moneda doc.\":\"Importe\"\n",
        "    }, inplace= True)"
      ],
      "execution_count": 6,
      "outputs": []
    },
    {
      "cell_type": "code",
      "metadata": {
        "id": "SNRiDw6htp4x"
      },
      "source": [
        "# Creamos la función que cambia el elemento a un string\n",
        "def cambio_cuenta(x):\n",
        "  return str(x)\n",
        "\n",
        "# Aplicamos la función a la columna 'Cuenta' del dataset data\n",
        "data['Cuenta_2'] = data['Cuenta'].apply(cambio_cuenta) "
      ],
      "execution_count": 7,
      "outputs": []
    },
    {
      "cell_type": "code",
      "metadata": {
        "id": "klyamm_stp2t"
      },
      "source": [
        "# Eliminamos la columna 'Cuenta'\n",
        "data.drop(['Cuenta'], axis = 1, inplace = True)"
      ],
      "execution_count": 8,
      "outputs": []
    },
    {
      "cell_type": "code",
      "metadata": {
        "id": "5im7-a91tp0o"
      },
      "source": [
        "# Cambiamos el orden de las columnas\n",
        "data = data.reindex(columns=['Cuenta_2','Clase de documento','Dias de atraso','Importe'])"
      ],
      "execution_count": 9,
      "outputs": []
    },
    {
      "cell_type": "code",
      "metadata": {
        "id": "wrguPb14tpyU"
      },
      "source": [
        "# Eliminamos todos los documentos que no son 'DR' o 'YZ'\n",
        "df = data[~(data['Clase de documento'] == \"DR\") & ~(data['Clase de documento'] == \"YZ\")].index\n",
        "data.drop(df, inplace=True)"
      ],
      "execution_count": 10,
      "outputs": []
    },
    {
      "cell_type": "code",
      "metadata": {
        "id": "imTcgPIVtpwC"
      },
      "source": [
        "# Eliminamos todos los importes que son <= 0\n",
        "df1 = data[data['Importe'] <= 0].index\n",
        "data.drop(df1, inplace= True)"
      ],
      "execution_count": 11,
      "outputs": []
    },
    {
      "cell_type": "code",
      "metadata": {
        "id": "Ow31xI1stptu"
      },
      "source": [
        "# Re ajustamos el nombre de las variables\n",
        "data.rename(\n",
        "    columns = {'Cuenta_2':'Cuenta'}, inplace= True)"
      ],
      "execution_count": 12,
      "outputs": []
    },
    {
      "cell_type": "code",
      "metadata": {
        "id": "ltY9FnJCT8Rm"
      },
      "source": [
        "data = data.set_index(\"Cuenta\")"
      ],
      "execution_count": 13,
      "outputs": []
    },
    {
      "cell_type": "code",
      "metadata": {
        "id": "W71d0Hr6T8tI"
      },
      "source": [
        "data.drop([\"C3122\",\"C3126\",\"C3125\"], axis = 0, inplace=True)"
      ],
      "execution_count": 14,
      "outputs": []
    },
    {
      "cell_type": "code",
      "metadata": {
        "id": "4CEJ4lRiT_Wr"
      },
      "source": [
        "data.reset_index(inplace=True)"
      ],
      "execution_count": 15,
      "outputs": []
    },
    {
      "cell_type": "code",
      "metadata": {
        "colab": {
          "base_uri": "https://localhost:8080/",
          "height": 424
        },
        "id": "MQFv1yJQVXRB",
        "outputId": "5b2b33b2-a8d2-440d-aaa9-e11891b5fbf1"
      },
      "source": [
        "data"
      ],
      "execution_count": 16,
      "outputs": [
        {
          "output_type": "execute_result",
          "data": {
            "text/html": [
              "<div>\n",
              "<style scoped>\n",
              "    .dataframe tbody tr th:only-of-type {\n",
              "        vertical-align: middle;\n",
              "    }\n",
              "\n",
              "    .dataframe tbody tr th {\n",
              "        vertical-align: top;\n",
              "    }\n",
              "\n",
              "    .dataframe thead th {\n",
              "        text-align: right;\n",
              "    }\n",
              "</style>\n",
              "<table border=\"1\" class=\"dataframe\">\n",
              "  <thead>\n",
              "    <tr style=\"text-align: right;\">\n",
              "      <th></th>\n",
              "      <th>Cuenta</th>\n",
              "      <th>Clase de documento</th>\n",
              "      <th>Dias de atraso</th>\n",
              "      <th>Importe</th>\n",
              "    </tr>\n",
              "  </thead>\n",
              "  <tbody>\n",
              "    <tr>\n",
              "      <th>0</th>\n",
              "      <td>1001053</td>\n",
              "      <td>DR</td>\n",
              "      <td>49</td>\n",
              "      <td>29662.0</td>\n",
              "    </tr>\n",
              "    <tr>\n",
              "      <th>1</th>\n",
              "      <td>1001053</td>\n",
              "      <td>DR</td>\n",
              "      <td>46</td>\n",
              "      <td>179827.0</td>\n",
              "    </tr>\n",
              "    <tr>\n",
              "      <th>2</th>\n",
              "      <td>1001053</td>\n",
              "      <td>DR</td>\n",
              "      <td>45</td>\n",
              "      <td>107290.0</td>\n",
              "    </tr>\n",
              "    <tr>\n",
              "      <th>3</th>\n",
              "      <td>1001053</td>\n",
              "      <td>DR</td>\n",
              "      <td>40</td>\n",
              "      <td>84391.0</td>\n",
              "    </tr>\n",
              "    <tr>\n",
              "      <th>4</th>\n",
              "      <td>1001053</td>\n",
              "      <td>DR</td>\n",
              "      <td>32</td>\n",
              "      <td>572256.0</td>\n",
              "    </tr>\n",
              "    <tr>\n",
              "      <th>...</th>\n",
              "      <td>...</td>\n",
              "      <td>...</td>\n",
              "      <td>...</td>\n",
              "      <td>...</td>\n",
              "    </tr>\n",
              "    <tr>\n",
              "      <th>304824</th>\n",
              "      <td>3339572</td>\n",
              "      <td>DR</td>\n",
              "      <td>0</td>\n",
              "      <td>205880.0</td>\n",
              "    </tr>\n",
              "    <tr>\n",
              "      <th>304825</th>\n",
              "      <td>3339575</td>\n",
              "      <td>DR</td>\n",
              "      <td>0</td>\n",
              "      <td>56814.0</td>\n",
              "    </tr>\n",
              "    <tr>\n",
              "      <th>304826</th>\n",
              "      <td>3339740</td>\n",
              "      <td>DR</td>\n",
              "      <td>0</td>\n",
              "      <td>125189.0</td>\n",
              "    </tr>\n",
              "    <tr>\n",
              "      <th>304827</th>\n",
              "      <td>3339795</td>\n",
              "      <td>DR</td>\n",
              "      <td>0</td>\n",
              "      <td>56620.0</td>\n",
              "    </tr>\n",
              "    <tr>\n",
              "      <th>304828</th>\n",
              "      <td>5002509</td>\n",
              "      <td>DR</td>\n",
              "      <td>0</td>\n",
              "      <td>9238.0</td>\n",
              "    </tr>\n",
              "  </tbody>\n",
              "</table>\n",
              "<p>304829 rows × 4 columns</p>\n",
              "</div>"
            ],
            "text/plain": [
              "         Cuenta Clase de documento  Dias de atraso   Importe\n",
              "0       1001053                 DR              49   29662.0\n",
              "1       1001053                 DR              46  179827.0\n",
              "2       1001053                 DR              45  107290.0\n",
              "3       1001053                 DR              40   84391.0\n",
              "4       1001053                 DR              32  572256.0\n",
              "...         ...                ...             ...       ...\n",
              "304824  3339572                 DR               0  205880.0\n",
              "304825  3339575                 DR               0   56814.0\n",
              "304826  3339740                 DR               0  125189.0\n",
              "304827  3339795                 DR               0   56620.0\n",
              "304828  5002509                 DR               0    9238.0\n",
              "\n",
              "[304829 rows x 4 columns]"
            ]
          },
          "metadata": {},
          "execution_count": 16
        }
      ]
    },
    {
      "cell_type": "code",
      "metadata": {
        "colab": {
          "base_uri": "https://localhost:8080/"
        },
        "id": "ldtEeK7LlXpr",
        "outputId": "d858ba81-d60c-435e-f7e5-6dafb95f09a6"
      },
      "source": [
        "# Podemos ver la cantidad de filas y columnas\n",
        "data.shape"
      ],
      "execution_count": 17,
      "outputs": [
        {
          "output_type": "execute_result",
          "data": {
            "text/plain": [
              "(304829, 4)"
            ]
          },
          "metadata": {},
          "execution_count": 17
        }
      ]
    },
    {
      "cell_type": "code",
      "metadata": {
        "colab": {
          "base_uri": "https://localhost:8080/",
          "height": 300
        },
        "id": "knd1B7aFlXne",
        "outputId": "9279e21c-4f7b-4663-cf62-c6d97b110d19"
      },
      "source": [
        "# Vemos un análisis superficial de las variables\n",
        "data.describe()"
      ],
      "execution_count": 18,
      "outputs": [
        {
          "output_type": "execute_result",
          "data": {
            "text/html": [
              "<div>\n",
              "<style scoped>\n",
              "    .dataframe tbody tr th:only-of-type {\n",
              "        vertical-align: middle;\n",
              "    }\n",
              "\n",
              "    .dataframe tbody tr th {\n",
              "        vertical-align: top;\n",
              "    }\n",
              "\n",
              "    .dataframe thead th {\n",
              "        text-align: right;\n",
              "    }\n",
              "</style>\n",
              "<table border=\"1\" class=\"dataframe\">\n",
              "  <thead>\n",
              "    <tr style=\"text-align: right;\">\n",
              "      <th></th>\n",
              "      <th>Dias de atraso</th>\n",
              "      <th>Importe</th>\n",
              "    </tr>\n",
              "  </thead>\n",
              "  <tbody>\n",
              "    <tr>\n",
              "      <th>count</th>\n",
              "      <td>304829.000000</td>\n",
              "      <td>3.048290e+05</td>\n",
              "    </tr>\n",
              "    <tr>\n",
              "      <th>mean</th>\n",
              "      <td>17.362646</td>\n",
              "      <td>2.253261e+05</td>\n",
              "    </tr>\n",
              "    <tr>\n",
              "      <th>std</th>\n",
              "      <td>53.121713</td>\n",
              "      <td>1.292034e+06</td>\n",
              "    </tr>\n",
              "    <tr>\n",
              "      <th>min</th>\n",
              "      <td>-116.000000</td>\n",
              "      <td>1.000000e+00</td>\n",
              "    </tr>\n",
              "    <tr>\n",
              "      <th>25%</th>\n",
              "      <td>0.000000</td>\n",
              "      <td>4.281600e+04</td>\n",
              "    </tr>\n",
              "    <tr>\n",
              "      <th>50%</th>\n",
              "      <td>5.000000</td>\n",
              "      <td>9.172000e+04</td>\n",
              "    </tr>\n",
              "    <tr>\n",
              "      <th>75%</th>\n",
              "      <td>20.000000</td>\n",
              "      <td>1.934580e+05</td>\n",
              "    </tr>\n",
              "    <tr>\n",
              "      <th>max</th>\n",
              "      <td>1562.000000</td>\n",
              "      <td>2.547802e+08</td>\n",
              "    </tr>\n",
              "  </tbody>\n",
              "</table>\n",
              "</div>"
            ],
            "text/plain": [
              "       Dias de atraso       Importe\n",
              "count   304829.000000  3.048290e+05\n",
              "mean        17.362646  2.253261e+05\n",
              "std         53.121713  1.292034e+06\n",
              "min       -116.000000  1.000000e+00\n",
              "25%          0.000000  4.281600e+04\n",
              "50%          5.000000  9.172000e+04\n",
              "75%         20.000000  1.934580e+05\n",
              "max       1562.000000  2.547802e+08"
            ]
          },
          "metadata": {},
          "execution_count": 18
        }
      ]
    },
    {
      "cell_type": "code",
      "metadata": {
        "colab": {
          "base_uri": "https://localhost:8080/"
        },
        "id": "uFbNEgZ-lXlH",
        "outputId": "6e9f1d78-6bc5-496c-f526-e2969171ef75"
      },
      "source": [
        "# Vemos información superficial de las variables\n",
        "data.info()"
      ],
      "execution_count": 19,
      "outputs": [
        {
          "output_type": "stream",
          "name": "stdout",
          "text": [
            "<class 'pandas.core.frame.DataFrame'>\n",
            "RangeIndex: 304829 entries, 0 to 304828\n",
            "Data columns (total 4 columns):\n",
            " #   Column              Non-Null Count   Dtype  \n",
            "---  ------              --------------   -----  \n",
            " 0   Cuenta              304829 non-null  object \n",
            " 1   Clase de documento  304829 non-null  object \n",
            " 2   Dias de atraso      304829 non-null  int64  \n",
            " 3   Importe             304829 non-null  float64\n",
            "dtypes: float64(1), int64(1), object(2)\n",
            "memory usage: 9.3+ MB\n"
          ]
        }
      ]
    },
    {
      "cell_type": "markdown",
      "metadata": {
        "id": "G5o6Lh9gofB5"
      },
      "source": [
        "# Creación del DataFrame"
      ]
    },
    {
      "cell_type": "markdown",
      "metadata": {
        "id": "DL_QIjSRozsn"
      },
      "source": [
        "El DataFrame creado será una agrupación por cuenta y mostrará la siguiente:\n",
        "\n",
        "\n",
        "\n",
        "1.   Las cuentas de todos los clientes\n",
        "2.   Los días de atraso promedio de cada cliente\n",
        "3.   El importe promedio de cada clientes\n",
        "4.   La probabilidad que posee cada cliente en pagar su deuda en el tiempo establecido\n",
        "\n"
      ]
    },
    {
      "cell_type": "code",
      "metadata": {
        "id": "V-T0tPP1lXi2"
      },
      "source": [
        "# Creamos una dummy la cual tomará el valor de 1 si el cliente paga dentro del plazo establecido\n",
        "# y tomará el valor de 0 si el cliente paga atrasado\n",
        "data_dummies = pd.get_dummies(data['Dias de atraso'] <= 0)"
      ],
      "execution_count": 20,
      "outputs": []
    },
    {
      "cell_type": "code",
      "metadata": {
        "id": "J7LUGG-mtITL"
      },
      "source": [
        "# Agregamos la dummy a nuestro DataSet original\n",
        "data['Dummy'] = data_dummies[1]"
      ],
      "execution_count": 21,
      "outputs": []
    },
    {
      "cell_type": "code",
      "metadata": {
        "colab": {
          "base_uri": "https://localhost:8080/",
          "height": 455
        },
        "id": "eFOxSoTHlXeb",
        "outputId": "93caf3ff-1364-48fd-beab-a405c71d6bc1"
      },
      "source": [
        "# Ahora agrupamos el DataSet por cuenta y calculamos el promedio de cada variable\n",
        "data_groupby = round(data.groupby('Cuenta').mean(),2)\n",
        "\n",
        "# Cambiamos los nombres de las columnas\n",
        "data_groupby.rename(\n",
        "    columns = {'Dias de atraso':\"Atraso promedio\",\"Importe\":\"Importe promedio\",'Dummy':'Probabilidad de pago'\n",
        "    }, inplace= True)\n",
        "\n",
        "# Visualizamos el nuevo DataFrame\n",
        "data_groupby\n",
        "\n",
        "# Podemos ver que la columna 'Probabilidad de pago' muestra valores entre 0 y 1. \n",
        "# Esto se debe a que es el promedio de las dummies creadas anteriormente, lo que \n",
        "# nos revela la probabilidad de pagar a tiempo de los distintos clientes."
      ],
      "execution_count": 22,
      "outputs": [
        {
          "output_type": "execute_result",
          "data": {
            "text/html": [
              "<div>\n",
              "<style scoped>\n",
              "    .dataframe tbody tr th:only-of-type {\n",
              "        vertical-align: middle;\n",
              "    }\n",
              "\n",
              "    .dataframe tbody tr th {\n",
              "        vertical-align: top;\n",
              "    }\n",
              "\n",
              "    .dataframe thead th {\n",
              "        text-align: right;\n",
              "    }\n",
              "</style>\n",
              "<table border=\"1\" class=\"dataframe\">\n",
              "  <thead>\n",
              "    <tr style=\"text-align: right;\">\n",
              "      <th></th>\n",
              "      <th>Atraso promedio</th>\n",
              "      <th>Importe promedio</th>\n",
              "      <th>Probabilidad de pago</th>\n",
              "    </tr>\n",
              "    <tr>\n",
              "      <th>Cuenta</th>\n",
              "      <th></th>\n",
              "      <th></th>\n",
              "      <th></th>\n",
              "    </tr>\n",
              "  </thead>\n",
              "  <tbody>\n",
              "    <tr>\n",
              "      <th>1000988</th>\n",
              "      <td>10.33</td>\n",
              "      <td>209169.33</td>\n",
              "      <td>0.00</td>\n",
              "    </tr>\n",
              "    <tr>\n",
              "      <th>1001000</th>\n",
              "      <td>17.00</td>\n",
              "      <td>137064.00</td>\n",
              "      <td>0.00</td>\n",
              "    </tr>\n",
              "    <tr>\n",
              "      <th>1001004</th>\n",
              "      <td>240.14</td>\n",
              "      <td>40312.29</td>\n",
              "      <td>0.14</td>\n",
              "    </tr>\n",
              "    <tr>\n",
              "      <th>1001007</th>\n",
              "      <td>2.50</td>\n",
              "      <td>113220.58</td>\n",
              "      <td>0.50</td>\n",
              "    </tr>\n",
              "    <tr>\n",
              "      <th>1001010</th>\n",
              "      <td>36.00</td>\n",
              "      <td>94693.45</td>\n",
              "      <td>0.00</td>\n",
              "    </tr>\n",
              "    <tr>\n",
              "      <th>...</th>\n",
              "      <td>...</td>\n",
              "      <td>...</td>\n",
              "      <td>...</td>\n",
              "    </tr>\n",
              "    <tr>\n",
              "      <th>5500415</th>\n",
              "      <td>17.89</td>\n",
              "      <td>34299.40</td>\n",
              "      <td>0.17</td>\n",
              "    </tr>\n",
              "    <tr>\n",
              "      <th>5500423</th>\n",
              "      <td>1.00</td>\n",
              "      <td>8362.00</td>\n",
              "      <td>0.00</td>\n",
              "    </tr>\n",
              "    <tr>\n",
              "      <th>5500481</th>\n",
              "      <td>33.71</td>\n",
              "      <td>92968.00</td>\n",
              "      <td>0.00</td>\n",
              "    </tr>\n",
              "    <tr>\n",
              "      <th>7214487</th>\n",
              "      <td>612.00</td>\n",
              "      <td>568895.50</td>\n",
              "      <td>0.00</td>\n",
              "    </tr>\n",
              "    <tr>\n",
              "      <th>7372038</th>\n",
              "      <td>507.00</td>\n",
              "      <td>580125.00</td>\n",
              "      <td>0.00</td>\n",
              "    </tr>\n",
              "  </tbody>\n",
              "</table>\n",
              "<p>22981 rows × 3 columns</p>\n",
              "</div>"
            ],
            "text/plain": [
              "         Atraso promedio  Importe promedio  Probabilidad de pago\n",
              "Cuenta                                                          \n",
              "1000988            10.33         209169.33                  0.00\n",
              "1001000            17.00         137064.00                  0.00\n",
              "1001004           240.14          40312.29                  0.14\n",
              "1001007             2.50         113220.58                  0.50\n",
              "1001010            36.00          94693.45                  0.00\n",
              "...                  ...               ...                   ...\n",
              "5500415            17.89          34299.40                  0.17\n",
              "5500423             1.00           8362.00                  0.00\n",
              "5500481            33.71          92968.00                  0.00\n",
              "7214487           612.00         568895.50                  0.00\n",
              "7372038           507.00         580125.00                  0.00\n",
              "\n",
              "[22981 rows x 3 columns]"
            ]
          },
          "metadata": {},
          "execution_count": 22
        }
      ]
    },
    {
      "cell_type": "code",
      "metadata": {
        "colab": {
          "base_uri": "https://localhost:8080/"
        },
        "id": "i2zltLiO78zW",
        "outputId": "3cc74021-01ee-45c6-d480-a24518fa0978"
      },
      "source": [
        "data_groupby.columns"
      ],
      "execution_count": 23,
      "outputs": [
        {
          "output_type": "execute_result",
          "data": {
            "text/plain": [
              "Index(['Atraso promedio', 'Importe promedio', 'Probabilidad de pago'], dtype='object')"
            ]
          },
          "metadata": {},
          "execution_count": 23
        }
      ]
    },
    {
      "cell_type": "markdown",
      "metadata": {
        "id": "LD3arrxe6e4R"
      },
      "source": [
        "## Avance 16/11/21"
      ]
    },
    {
      "cell_type": "markdown",
      "metadata": {
        "id": "PSnHe1sR-7Yc"
      },
      "source": [
        "En este avance hice:\n",
        "\n",
        "\n",
        "*   Se creó una columna que cuenta las veces que el cliente realizó una compra\n",
        "*   Se combinó esa columna en el DF original\n",
        "*   Se descargó como csv para crear las etiquetas de clasificación\n",
        "\n"
      ]
    },
    {
      "cell_type": "code",
      "metadata": {
        "id": "pZoIzHeW6j8c"
      },
      "source": [
        "data_count = data.groupby('Cuenta').count()"
      ],
      "execution_count": 24,
      "outputs": []
    },
    {
      "cell_type": "code",
      "metadata": {
        "id": "uTNhEAfe6wbx"
      },
      "source": [
        "data_count.drop(['Clase de documento','Dias de atraso','Importe'], axis = 1, inplace = True)"
      ],
      "execution_count": 25,
      "outputs": []
    },
    {
      "cell_type": "code",
      "metadata": {
        "colab": {
          "base_uri": "https://localhost:8080/"
        },
        "id": "FaCYP54o8BDf",
        "outputId": "a575d024-aa03-46cf-cc17-4427f7d61136"
      },
      "source": [
        "data_count.columns"
      ],
      "execution_count": 26,
      "outputs": [
        {
          "output_type": "execute_result",
          "data": {
            "text/plain": [
              "Index(['Dummy'], dtype='object')"
            ]
          },
          "metadata": {},
          "execution_count": 26
        }
      ]
    },
    {
      "cell_type": "code",
      "metadata": {
        "colab": {
          "base_uri": "https://localhost:8080/",
          "height": 455
        },
        "id": "iN9SbWra7F5B",
        "outputId": "8cabb129-87ff-450a-9175-8ec68c473dad"
      },
      "source": [
        "data_count"
      ],
      "execution_count": 27,
      "outputs": [
        {
          "output_type": "execute_result",
          "data": {
            "text/html": [
              "<div>\n",
              "<style scoped>\n",
              "    .dataframe tbody tr th:only-of-type {\n",
              "        vertical-align: middle;\n",
              "    }\n",
              "\n",
              "    .dataframe tbody tr th {\n",
              "        vertical-align: top;\n",
              "    }\n",
              "\n",
              "    .dataframe thead th {\n",
              "        text-align: right;\n",
              "    }\n",
              "</style>\n",
              "<table border=\"1\" class=\"dataframe\">\n",
              "  <thead>\n",
              "    <tr style=\"text-align: right;\">\n",
              "      <th></th>\n",
              "      <th>Dummy</th>\n",
              "    </tr>\n",
              "    <tr>\n",
              "      <th>Cuenta</th>\n",
              "      <th></th>\n",
              "    </tr>\n",
              "  </thead>\n",
              "  <tbody>\n",
              "    <tr>\n",
              "      <th>1000988</th>\n",
              "      <td>3</td>\n",
              "    </tr>\n",
              "    <tr>\n",
              "      <th>1001000</th>\n",
              "      <td>1</td>\n",
              "    </tr>\n",
              "    <tr>\n",
              "      <th>1001004</th>\n",
              "      <td>7</td>\n",
              "    </tr>\n",
              "    <tr>\n",
              "      <th>1001007</th>\n",
              "      <td>12</td>\n",
              "    </tr>\n",
              "    <tr>\n",
              "      <th>1001010</th>\n",
              "      <td>11</td>\n",
              "    </tr>\n",
              "    <tr>\n",
              "      <th>...</th>\n",
              "      <td>...</td>\n",
              "    </tr>\n",
              "    <tr>\n",
              "      <th>5500415</th>\n",
              "      <td>35</td>\n",
              "    </tr>\n",
              "    <tr>\n",
              "      <th>5500423</th>\n",
              "      <td>1</td>\n",
              "    </tr>\n",
              "    <tr>\n",
              "      <th>5500481</th>\n",
              "      <td>7</td>\n",
              "    </tr>\n",
              "    <tr>\n",
              "      <th>7214487</th>\n",
              "      <td>2</td>\n",
              "    </tr>\n",
              "    <tr>\n",
              "      <th>7372038</th>\n",
              "      <td>1</td>\n",
              "    </tr>\n",
              "  </tbody>\n",
              "</table>\n",
              "<p>22981 rows × 1 columns</p>\n",
              "</div>"
            ],
            "text/plain": [
              "         Dummy\n",
              "Cuenta        \n",
              "1000988      3\n",
              "1001000      1\n",
              "1001004      7\n",
              "1001007     12\n",
              "1001010     11\n",
              "...        ...\n",
              "5500415     35\n",
              "5500423      1\n",
              "5500481      7\n",
              "7214487      2\n",
              "7372038      1\n",
              "\n",
              "[22981 rows x 1 columns]"
            ]
          },
          "metadata": {},
          "execution_count": 27
        }
      ]
    },
    {
      "cell_type": "code",
      "metadata": {
        "id": "v1pRDmUelXcP"
      },
      "source": [
        "# e.g. save pandas output as csv\n",
        "#data_groupby.to_csv('Data_trabajada.csv')"
      ],
      "execution_count": 28,
      "outputs": []
    },
    {
      "cell_type": "code",
      "metadata": {
        "id": "9tnaiDjRlXaB"
      },
      "source": [
        "#data_t = pd.read_csv('Data_trabajada.csv')"
      ],
      "execution_count": 29,
      "outputs": []
    },
    {
      "cell_type": "code",
      "metadata": {
        "id": "Rx63GgIglXX2"
      },
      "source": [
        "#data_t"
      ],
      "execution_count": 30,
      "outputs": []
    },
    {
      "cell_type": "code",
      "metadata": {
        "id": "AtW5aYi3-T-I"
      },
      "source": [
        "combinado = pd.merge(data_groupby, data_count, on='Cuenta', how='left')"
      ],
      "execution_count": 45,
      "outputs": []
    },
    {
      "cell_type": "code",
      "metadata": {
        "colab": {
          "base_uri": "https://localhost:8080/",
          "height": 455
        },
        "id": "QD6nv22P-T7x",
        "outputId": "5cfbf0a7-c06d-4ce4-bbbc-e0f9c85393cf"
      },
      "source": [
        "combinado"
      ],
      "execution_count": 46,
      "outputs": [
        {
          "output_type": "execute_result",
          "data": {
            "text/html": [
              "<div>\n",
              "<style scoped>\n",
              "    .dataframe tbody tr th:only-of-type {\n",
              "        vertical-align: middle;\n",
              "    }\n",
              "\n",
              "    .dataframe tbody tr th {\n",
              "        vertical-align: top;\n",
              "    }\n",
              "\n",
              "    .dataframe thead th {\n",
              "        text-align: right;\n",
              "    }\n",
              "</style>\n",
              "<table border=\"1\" class=\"dataframe\">\n",
              "  <thead>\n",
              "    <tr style=\"text-align: right;\">\n",
              "      <th></th>\n",
              "      <th>Atraso promedio</th>\n",
              "      <th>Importe promedio</th>\n",
              "      <th>Probabilidad de pago</th>\n",
              "      <th>Dummy</th>\n",
              "    </tr>\n",
              "    <tr>\n",
              "      <th>Cuenta</th>\n",
              "      <th></th>\n",
              "      <th></th>\n",
              "      <th></th>\n",
              "      <th></th>\n",
              "    </tr>\n",
              "  </thead>\n",
              "  <tbody>\n",
              "    <tr>\n",
              "      <th>1000988</th>\n",
              "      <td>10.33</td>\n",
              "      <td>209169.33</td>\n",
              "      <td>0.00</td>\n",
              "      <td>3</td>\n",
              "    </tr>\n",
              "    <tr>\n",
              "      <th>1001000</th>\n",
              "      <td>17.00</td>\n",
              "      <td>137064.00</td>\n",
              "      <td>0.00</td>\n",
              "      <td>1</td>\n",
              "    </tr>\n",
              "    <tr>\n",
              "      <th>1001004</th>\n",
              "      <td>240.14</td>\n",
              "      <td>40312.29</td>\n",
              "      <td>0.14</td>\n",
              "      <td>7</td>\n",
              "    </tr>\n",
              "    <tr>\n",
              "      <th>1001007</th>\n",
              "      <td>2.50</td>\n",
              "      <td>113220.58</td>\n",
              "      <td>0.50</td>\n",
              "      <td>12</td>\n",
              "    </tr>\n",
              "    <tr>\n",
              "      <th>1001010</th>\n",
              "      <td>36.00</td>\n",
              "      <td>94693.45</td>\n",
              "      <td>0.00</td>\n",
              "      <td>11</td>\n",
              "    </tr>\n",
              "    <tr>\n",
              "      <th>...</th>\n",
              "      <td>...</td>\n",
              "      <td>...</td>\n",
              "      <td>...</td>\n",
              "      <td>...</td>\n",
              "    </tr>\n",
              "    <tr>\n",
              "      <th>5500415</th>\n",
              "      <td>17.89</td>\n",
              "      <td>34299.40</td>\n",
              "      <td>0.17</td>\n",
              "      <td>35</td>\n",
              "    </tr>\n",
              "    <tr>\n",
              "      <th>5500423</th>\n",
              "      <td>1.00</td>\n",
              "      <td>8362.00</td>\n",
              "      <td>0.00</td>\n",
              "      <td>1</td>\n",
              "    </tr>\n",
              "    <tr>\n",
              "      <th>5500481</th>\n",
              "      <td>33.71</td>\n",
              "      <td>92968.00</td>\n",
              "      <td>0.00</td>\n",
              "      <td>7</td>\n",
              "    </tr>\n",
              "    <tr>\n",
              "      <th>7214487</th>\n",
              "      <td>612.00</td>\n",
              "      <td>568895.50</td>\n",
              "      <td>0.00</td>\n",
              "      <td>2</td>\n",
              "    </tr>\n",
              "    <tr>\n",
              "      <th>7372038</th>\n",
              "      <td>507.00</td>\n",
              "      <td>580125.00</td>\n",
              "      <td>0.00</td>\n",
              "      <td>1</td>\n",
              "    </tr>\n",
              "  </tbody>\n",
              "</table>\n",
              "<p>22981 rows × 4 columns</p>\n",
              "</div>"
            ],
            "text/plain": [
              "         Atraso promedio  Importe promedio  Probabilidad de pago  Dummy\n",
              "Cuenta                                                                 \n",
              "1000988            10.33         209169.33                  0.00      3\n",
              "1001000            17.00         137064.00                  0.00      1\n",
              "1001004           240.14          40312.29                  0.14      7\n",
              "1001007             2.50         113220.58                  0.50     12\n",
              "1001010            36.00          94693.45                  0.00     11\n",
              "...                  ...               ...                   ...    ...\n",
              "5500415            17.89          34299.40                  0.17     35\n",
              "5500423             1.00           8362.00                  0.00      1\n",
              "5500481            33.71          92968.00                  0.00      7\n",
              "7214487           612.00         568895.50                  0.00      2\n",
              "7372038           507.00         580125.00                  0.00      1\n",
              "\n",
              "[22981 rows x 4 columns]"
            ]
          },
          "metadata": {},
          "execution_count": 46
        }
      ]
    },
    {
      "cell_type": "code",
      "metadata": {
        "id": "8NcIGzzvXeaC"
      },
      "source": [
        "combinado.rename(\n",
        "    columns = {'Dummy':'Contador ventas'}, inplace= True)"
      ],
      "execution_count": 47,
      "outputs": []
    },
    {
      "cell_type": "code",
      "metadata": {
        "colab": {
          "base_uri": "https://localhost:8080/",
          "height": 300
        },
        "id": "tnQeApVl-T5s",
        "outputId": "4450f8f8-2fbb-4d49-ea59-5f7d37852d71"
      },
      "source": [
        "combinado.describe()"
      ],
      "execution_count": 48,
      "outputs": [
        {
          "output_type": "execute_result",
          "data": {
            "text/html": [
              "<div>\n",
              "<style scoped>\n",
              "    .dataframe tbody tr th:only-of-type {\n",
              "        vertical-align: middle;\n",
              "    }\n",
              "\n",
              "    .dataframe tbody tr th {\n",
              "        vertical-align: top;\n",
              "    }\n",
              "\n",
              "    .dataframe thead th {\n",
              "        text-align: right;\n",
              "    }\n",
              "</style>\n",
              "<table border=\"1\" class=\"dataframe\">\n",
              "  <thead>\n",
              "    <tr style=\"text-align: right;\">\n",
              "      <th></th>\n",
              "      <th>Atraso promedio</th>\n",
              "      <th>Importe promedio</th>\n",
              "      <th>Probabilidad de pago</th>\n",
              "      <th>Contador ventas</th>\n",
              "    </tr>\n",
              "  </thead>\n",
              "  <tbody>\n",
              "    <tr>\n",
              "      <th>count</th>\n",
              "      <td>22981.000000</td>\n",
              "      <td>2.298100e+04</td>\n",
              "      <td>22981.000000</td>\n",
              "      <td>22981.000000</td>\n",
              "    </tr>\n",
              "    <tr>\n",
              "      <th>mean</th>\n",
              "      <td>17.358722</td>\n",
              "      <td>1.954307e+05</td>\n",
              "      <td>0.318394</td>\n",
              "      <td>13.264392</td>\n",
              "    </tr>\n",
              "    <tr>\n",
              "      <th>std</th>\n",
              "      <td>54.841754</td>\n",
              "      <td>6.655522e+05</td>\n",
              "      <td>0.373430</td>\n",
              "      <td>48.258758</td>\n",
              "    </tr>\n",
              "    <tr>\n",
              "      <th>min</th>\n",
              "      <td>-88.040000</td>\n",
              "      <td>2.000000e+00</td>\n",
              "      <td>0.000000</td>\n",
              "      <td>1.000000</td>\n",
              "    </tr>\n",
              "    <tr>\n",
              "      <th>25%</th>\n",
              "      <td>0.500000</td>\n",
              "      <td>6.193133e+04</td>\n",
              "      <td>0.000000</td>\n",
              "      <td>2.000000</td>\n",
              "    </tr>\n",
              "    <tr>\n",
              "      <th>50%</th>\n",
              "      <td>3.520000</td>\n",
              "      <td>1.040080e+05</td>\n",
              "      <td>0.140000</td>\n",
              "      <td>5.000000</td>\n",
              "    </tr>\n",
              "    <tr>\n",
              "      <th>75%</th>\n",
              "      <td>16.620000</td>\n",
              "      <td>1.806340e+05</td>\n",
              "      <td>0.600000</td>\n",
              "      <td>12.000000</td>\n",
              "    </tr>\n",
              "    <tr>\n",
              "      <th>max</th>\n",
              "      <td>999.000000</td>\n",
              "      <td>5.624249e+07</td>\n",
              "      <td>1.000000</td>\n",
              "      <td>3107.000000</td>\n",
              "    </tr>\n",
              "  </tbody>\n",
              "</table>\n",
              "</div>"
            ],
            "text/plain": [
              "       Atraso promedio  Importe promedio  Probabilidad de pago  Contador ventas\n",
              "count     22981.000000      2.298100e+04          22981.000000     22981.000000\n",
              "mean         17.358722      1.954307e+05              0.318394        13.264392\n",
              "std          54.841754      6.655522e+05              0.373430        48.258758\n",
              "min         -88.040000      2.000000e+00              0.000000         1.000000\n",
              "25%           0.500000      6.193133e+04              0.000000         2.000000\n",
              "50%           3.520000      1.040080e+05              0.140000         5.000000\n",
              "75%          16.620000      1.806340e+05              0.600000        12.000000\n",
              "max         999.000000      5.624249e+07              1.000000      3107.000000"
            ]
          },
          "metadata": {},
          "execution_count": 48
        }
      ]
    },
    {
      "cell_type": "code",
      "metadata": {
        "colab": {
          "base_uri": "https://localhost:8080/",
          "height": 455
        },
        "id": "IeSK7RkXRqMl",
        "outputId": "82f110d2-d05b-49fb-edbf-69ae6d128a7e"
      },
      "source": [
        "combinado"
      ],
      "execution_count": 36,
      "outputs": [
        {
          "output_type": "execute_result",
          "data": {
            "text/html": [
              "<div>\n",
              "<style scoped>\n",
              "    .dataframe tbody tr th:only-of-type {\n",
              "        vertical-align: middle;\n",
              "    }\n",
              "\n",
              "    .dataframe tbody tr th {\n",
              "        vertical-align: top;\n",
              "    }\n",
              "\n",
              "    .dataframe thead th {\n",
              "        text-align: right;\n",
              "    }\n",
              "</style>\n",
              "<table border=\"1\" class=\"dataframe\">\n",
              "  <thead>\n",
              "    <tr style=\"text-align: right;\">\n",
              "      <th></th>\n",
              "      <th>Atraso promedio</th>\n",
              "      <th>Importe promedio</th>\n",
              "      <th>Probabilidad de pago</th>\n",
              "      <th>Contador ventas</th>\n",
              "    </tr>\n",
              "    <tr>\n",
              "      <th>Cuenta</th>\n",
              "      <th></th>\n",
              "      <th></th>\n",
              "      <th></th>\n",
              "      <th></th>\n",
              "    </tr>\n",
              "  </thead>\n",
              "  <tbody>\n",
              "    <tr>\n",
              "      <th>1000988</th>\n",
              "      <td>10.33</td>\n",
              "      <td>209169.33</td>\n",
              "      <td>0.00</td>\n",
              "      <td>3</td>\n",
              "    </tr>\n",
              "    <tr>\n",
              "      <th>1001000</th>\n",
              "      <td>17.00</td>\n",
              "      <td>137064.00</td>\n",
              "      <td>0.00</td>\n",
              "      <td>1</td>\n",
              "    </tr>\n",
              "    <tr>\n",
              "      <th>1001004</th>\n",
              "      <td>240.14</td>\n",
              "      <td>40312.29</td>\n",
              "      <td>0.14</td>\n",
              "      <td>7</td>\n",
              "    </tr>\n",
              "    <tr>\n",
              "      <th>1001007</th>\n",
              "      <td>2.50</td>\n",
              "      <td>113220.58</td>\n",
              "      <td>0.50</td>\n",
              "      <td>12</td>\n",
              "    </tr>\n",
              "    <tr>\n",
              "      <th>1001010</th>\n",
              "      <td>36.00</td>\n",
              "      <td>94693.45</td>\n",
              "      <td>0.00</td>\n",
              "      <td>11</td>\n",
              "    </tr>\n",
              "    <tr>\n",
              "      <th>...</th>\n",
              "      <td>...</td>\n",
              "      <td>...</td>\n",
              "      <td>...</td>\n",
              "      <td>...</td>\n",
              "    </tr>\n",
              "    <tr>\n",
              "      <th>5500415</th>\n",
              "      <td>17.89</td>\n",
              "      <td>34299.40</td>\n",
              "      <td>0.17</td>\n",
              "      <td>35</td>\n",
              "    </tr>\n",
              "    <tr>\n",
              "      <th>5500423</th>\n",
              "      <td>1.00</td>\n",
              "      <td>8362.00</td>\n",
              "      <td>0.00</td>\n",
              "      <td>1</td>\n",
              "    </tr>\n",
              "    <tr>\n",
              "      <th>5500481</th>\n",
              "      <td>33.71</td>\n",
              "      <td>92968.00</td>\n",
              "      <td>0.00</td>\n",
              "      <td>7</td>\n",
              "    </tr>\n",
              "    <tr>\n",
              "      <th>7214487</th>\n",
              "      <td>612.00</td>\n",
              "      <td>568895.50</td>\n",
              "      <td>0.00</td>\n",
              "      <td>2</td>\n",
              "    </tr>\n",
              "    <tr>\n",
              "      <th>7372038</th>\n",
              "      <td>507.00</td>\n",
              "      <td>580125.00</td>\n",
              "      <td>0.00</td>\n",
              "      <td>1</td>\n",
              "    </tr>\n",
              "  </tbody>\n",
              "</table>\n",
              "<p>22981 rows × 4 columns</p>\n",
              "</div>"
            ],
            "text/plain": [
              "         Atraso promedio  ...  Contador ventas\n",
              "Cuenta                    ...                 \n",
              "1000988            10.33  ...                3\n",
              "1001000            17.00  ...                1\n",
              "1001004           240.14  ...                7\n",
              "1001007             2.50  ...               12\n",
              "1001010            36.00  ...               11\n",
              "...                  ...  ...              ...\n",
              "5500415            17.89  ...               35\n",
              "5500423             1.00  ...                1\n",
              "5500481            33.71  ...                7\n",
              "7214487           612.00  ...                2\n",
              "7372038           507.00  ...                1\n",
              "\n",
              "[22981 rows x 4 columns]"
            ]
          },
          "metadata": {},
          "execution_count": 36
        }
      ]
    },
    {
      "cell_type": "code",
      "metadata": {
        "id": "1nBfOnHQVjJi"
      },
      "source": [
        "combinado = combinado[combinado['Contador ventas'] >= 5]"
      ],
      "execution_count": 49,
      "outputs": []
    },
    {
      "cell_type": "code",
      "metadata": {
        "colab": {
          "base_uri": "https://localhost:8080/",
          "height": 455
        },
        "id": "ePjS_Z9HVtmz",
        "outputId": "96eb857c-6486-4c61-cd00-f4d9044fe689"
      },
      "source": [
        "combinado"
      ],
      "execution_count": 50,
      "outputs": [
        {
          "output_type": "execute_result",
          "data": {
            "text/html": [
              "<div>\n",
              "<style scoped>\n",
              "    .dataframe tbody tr th:only-of-type {\n",
              "        vertical-align: middle;\n",
              "    }\n",
              "\n",
              "    .dataframe tbody tr th {\n",
              "        vertical-align: top;\n",
              "    }\n",
              "\n",
              "    .dataframe thead th {\n",
              "        text-align: right;\n",
              "    }\n",
              "</style>\n",
              "<table border=\"1\" class=\"dataframe\">\n",
              "  <thead>\n",
              "    <tr style=\"text-align: right;\">\n",
              "      <th></th>\n",
              "      <th>Atraso promedio</th>\n",
              "      <th>Importe promedio</th>\n",
              "      <th>Probabilidad de pago</th>\n",
              "      <th>Contador ventas</th>\n",
              "    </tr>\n",
              "    <tr>\n",
              "      <th>Cuenta</th>\n",
              "      <th></th>\n",
              "      <th></th>\n",
              "      <th></th>\n",
              "      <th></th>\n",
              "    </tr>\n",
              "  </thead>\n",
              "  <tbody>\n",
              "    <tr>\n",
              "      <th>1001004</th>\n",
              "      <td>240.14</td>\n",
              "      <td>40312.29</td>\n",
              "      <td>0.14</td>\n",
              "      <td>7</td>\n",
              "    </tr>\n",
              "    <tr>\n",
              "      <th>1001007</th>\n",
              "      <td>2.50</td>\n",
              "      <td>113220.58</td>\n",
              "      <td>0.50</td>\n",
              "      <td>12</td>\n",
              "    </tr>\n",
              "    <tr>\n",
              "      <th>1001010</th>\n",
              "      <td>36.00</td>\n",
              "      <td>94693.45</td>\n",
              "      <td>0.00</td>\n",
              "      <td>11</td>\n",
              "    </tr>\n",
              "    <tr>\n",
              "      <th>1001028</th>\n",
              "      <td>9.92</td>\n",
              "      <td>145462.83</td>\n",
              "      <td>0.00</td>\n",
              "      <td>12</td>\n",
              "    </tr>\n",
              "    <tr>\n",
              "      <th>1001030</th>\n",
              "      <td>52.50</td>\n",
              "      <td>933427.50</td>\n",
              "      <td>0.00</td>\n",
              "      <td>10</td>\n",
              "    </tr>\n",
              "    <tr>\n",
              "      <th>...</th>\n",
              "      <td>...</td>\n",
              "      <td>...</td>\n",
              "      <td>...</td>\n",
              "      <td>...</td>\n",
              "    </tr>\n",
              "    <tr>\n",
              "      <th>3331698</th>\n",
              "      <td>0.00</td>\n",
              "      <td>114003.80</td>\n",
              "      <td>1.00</td>\n",
              "      <td>5</td>\n",
              "    </tr>\n",
              "    <tr>\n",
              "      <th>3333476</th>\n",
              "      <td>2.80</td>\n",
              "      <td>192612.80</td>\n",
              "      <td>0.20</td>\n",
              "      <td>5</td>\n",
              "    </tr>\n",
              "    <tr>\n",
              "      <th>5500093</th>\n",
              "      <td>7.30</td>\n",
              "      <td>119913.62</td>\n",
              "      <td>0.00</td>\n",
              "      <td>130</td>\n",
              "    </tr>\n",
              "    <tr>\n",
              "      <th>5500415</th>\n",
              "      <td>17.89</td>\n",
              "      <td>34299.40</td>\n",
              "      <td>0.17</td>\n",
              "      <td>35</td>\n",
              "    </tr>\n",
              "    <tr>\n",
              "      <th>5500481</th>\n",
              "      <td>33.71</td>\n",
              "      <td>92968.00</td>\n",
              "      <td>0.00</td>\n",
              "      <td>7</td>\n",
              "    </tr>\n",
              "  </tbody>\n",
              "</table>\n",
              "<p>11976 rows × 4 columns</p>\n",
              "</div>"
            ],
            "text/plain": [
              "         Atraso promedio  ...  Contador ventas\n",
              "Cuenta                    ...                 \n",
              "1001004           240.14  ...                7\n",
              "1001007             2.50  ...               12\n",
              "1001010            36.00  ...               11\n",
              "1001028             9.92  ...               12\n",
              "1001030            52.50  ...               10\n",
              "...                  ...  ...              ...\n",
              "3331698             0.00  ...                5\n",
              "3333476             2.80  ...                5\n",
              "5500093             7.30  ...              130\n",
              "5500415            17.89  ...               35\n",
              "5500481            33.71  ...                7\n",
              "\n",
              "[11976 rows x 4 columns]"
            ]
          },
          "metadata": {},
          "execution_count": 50
        }
      ]
    },
    {
      "cell_type": "code",
      "metadata": {
        "colab": {
          "base_uri": "https://localhost:8080/",
          "height": 175
        },
        "id": "ADdephH1XyGO",
        "outputId": "30c67132-8951-497f-9019-7629b0327a39"
      },
      "source": [
        "combinado.corr()"
      ],
      "execution_count": 51,
      "outputs": [
        {
          "output_type": "execute_result",
          "data": {
            "text/html": [
              "<div>\n",
              "<style scoped>\n",
              "    .dataframe tbody tr th:only-of-type {\n",
              "        vertical-align: middle;\n",
              "    }\n",
              "\n",
              "    .dataframe tbody tr th {\n",
              "        vertical-align: top;\n",
              "    }\n",
              "\n",
              "    .dataframe thead th {\n",
              "        text-align: right;\n",
              "    }\n",
              "</style>\n",
              "<table border=\"1\" class=\"dataframe\">\n",
              "  <thead>\n",
              "    <tr style=\"text-align: right;\">\n",
              "      <th></th>\n",
              "      <th>Atraso promedio</th>\n",
              "      <th>Importe promedio</th>\n",
              "      <th>Probabilidad de pago</th>\n",
              "      <th>Contador ventas</th>\n",
              "    </tr>\n",
              "  </thead>\n",
              "  <tbody>\n",
              "    <tr>\n",
              "      <th>Atraso promedio</th>\n",
              "      <td>1.000000</td>\n",
              "      <td>0.028237</td>\n",
              "      <td>-0.407823</td>\n",
              "      <td>0.039475</td>\n",
              "    </tr>\n",
              "    <tr>\n",
              "      <th>Importe promedio</th>\n",
              "      <td>0.028237</td>\n",
              "      <td>1.000000</td>\n",
              "      <td>0.013561</td>\n",
              "      <td>0.016686</td>\n",
              "    </tr>\n",
              "    <tr>\n",
              "      <th>Probabilidad de pago</th>\n",
              "      <td>-0.407823</td>\n",
              "      <td>0.013561</td>\n",
              "      <td>1.000000</td>\n",
              "      <td>-0.055451</td>\n",
              "    </tr>\n",
              "    <tr>\n",
              "      <th>Contador ventas</th>\n",
              "      <td>0.039475</td>\n",
              "      <td>0.016686</td>\n",
              "      <td>-0.055451</td>\n",
              "      <td>1.000000</td>\n",
              "    </tr>\n",
              "  </tbody>\n",
              "</table>\n",
              "</div>"
            ],
            "text/plain": [
              "                      Atraso promedio  ...  Contador ventas\n",
              "Atraso promedio              1.000000  ...         0.039475\n",
              "Importe promedio             0.028237  ...         0.016686\n",
              "Probabilidad de pago        -0.407823  ...        -0.055451\n",
              "Contador ventas              0.039475  ...         1.000000\n",
              "\n",
              "[4 rows x 4 columns]"
            ]
          },
          "metadata": {},
          "execution_count": 51
        }
      ]
    },
    {
      "cell_type": "code",
      "metadata": {
        "id": "PFnYdLycYRE6"
      },
      "source": [
        "combinado.to_csv('Data_trabajada.csv')"
      ],
      "execution_count": null,
      "outputs": []
    },
    {
      "cell_type": "markdown",
      "metadata": {
        "id": "rA6YDXMwc5Vk"
      },
      "source": [
        "## Gráficos"
      ]
    },
    {
      "cell_type": "code",
      "metadata": {
        "id": "g-gTqERHkOsD"
      },
      "source": [
        "sns.histplot(data=combinado, x='Contador ventas')\n",
        "plt.show()"
      ],
      "execution_count": null,
      "outputs": []
    },
    {
      "cell_type": "code",
      "metadata": {
        "id": "MWmxXs_Rc68j"
      },
      "source": [
        "sns.histplot(data=combinado, x='Contador ventas', binwidth= 1, kde = True)\n",
        "plt.xlim([0,20])\n",
        "plt.ylim([0,5000])\n",
        "plt.show()"
      ],
      "execution_count": null,
      "outputs": []
    },
    {
      "cell_type": "code",
      "metadata": {
        "id": "Ix78yE-h-T3L"
      },
      "source": [
        "sns.boxplot(data=combinado, x='Atraso promedio')"
      ],
      "execution_count": null,
      "outputs": []
    },
    {
      "cell_type": "code",
      "metadata": {
        "id": "anvoUU2G-T0x"
      },
      "source": [
        ""
      ],
      "execution_count": null,
      "outputs": []
    },
    {
      "cell_type": "code",
      "metadata": {
        "id": "5g5EK7LUlXVl"
      },
      "source": [
        ""
      ],
      "execution_count": null,
      "outputs": []
    }
  ]
}